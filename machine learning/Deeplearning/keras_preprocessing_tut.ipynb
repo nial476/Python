{
 "cells": [
  {
   "cell_type": "code",
   "execution_count": 54,
   "metadata": {},
   "outputs": [
    {
     "data": {
      "text/html": [
       "        <script type=\"text/javascript\">\n",
       "        window.PlotlyConfig = {MathJaxConfig: 'local'};\n",
       "        if (window.MathJax) {MathJax.Hub.Config({SVG: {font: \"STIX-Web\"}});}\n",
       "        if (typeof require !== 'undefined') {\n",
       "        require.undef(\"plotly\");\n",
       "        requirejs.config({\n",
       "            paths: {\n",
       "                'plotly': ['https://cdn.plot.ly/plotly-latest.min']\n",
       "            }\n",
       "        });\n",
       "        require(['plotly'], function(Plotly) {\n",
       "            window._Plotly = Plotly;\n",
       "        });\n",
       "        }\n",
       "        </script>\n",
       "        "
      ]
     },
     "metadata": {},
     "output_type": "display_data"
    },
    {
     "data": {
      "text/html": [
       "        <script type=\"text/javascript\">\n",
       "        window.PlotlyConfig = {MathJaxConfig: 'local'};\n",
       "        if (window.MathJax) {MathJax.Hub.Config({SVG: {font: \"STIX-Web\"}});}\n",
       "        if (typeof require !== 'undefined') {\n",
       "        require.undef(\"plotly\");\n",
       "        requirejs.config({\n",
       "            paths: {\n",
       "                'plotly': ['https://cdn.plot.ly/plotly-latest.min']\n",
       "            }\n",
       "        });\n",
       "        require(['plotly'], function(Plotly) {\n",
       "            window._Plotly = Plotly;\n",
       "        });\n",
       "        }\n",
       "        </script>\n",
       "        "
      ]
     },
     "metadata": {},
     "output_type": "display_data"
    }
   ],
   "source": [
    "import pandas as pd\n",
    "import numpy as np\n",
    "import matplotlib.pyplot as plt\n",
    "import seaborn as sns\n",
    "%matplotlib inline\n",
    "sns.set()\n",
    "import cufflinks as cf\n",
    "from plotly.offline import download_plotlyjs, plot, iplot, init_notebook_mode\n",
    "init_notebook_mode(connected=True)\n",
    "cf.go_offline()"
   ]
  },
  {
   "cell_type": "code",
   "execution_count": 2,
   "metadata": {},
   "outputs": [],
   "source": [
    "df = pd.read_csv('DATA/cancer_classification.csv')"
   ]
  },
  {
   "cell_type": "code",
   "execution_count": 3,
   "metadata": {},
   "outputs": [
    {
     "data": {
      "text/html": [
       "<div>\n",
       "<style scoped>\n",
       "    .dataframe tbody tr th:only-of-type {\n",
       "        vertical-align: middle;\n",
       "    }\n",
       "\n",
       "    .dataframe tbody tr th {\n",
       "        vertical-align: top;\n",
       "    }\n",
       "\n",
       "    .dataframe thead th {\n",
       "        text-align: right;\n",
       "    }\n",
       "</style>\n",
       "<table border=\"1\" class=\"dataframe\">\n",
       "  <thead>\n",
       "    <tr style=\"text-align: right;\">\n",
       "      <th></th>\n",
       "      <th>mean radius</th>\n",
       "      <th>mean texture</th>\n",
       "      <th>mean perimeter</th>\n",
       "      <th>mean area</th>\n",
       "      <th>mean smoothness</th>\n",
       "      <th>mean compactness</th>\n",
       "      <th>mean concavity</th>\n",
       "      <th>mean concave points</th>\n",
       "      <th>mean symmetry</th>\n",
       "      <th>mean fractal dimension</th>\n",
       "      <th>...</th>\n",
       "      <th>worst texture</th>\n",
       "      <th>worst perimeter</th>\n",
       "      <th>worst area</th>\n",
       "      <th>worst smoothness</th>\n",
       "      <th>worst compactness</th>\n",
       "      <th>worst concavity</th>\n",
       "      <th>worst concave points</th>\n",
       "      <th>worst symmetry</th>\n",
       "      <th>worst fractal dimension</th>\n",
       "      <th>benign_0__mal_1</th>\n",
       "    </tr>\n",
       "  </thead>\n",
       "  <tbody>\n",
       "    <tr>\n",
       "      <th>0</th>\n",
       "      <td>17.99</td>\n",
       "      <td>10.38</td>\n",
       "      <td>122.80</td>\n",
       "      <td>1001.0</td>\n",
       "      <td>0.11840</td>\n",
       "      <td>0.27760</td>\n",
       "      <td>0.3001</td>\n",
       "      <td>0.14710</td>\n",
       "      <td>0.2419</td>\n",
       "      <td>0.07871</td>\n",
       "      <td>...</td>\n",
       "      <td>17.33</td>\n",
       "      <td>184.60</td>\n",
       "      <td>2019.0</td>\n",
       "      <td>0.1622</td>\n",
       "      <td>0.6656</td>\n",
       "      <td>0.7119</td>\n",
       "      <td>0.2654</td>\n",
       "      <td>0.4601</td>\n",
       "      <td>0.11890</td>\n",
       "      <td>0</td>\n",
       "    </tr>\n",
       "    <tr>\n",
       "      <th>1</th>\n",
       "      <td>20.57</td>\n",
       "      <td>17.77</td>\n",
       "      <td>132.90</td>\n",
       "      <td>1326.0</td>\n",
       "      <td>0.08474</td>\n",
       "      <td>0.07864</td>\n",
       "      <td>0.0869</td>\n",
       "      <td>0.07017</td>\n",
       "      <td>0.1812</td>\n",
       "      <td>0.05667</td>\n",
       "      <td>...</td>\n",
       "      <td>23.41</td>\n",
       "      <td>158.80</td>\n",
       "      <td>1956.0</td>\n",
       "      <td>0.1238</td>\n",
       "      <td>0.1866</td>\n",
       "      <td>0.2416</td>\n",
       "      <td>0.1860</td>\n",
       "      <td>0.2750</td>\n",
       "      <td>0.08902</td>\n",
       "      <td>0</td>\n",
       "    </tr>\n",
       "    <tr>\n",
       "      <th>2</th>\n",
       "      <td>19.69</td>\n",
       "      <td>21.25</td>\n",
       "      <td>130.00</td>\n",
       "      <td>1203.0</td>\n",
       "      <td>0.10960</td>\n",
       "      <td>0.15990</td>\n",
       "      <td>0.1974</td>\n",
       "      <td>0.12790</td>\n",
       "      <td>0.2069</td>\n",
       "      <td>0.05999</td>\n",
       "      <td>...</td>\n",
       "      <td>25.53</td>\n",
       "      <td>152.50</td>\n",
       "      <td>1709.0</td>\n",
       "      <td>0.1444</td>\n",
       "      <td>0.4245</td>\n",
       "      <td>0.4504</td>\n",
       "      <td>0.2430</td>\n",
       "      <td>0.3613</td>\n",
       "      <td>0.08758</td>\n",
       "      <td>0</td>\n",
       "    </tr>\n",
       "    <tr>\n",
       "      <th>3</th>\n",
       "      <td>11.42</td>\n",
       "      <td>20.38</td>\n",
       "      <td>77.58</td>\n",
       "      <td>386.1</td>\n",
       "      <td>0.14250</td>\n",
       "      <td>0.28390</td>\n",
       "      <td>0.2414</td>\n",
       "      <td>0.10520</td>\n",
       "      <td>0.2597</td>\n",
       "      <td>0.09744</td>\n",
       "      <td>...</td>\n",
       "      <td>26.50</td>\n",
       "      <td>98.87</td>\n",
       "      <td>567.7</td>\n",
       "      <td>0.2098</td>\n",
       "      <td>0.8663</td>\n",
       "      <td>0.6869</td>\n",
       "      <td>0.2575</td>\n",
       "      <td>0.6638</td>\n",
       "      <td>0.17300</td>\n",
       "      <td>0</td>\n",
       "    </tr>\n",
       "    <tr>\n",
       "      <th>4</th>\n",
       "      <td>20.29</td>\n",
       "      <td>14.34</td>\n",
       "      <td>135.10</td>\n",
       "      <td>1297.0</td>\n",
       "      <td>0.10030</td>\n",
       "      <td>0.13280</td>\n",
       "      <td>0.1980</td>\n",
       "      <td>0.10430</td>\n",
       "      <td>0.1809</td>\n",
       "      <td>0.05883</td>\n",
       "      <td>...</td>\n",
       "      <td>16.67</td>\n",
       "      <td>152.20</td>\n",
       "      <td>1575.0</td>\n",
       "      <td>0.1374</td>\n",
       "      <td>0.2050</td>\n",
       "      <td>0.4000</td>\n",
       "      <td>0.1625</td>\n",
       "      <td>0.2364</td>\n",
       "      <td>0.07678</td>\n",
       "      <td>0</td>\n",
       "    </tr>\n",
       "  </tbody>\n",
       "</table>\n",
       "<p>5 rows × 31 columns</p>\n",
       "</div>"
      ],
      "text/plain": [
       "   mean radius  mean texture  mean perimeter  mean area  mean smoothness  \\\n",
       "0        17.99         10.38          122.80     1001.0          0.11840   \n",
       "1        20.57         17.77          132.90     1326.0          0.08474   \n",
       "2        19.69         21.25          130.00     1203.0          0.10960   \n",
       "3        11.42         20.38           77.58      386.1          0.14250   \n",
       "4        20.29         14.34          135.10     1297.0          0.10030   \n",
       "\n",
       "   mean compactness  mean concavity  mean concave points  mean symmetry  \\\n",
       "0           0.27760          0.3001              0.14710         0.2419   \n",
       "1           0.07864          0.0869              0.07017         0.1812   \n",
       "2           0.15990          0.1974              0.12790         0.2069   \n",
       "3           0.28390          0.2414              0.10520         0.2597   \n",
       "4           0.13280          0.1980              0.10430         0.1809   \n",
       "\n",
       "   mean fractal dimension  ...  worst texture  worst perimeter  worst area  \\\n",
       "0                 0.07871  ...          17.33           184.60      2019.0   \n",
       "1                 0.05667  ...          23.41           158.80      1956.0   \n",
       "2                 0.05999  ...          25.53           152.50      1709.0   \n",
       "3                 0.09744  ...          26.50            98.87       567.7   \n",
       "4                 0.05883  ...          16.67           152.20      1575.0   \n",
       "\n",
       "   worst smoothness  worst compactness  worst concavity  worst concave points  \\\n",
       "0            0.1622             0.6656           0.7119                0.2654   \n",
       "1            0.1238             0.1866           0.2416                0.1860   \n",
       "2            0.1444             0.4245           0.4504                0.2430   \n",
       "3            0.2098             0.8663           0.6869                0.2575   \n",
       "4            0.1374             0.2050           0.4000                0.1625   \n",
       "\n",
       "   worst symmetry  worst fractal dimension  benign_0__mal_1  \n",
       "0          0.4601                  0.11890                0  \n",
       "1          0.2750                  0.08902                0  \n",
       "2          0.3613                  0.08758                0  \n",
       "3          0.6638                  0.17300                0  \n",
       "4          0.2364                  0.07678                0  \n",
       "\n",
       "[5 rows x 31 columns]"
      ]
     },
     "execution_count": 3,
     "metadata": {},
     "output_type": "execute_result"
    }
   ],
   "source": [
    "df.head()"
   ]
  },
  {
   "cell_type": "code",
   "execution_count": 4,
   "metadata": {},
   "outputs": [
    {
     "name": "stdout",
     "output_type": "stream",
     "text": [
      "<class 'pandas.core.frame.DataFrame'>\n",
      "RangeIndex: 569 entries, 0 to 568\n",
      "Data columns (total 31 columns):\n",
      " #   Column                   Non-Null Count  Dtype  \n",
      "---  ------                   --------------  -----  \n",
      " 0   mean radius              569 non-null    float64\n",
      " 1   mean texture             569 non-null    float64\n",
      " 2   mean perimeter           569 non-null    float64\n",
      " 3   mean area                569 non-null    float64\n",
      " 4   mean smoothness          569 non-null    float64\n",
      " 5   mean compactness         569 non-null    float64\n",
      " 6   mean concavity           569 non-null    float64\n",
      " 7   mean concave points      569 non-null    float64\n",
      " 8   mean symmetry            569 non-null    float64\n",
      " 9   mean fractal dimension   569 non-null    float64\n",
      " 10  radius error             569 non-null    float64\n",
      " 11  texture error            569 non-null    float64\n",
      " 12  perimeter error          569 non-null    float64\n",
      " 13  area error               569 non-null    float64\n",
      " 14  smoothness error         569 non-null    float64\n",
      " 15  compactness error        569 non-null    float64\n",
      " 16  concavity error          569 non-null    float64\n",
      " 17  concave points error     569 non-null    float64\n",
      " 18  symmetry error           569 non-null    float64\n",
      " 19  fractal dimension error  569 non-null    float64\n",
      " 20  worst radius             569 non-null    float64\n",
      " 21  worst texture            569 non-null    float64\n",
      " 22  worst perimeter          569 non-null    float64\n",
      " 23  worst area               569 non-null    float64\n",
      " 24  worst smoothness         569 non-null    float64\n",
      " 25  worst compactness        569 non-null    float64\n",
      " 26  worst concavity          569 non-null    float64\n",
      " 27  worst concave points     569 non-null    float64\n",
      " 28  worst symmetry           569 non-null    float64\n",
      " 29  worst fractal dimension  569 non-null    float64\n",
      " 30  benign_0__mal_1          569 non-null    int64  \n",
      "dtypes: float64(30), int64(1)\n",
      "memory usage: 137.9 KB\n"
     ]
    }
   ],
   "source": [
    "df.info()"
   ]
  },
  {
   "cell_type": "code",
   "execution_count": 7,
   "metadata": {},
   "outputs": [
    {
     "data": {
      "text/html": [
       "<div>\n",
       "<style scoped>\n",
       "    .dataframe tbody tr th:only-of-type {\n",
       "        vertical-align: middle;\n",
       "    }\n",
       "\n",
       "    .dataframe tbody tr th {\n",
       "        vertical-align: top;\n",
       "    }\n",
       "\n",
       "    .dataframe thead th {\n",
       "        text-align: right;\n",
       "    }\n",
       "</style>\n",
       "<table border=\"1\" class=\"dataframe\">\n",
       "  <thead>\n",
       "    <tr style=\"text-align: right;\">\n",
       "      <th></th>\n",
       "      <th>count</th>\n",
       "      <th>mean</th>\n",
       "      <th>std</th>\n",
       "      <th>min</th>\n",
       "      <th>25%</th>\n",
       "      <th>50%</th>\n",
       "      <th>75%</th>\n",
       "      <th>max</th>\n",
       "    </tr>\n",
       "  </thead>\n",
       "  <tbody>\n",
       "    <tr>\n",
       "      <th>mean radius</th>\n",
       "      <td>569.0</td>\n",
       "      <td>14.127292</td>\n",
       "      <td>3.524049</td>\n",
       "      <td>6.981000</td>\n",
       "      <td>11.700000</td>\n",
       "      <td>13.370000</td>\n",
       "      <td>15.780000</td>\n",
       "      <td>28.11000</td>\n",
       "    </tr>\n",
       "    <tr>\n",
       "      <th>mean texture</th>\n",
       "      <td>569.0</td>\n",
       "      <td>19.289649</td>\n",
       "      <td>4.301036</td>\n",
       "      <td>9.710000</td>\n",
       "      <td>16.170000</td>\n",
       "      <td>18.840000</td>\n",
       "      <td>21.800000</td>\n",
       "      <td>39.28000</td>\n",
       "    </tr>\n",
       "    <tr>\n",
       "      <th>mean perimeter</th>\n",
       "      <td>569.0</td>\n",
       "      <td>91.969033</td>\n",
       "      <td>24.298981</td>\n",
       "      <td>43.790000</td>\n",
       "      <td>75.170000</td>\n",
       "      <td>86.240000</td>\n",
       "      <td>104.100000</td>\n",
       "      <td>188.50000</td>\n",
       "    </tr>\n",
       "    <tr>\n",
       "      <th>mean area</th>\n",
       "      <td>569.0</td>\n",
       "      <td>654.889104</td>\n",
       "      <td>351.914129</td>\n",
       "      <td>143.500000</td>\n",
       "      <td>420.300000</td>\n",
       "      <td>551.100000</td>\n",
       "      <td>782.700000</td>\n",
       "      <td>2501.00000</td>\n",
       "    </tr>\n",
       "    <tr>\n",
       "      <th>mean smoothness</th>\n",
       "      <td>569.0</td>\n",
       "      <td>0.096360</td>\n",
       "      <td>0.014064</td>\n",
       "      <td>0.052630</td>\n",
       "      <td>0.086370</td>\n",
       "      <td>0.095870</td>\n",
       "      <td>0.105300</td>\n",
       "      <td>0.16340</td>\n",
       "    </tr>\n",
       "    <tr>\n",
       "      <th>mean compactness</th>\n",
       "      <td>569.0</td>\n",
       "      <td>0.104341</td>\n",
       "      <td>0.052813</td>\n",
       "      <td>0.019380</td>\n",
       "      <td>0.064920</td>\n",
       "      <td>0.092630</td>\n",
       "      <td>0.130400</td>\n",
       "      <td>0.34540</td>\n",
       "    </tr>\n",
       "    <tr>\n",
       "      <th>mean concavity</th>\n",
       "      <td>569.0</td>\n",
       "      <td>0.088799</td>\n",
       "      <td>0.079720</td>\n",
       "      <td>0.000000</td>\n",
       "      <td>0.029560</td>\n",
       "      <td>0.061540</td>\n",
       "      <td>0.130700</td>\n",
       "      <td>0.42680</td>\n",
       "    </tr>\n",
       "    <tr>\n",
       "      <th>mean concave points</th>\n",
       "      <td>569.0</td>\n",
       "      <td>0.048919</td>\n",
       "      <td>0.038803</td>\n",
       "      <td>0.000000</td>\n",
       "      <td>0.020310</td>\n",
       "      <td>0.033500</td>\n",
       "      <td>0.074000</td>\n",
       "      <td>0.20120</td>\n",
       "    </tr>\n",
       "    <tr>\n",
       "      <th>mean symmetry</th>\n",
       "      <td>569.0</td>\n",
       "      <td>0.181162</td>\n",
       "      <td>0.027414</td>\n",
       "      <td>0.106000</td>\n",
       "      <td>0.161900</td>\n",
       "      <td>0.179200</td>\n",
       "      <td>0.195700</td>\n",
       "      <td>0.30400</td>\n",
       "    </tr>\n",
       "    <tr>\n",
       "      <th>mean fractal dimension</th>\n",
       "      <td>569.0</td>\n",
       "      <td>0.062798</td>\n",
       "      <td>0.007060</td>\n",
       "      <td>0.049960</td>\n",
       "      <td>0.057700</td>\n",
       "      <td>0.061540</td>\n",
       "      <td>0.066120</td>\n",
       "      <td>0.09744</td>\n",
       "    </tr>\n",
       "    <tr>\n",
       "      <th>radius error</th>\n",
       "      <td>569.0</td>\n",
       "      <td>0.405172</td>\n",
       "      <td>0.277313</td>\n",
       "      <td>0.111500</td>\n",
       "      <td>0.232400</td>\n",
       "      <td>0.324200</td>\n",
       "      <td>0.478900</td>\n",
       "      <td>2.87300</td>\n",
       "    </tr>\n",
       "    <tr>\n",
       "      <th>texture error</th>\n",
       "      <td>569.0</td>\n",
       "      <td>1.216853</td>\n",
       "      <td>0.551648</td>\n",
       "      <td>0.360200</td>\n",
       "      <td>0.833900</td>\n",
       "      <td>1.108000</td>\n",
       "      <td>1.474000</td>\n",
       "      <td>4.88500</td>\n",
       "    </tr>\n",
       "    <tr>\n",
       "      <th>perimeter error</th>\n",
       "      <td>569.0</td>\n",
       "      <td>2.866059</td>\n",
       "      <td>2.021855</td>\n",
       "      <td>0.757000</td>\n",
       "      <td>1.606000</td>\n",
       "      <td>2.287000</td>\n",
       "      <td>3.357000</td>\n",
       "      <td>21.98000</td>\n",
       "    </tr>\n",
       "    <tr>\n",
       "      <th>area error</th>\n",
       "      <td>569.0</td>\n",
       "      <td>40.337079</td>\n",
       "      <td>45.491006</td>\n",
       "      <td>6.802000</td>\n",
       "      <td>17.850000</td>\n",
       "      <td>24.530000</td>\n",
       "      <td>45.190000</td>\n",
       "      <td>542.20000</td>\n",
       "    </tr>\n",
       "    <tr>\n",
       "      <th>smoothness error</th>\n",
       "      <td>569.0</td>\n",
       "      <td>0.007041</td>\n",
       "      <td>0.003003</td>\n",
       "      <td>0.001713</td>\n",
       "      <td>0.005169</td>\n",
       "      <td>0.006380</td>\n",
       "      <td>0.008146</td>\n",
       "      <td>0.03113</td>\n",
       "    </tr>\n",
       "    <tr>\n",
       "      <th>compactness error</th>\n",
       "      <td>569.0</td>\n",
       "      <td>0.025478</td>\n",
       "      <td>0.017908</td>\n",
       "      <td>0.002252</td>\n",
       "      <td>0.013080</td>\n",
       "      <td>0.020450</td>\n",
       "      <td>0.032450</td>\n",
       "      <td>0.13540</td>\n",
       "    </tr>\n",
       "    <tr>\n",
       "      <th>concavity error</th>\n",
       "      <td>569.0</td>\n",
       "      <td>0.031894</td>\n",
       "      <td>0.030186</td>\n",
       "      <td>0.000000</td>\n",
       "      <td>0.015090</td>\n",
       "      <td>0.025890</td>\n",
       "      <td>0.042050</td>\n",
       "      <td>0.39600</td>\n",
       "    </tr>\n",
       "    <tr>\n",
       "      <th>concave points error</th>\n",
       "      <td>569.0</td>\n",
       "      <td>0.011796</td>\n",
       "      <td>0.006170</td>\n",
       "      <td>0.000000</td>\n",
       "      <td>0.007638</td>\n",
       "      <td>0.010930</td>\n",
       "      <td>0.014710</td>\n",
       "      <td>0.05279</td>\n",
       "    </tr>\n",
       "    <tr>\n",
       "      <th>symmetry error</th>\n",
       "      <td>569.0</td>\n",
       "      <td>0.020542</td>\n",
       "      <td>0.008266</td>\n",
       "      <td>0.007882</td>\n",
       "      <td>0.015160</td>\n",
       "      <td>0.018730</td>\n",
       "      <td>0.023480</td>\n",
       "      <td>0.07895</td>\n",
       "    </tr>\n",
       "    <tr>\n",
       "      <th>fractal dimension error</th>\n",
       "      <td>569.0</td>\n",
       "      <td>0.003795</td>\n",
       "      <td>0.002646</td>\n",
       "      <td>0.000895</td>\n",
       "      <td>0.002248</td>\n",
       "      <td>0.003187</td>\n",
       "      <td>0.004558</td>\n",
       "      <td>0.02984</td>\n",
       "    </tr>\n",
       "    <tr>\n",
       "      <th>worst radius</th>\n",
       "      <td>569.0</td>\n",
       "      <td>16.269190</td>\n",
       "      <td>4.833242</td>\n",
       "      <td>7.930000</td>\n",
       "      <td>13.010000</td>\n",
       "      <td>14.970000</td>\n",
       "      <td>18.790000</td>\n",
       "      <td>36.04000</td>\n",
       "    </tr>\n",
       "    <tr>\n",
       "      <th>worst texture</th>\n",
       "      <td>569.0</td>\n",
       "      <td>25.677223</td>\n",
       "      <td>6.146258</td>\n",
       "      <td>12.020000</td>\n",
       "      <td>21.080000</td>\n",
       "      <td>25.410000</td>\n",
       "      <td>29.720000</td>\n",
       "      <td>49.54000</td>\n",
       "    </tr>\n",
       "    <tr>\n",
       "      <th>worst perimeter</th>\n",
       "      <td>569.0</td>\n",
       "      <td>107.261213</td>\n",
       "      <td>33.602542</td>\n",
       "      <td>50.410000</td>\n",
       "      <td>84.110000</td>\n",
       "      <td>97.660000</td>\n",
       "      <td>125.400000</td>\n",
       "      <td>251.20000</td>\n",
       "    </tr>\n",
       "    <tr>\n",
       "      <th>worst area</th>\n",
       "      <td>569.0</td>\n",
       "      <td>880.583128</td>\n",
       "      <td>569.356993</td>\n",
       "      <td>185.200000</td>\n",
       "      <td>515.300000</td>\n",
       "      <td>686.500000</td>\n",
       "      <td>1084.000000</td>\n",
       "      <td>4254.00000</td>\n",
       "    </tr>\n",
       "    <tr>\n",
       "      <th>worst smoothness</th>\n",
       "      <td>569.0</td>\n",
       "      <td>0.132369</td>\n",
       "      <td>0.022832</td>\n",
       "      <td>0.071170</td>\n",
       "      <td>0.116600</td>\n",
       "      <td>0.131300</td>\n",
       "      <td>0.146000</td>\n",
       "      <td>0.22260</td>\n",
       "    </tr>\n",
       "    <tr>\n",
       "      <th>worst compactness</th>\n",
       "      <td>569.0</td>\n",
       "      <td>0.254265</td>\n",
       "      <td>0.157336</td>\n",
       "      <td>0.027290</td>\n",
       "      <td>0.147200</td>\n",
       "      <td>0.211900</td>\n",
       "      <td>0.339100</td>\n",
       "      <td>1.05800</td>\n",
       "    </tr>\n",
       "    <tr>\n",
       "      <th>worst concavity</th>\n",
       "      <td>569.0</td>\n",
       "      <td>0.272188</td>\n",
       "      <td>0.208624</td>\n",
       "      <td>0.000000</td>\n",
       "      <td>0.114500</td>\n",
       "      <td>0.226700</td>\n",
       "      <td>0.382900</td>\n",
       "      <td>1.25200</td>\n",
       "    </tr>\n",
       "    <tr>\n",
       "      <th>worst concave points</th>\n",
       "      <td>569.0</td>\n",
       "      <td>0.114606</td>\n",
       "      <td>0.065732</td>\n",
       "      <td>0.000000</td>\n",
       "      <td>0.064930</td>\n",
       "      <td>0.099930</td>\n",
       "      <td>0.161400</td>\n",
       "      <td>0.29100</td>\n",
       "    </tr>\n",
       "    <tr>\n",
       "      <th>worst symmetry</th>\n",
       "      <td>569.0</td>\n",
       "      <td>0.290076</td>\n",
       "      <td>0.061867</td>\n",
       "      <td>0.156500</td>\n",
       "      <td>0.250400</td>\n",
       "      <td>0.282200</td>\n",
       "      <td>0.317900</td>\n",
       "      <td>0.66380</td>\n",
       "    </tr>\n",
       "    <tr>\n",
       "      <th>worst fractal dimension</th>\n",
       "      <td>569.0</td>\n",
       "      <td>0.083946</td>\n",
       "      <td>0.018061</td>\n",
       "      <td>0.055040</td>\n",
       "      <td>0.071460</td>\n",
       "      <td>0.080040</td>\n",
       "      <td>0.092080</td>\n",
       "      <td>0.20750</td>\n",
       "    </tr>\n",
       "    <tr>\n",
       "      <th>benign_0__mal_1</th>\n",
       "      <td>569.0</td>\n",
       "      <td>0.627417</td>\n",
       "      <td>0.483918</td>\n",
       "      <td>0.000000</td>\n",
       "      <td>0.000000</td>\n",
       "      <td>1.000000</td>\n",
       "      <td>1.000000</td>\n",
       "      <td>1.00000</td>\n",
       "    </tr>\n",
       "  </tbody>\n",
       "</table>\n",
       "</div>"
      ],
      "text/plain": [
       "                         count        mean         std         min  \\\n",
       "mean radius              569.0   14.127292    3.524049    6.981000   \n",
       "mean texture             569.0   19.289649    4.301036    9.710000   \n",
       "mean perimeter           569.0   91.969033   24.298981   43.790000   \n",
       "mean area                569.0  654.889104  351.914129  143.500000   \n",
       "mean smoothness          569.0    0.096360    0.014064    0.052630   \n",
       "mean compactness         569.0    0.104341    0.052813    0.019380   \n",
       "mean concavity           569.0    0.088799    0.079720    0.000000   \n",
       "mean concave points      569.0    0.048919    0.038803    0.000000   \n",
       "mean symmetry            569.0    0.181162    0.027414    0.106000   \n",
       "mean fractal dimension   569.0    0.062798    0.007060    0.049960   \n",
       "radius error             569.0    0.405172    0.277313    0.111500   \n",
       "texture error            569.0    1.216853    0.551648    0.360200   \n",
       "perimeter error          569.0    2.866059    2.021855    0.757000   \n",
       "area error               569.0   40.337079   45.491006    6.802000   \n",
       "smoothness error         569.0    0.007041    0.003003    0.001713   \n",
       "compactness error        569.0    0.025478    0.017908    0.002252   \n",
       "concavity error          569.0    0.031894    0.030186    0.000000   \n",
       "concave points error     569.0    0.011796    0.006170    0.000000   \n",
       "symmetry error           569.0    0.020542    0.008266    0.007882   \n",
       "fractal dimension error  569.0    0.003795    0.002646    0.000895   \n",
       "worst radius             569.0   16.269190    4.833242    7.930000   \n",
       "worst texture            569.0   25.677223    6.146258   12.020000   \n",
       "worst perimeter          569.0  107.261213   33.602542   50.410000   \n",
       "worst area               569.0  880.583128  569.356993  185.200000   \n",
       "worst smoothness         569.0    0.132369    0.022832    0.071170   \n",
       "worst compactness        569.0    0.254265    0.157336    0.027290   \n",
       "worst concavity          569.0    0.272188    0.208624    0.000000   \n",
       "worst concave points     569.0    0.114606    0.065732    0.000000   \n",
       "worst symmetry           569.0    0.290076    0.061867    0.156500   \n",
       "worst fractal dimension  569.0    0.083946    0.018061    0.055040   \n",
       "benign_0__mal_1          569.0    0.627417    0.483918    0.000000   \n",
       "\n",
       "                                25%         50%          75%         max  \n",
       "mean radius               11.700000   13.370000    15.780000    28.11000  \n",
       "mean texture              16.170000   18.840000    21.800000    39.28000  \n",
       "mean perimeter            75.170000   86.240000   104.100000   188.50000  \n",
       "mean area                420.300000  551.100000   782.700000  2501.00000  \n",
       "mean smoothness            0.086370    0.095870     0.105300     0.16340  \n",
       "mean compactness           0.064920    0.092630     0.130400     0.34540  \n",
       "mean concavity             0.029560    0.061540     0.130700     0.42680  \n",
       "mean concave points        0.020310    0.033500     0.074000     0.20120  \n",
       "mean symmetry              0.161900    0.179200     0.195700     0.30400  \n",
       "mean fractal dimension     0.057700    0.061540     0.066120     0.09744  \n",
       "radius error               0.232400    0.324200     0.478900     2.87300  \n",
       "texture error              0.833900    1.108000     1.474000     4.88500  \n",
       "perimeter error            1.606000    2.287000     3.357000    21.98000  \n",
       "area error                17.850000   24.530000    45.190000   542.20000  \n",
       "smoothness error           0.005169    0.006380     0.008146     0.03113  \n",
       "compactness error          0.013080    0.020450     0.032450     0.13540  \n",
       "concavity error            0.015090    0.025890     0.042050     0.39600  \n",
       "concave points error       0.007638    0.010930     0.014710     0.05279  \n",
       "symmetry error             0.015160    0.018730     0.023480     0.07895  \n",
       "fractal dimension error    0.002248    0.003187     0.004558     0.02984  \n",
       "worst radius              13.010000   14.970000    18.790000    36.04000  \n",
       "worst texture             21.080000   25.410000    29.720000    49.54000  \n",
       "worst perimeter           84.110000   97.660000   125.400000   251.20000  \n",
       "worst area               515.300000  686.500000  1084.000000  4254.00000  \n",
       "worst smoothness           0.116600    0.131300     0.146000     0.22260  \n",
       "worst compactness          0.147200    0.211900     0.339100     1.05800  \n",
       "worst concavity            0.114500    0.226700     0.382900     1.25200  \n",
       "worst concave points       0.064930    0.099930     0.161400     0.29100  \n",
       "worst symmetry             0.250400    0.282200     0.317900     0.66380  \n",
       "worst fractal dimension    0.071460    0.080040     0.092080     0.20750  \n",
       "benign_0__mal_1            0.000000    1.000000     1.000000     1.00000  "
      ]
     },
     "execution_count": 7,
     "metadata": {},
     "output_type": "execute_result"
    }
   ],
   "source": [
    "df.describe().transpose()"
   ]
  },
  {
   "cell_type": "code",
   "execution_count": 11,
   "metadata": {},
   "outputs": [
    {
     "data": {
      "text/plain": [
       "mean radius                0\n",
       "mean texture               0\n",
       "mean perimeter             0\n",
       "mean area                  0\n",
       "mean smoothness            0\n",
       "mean compactness           0\n",
       "mean concavity             0\n",
       "mean concave points        0\n",
       "mean symmetry              0\n",
       "mean fractal dimension     0\n",
       "radius error               0\n",
       "texture error              0\n",
       "perimeter error            0\n",
       "area error                 0\n",
       "smoothness error           0\n",
       "compactness error          0\n",
       "concavity error            0\n",
       "concave points error       0\n",
       "symmetry error             0\n",
       "fractal dimension error    0\n",
       "worst radius               0\n",
       "worst texture              0\n",
       "worst perimeter            0\n",
       "worst area                 0\n",
       "worst smoothness           0\n",
       "worst compactness          0\n",
       "worst concavity            0\n",
       "worst concave points       0\n",
       "worst symmetry             0\n",
       "worst fractal dimension    0\n",
       "benign_0__mal_1            0\n",
       "dtype: int64"
      ]
     },
     "execution_count": 11,
     "metadata": {},
     "output_type": "execute_result"
    }
   ],
   "source": [
    "df.isnull().sum()"
   ]
  },
  {
   "cell_type": "code",
   "execution_count": 15,
   "metadata": {},
   "outputs": [
    {
     "data": {
      "text/plain": [
       "<matplotlib.axes._subplots.AxesSubplot at 0x259bddb4e80>"
      ]
     },
     "execution_count": 15,
     "metadata": {},
     "output_type": "execute_result"
    },
    {
     "data": {
      "image/png": "[encoded data removed]",
      "text/plain": [
       "<Figure size 432x288 with 1 Axes>"
      ]
     },
     "metadata": {},
     "output_type": "display_data"
    }
   ],
   "source": [
    "sns.countplot(x='benign_0__mal_1', data=df)"
   ]
  },
  {
   "cell_type": "code",
   "execution_count": 23,
   "metadata": {},
   "outputs": [
    {
     "data": {
      "text/plain": [
       "worst concave points      -0.793566\n",
       "worst perimeter           -0.782914\n",
       "mean concave points       -0.776614\n",
       "worst radius              -0.776454\n",
       "mean perimeter            -0.742636\n",
       "worst area                -0.733825\n",
       "mean radius               -0.730029\n",
       "mean area                 -0.708984\n",
       "mean concavity            -0.696360\n",
       "worst concavity           -0.659610\n",
       "mean compactness          -0.596534\n",
       "worst compactness         -0.590998\n",
       "radius error              -0.567134\n",
       "perimeter error           -0.556141\n",
       "area error                -0.548236\n",
       "worst texture             -0.456903\n",
       "worst smoothness          -0.421465\n",
       "worst symmetry            -0.416294\n",
       "mean texture              -0.415185\n",
       "concave points error      -0.408042\n",
       "mean smoothness           -0.358560\n",
       "mean symmetry             -0.330499\n",
       "worst fractal dimension   -0.323872\n",
       "compactness error         -0.292999\n",
       "concavity error           -0.253730\n",
       "fractal dimension error   -0.077972\n",
       "symmetry error             0.006522\n",
       "texture error              0.008303\n",
       "mean fractal dimension     0.012838\n",
       "smoothness error           0.067016\n",
       "benign_0__mal_1            1.000000\n",
       "Name: benign_0__mal_1, dtype: float64"
      ]
     },
     "execution_count": 23,
     "metadata": {},
     "output_type": "execute_result"
    }
   ],
   "source": [
    "df.corr()['benign_0__mal_1'].sort_values()"
   ]
  },
  {
   "cell_type": "code",
   "execution_count": 22,
   "metadata": {},
   "outputs": [
    {
     "data": {
      "text/plain": [
       "<matplotlib.axes._subplots.AxesSubplot at 0x259c8abb550>"
      ]
     },
     "execution_count": 22,
     "metadata": {},
     "output_type": "execute_result"
    },
    {
     "data": {
      "image/png": "[encoded data removed]",
      "text/plain": [
       "<Figure size 1440x864 with 2 Axes>"
      ]
     },
     "metadata": {},
     "output_type": "display_data"
    }
   ],
   "source": [
    "plt.figure(figsize=(20,12))\n",
    "sns.heatmap(data=df.corr(), annot=True)"
   ]
  },
  {
   "cell_type": "code",
   "execution_count": 26,
   "metadata": {},
   "outputs": [
    {
     "data": {
      "text/plain": [
       "<matplotlib.axes._subplots.AxesSubplot at 0x259c9786860>"
      ]
     },
     "execution_count": 26,
     "metadata": {},
     "output_type": "execute_result"
    },
    {
     "data": {
      "image/png": "[encoded data removed]",
      "text/plain": [
       "<Figure size 432x288 with 1 Axes>"
      ]
     },
     "metadata": {},
     "output_type": "display_data"
    }
   ],
   "source": [
    "df.corr()['benign_0__mal_1'].sort_values().drop('benign_0__mal_1').plot(kind='bar')"
   ]
  },
  {
   "cell_type": "code",
   "execution_count": 27,
   "metadata": {},
   "outputs": [],
   "source": [
    "from sklearn.model_selection import train_test_split"
   ]
  },
  {
   "cell_type": "code",
   "execution_count": 28,
   "metadata": {},
   "outputs": [],
   "source": [
    "X = df.drop('benign_0__mal_1', axis=1).values\n",
    "y=df['benign_0__mal_1'].values"
   ]
  },
  {
   "cell_type": "code",
   "execution_count": 29,
   "metadata": {},
   "outputs": [],
   "source": [
    "X_train, X_test, y_train, y_test = train_test_split(X, y, test_size=0.25, random_state=101)"
   ]
  },
  {
   "cell_type": "code",
   "execution_count": 30,
   "metadata": {},
   "outputs": [],
   "source": [
    "from sklearn.preprocessing import MinMaxScaler"
   ]
  },
  {
   "cell_type": "code",
   "execution_count": 31,
   "metadata": {},
   "outputs": [],
   "source": [
    "scaler = MinMaxScaler()"
   ]
  },
  {
   "cell_type": "code",
   "execution_count": 35,
   "metadata": {},
   "outputs": [],
   "source": [
    "X_train = scaler.fit_transform(X_train)"
   ]
  },
  {
   "cell_type": "raw",
   "metadata": {},
   "source": [
    "X_test = scaler.transform(X_test)"
   ]
  },
  {
   "cell_type": "code",
   "execution_count": 38,
   "metadata": {},
   "outputs": [],
   "source": [
    "from tensorflow.keras.models import Sequential\n",
    "from tensorflow.keras.layers import Dense"
   ]
  },
  {
   "cell_type": "code",
   "execution_count": 39,
   "metadata": {},
   "outputs": [
    {
     "data": {
      "text/plain": [
       "(426, 30)"
      ]
     },
     "execution_count": 39,
     "metadata": {},
     "output_type": "execute_result"
    }
   ],
   "source": [
    "X_train.shape"
   ]
  },
  {
   "cell_type": "code",
   "execution_count": 41,
   "metadata": {},
   "outputs": [],
   "source": [
    "model = Sequential()\n",
    "\n",
    "model.add(Dense(30, activation='relu'))\n",
    "model.add(Dense(15, activation='relu'))\n",
    "model.add(Dense(1, activation='sigmoid'))\n",
    "\n",
    "model.compile(optimizer='adam', loss='binary_crossentropy')"
   ]
  },
  {
   "cell_type": "code",
   "execution_count": 43,
   "metadata": {},
   "outputs": [
    {
     "name": "stdout",
     "output_type": "stream",
     "text": [
      "Train on 426 samples, validate on 143 samples\n",
      "Epoch 1/600\n",
      "426/426 [==============================] - 1s 2ms/sample - loss: 0.6765 - val_loss: 0.6542\n",
      "Epoch 2/600\n",
      "426/426 [==============================] - 0s 80us/sample - loss: 0.6369 - val_loss: 0.6159\n",
      "Epoch 3/600\n",
      "426/426 [==============================] - 0s 84us/sample - loss: 0.5949 - val_loss: 0.5703\n",
      "Epoch 4/600\n",
      "426/426 [==============================] - 0s 85us/sample - loss: 0.5460 - val_loss: 0.5199\n",
      "Epoch 5/600\n",
      "426/426 [==============================] - 0s 81us/sample - loss: 0.4944 - val_loss: 0.4679\n",
      "Epoch 6/600\n",
      "426/426 [==============================] - 0s 81us/sample - loss: 0.4456 - val_loss: 0.4175\n",
      "Epoch 7/600\n",
      "426/426 [==============================] - 0s 82us/sample - loss: 0.3957 - val_loss: 0.3699\n",
      "Epoch 8/600\n",
      "426/426 [==============================] - 0s 74us/sample - loss: 0.3522 - val_loss: 0.3294\n",
      "Epoch 9/600\n",
      "426/426 [==============================] - 0s 73us/sample - loss: 0.3187 - val_loss: 0.2969\n",
      "Epoch 10/600\n",
      "426/426 [==============================] - 0s 71us/sample - loss: 0.2873 - val_loss: 0.2658\n",
      "Epoch 11/600\n",
      "426/426 [==============================] - 0s 78us/sample - loss: 0.2658 - val_loss: 0.2455\n",
      "Epoch 12/600\n",
      "426/426 [==============================] - 0s 76us/sample - loss: 0.2397 - val_loss: 0.2221\n",
      "Epoch 13/600\n",
      "426/426 [==============================] - 0s 77us/sample - loss: 0.2226 - val_loss: 0.2061\n",
      "Epoch 14/600\n",
      "426/426 [==============================] - 0s 75us/sample - loss: 0.2050 - val_loss: 0.1935\n",
      "Epoch 15/600\n",
      "426/426 [==============================] - 0s 75us/sample - loss: 0.1907 - val_loss: 0.1786\n",
      "Epoch 16/600\n",
      "426/426 [==============================] - 0s 76us/sample - loss: 0.1776 - val_loss: 0.1785\n",
      "Epoch 17/600\n",
      "426/426 [==============================] - 0s 77us/sample - loss: 0.1694 - val_loss: 0.1605\n",
      "Epoch 18/600\n",
      "426/426 [==============================] - 0s 78us/sample - loss: 0.1614 - val_loss: 0.1585\n",
      "Epoch 19/600\n",
      "426/426 [==============================] - 0s 75us/sample - loss: 0.1491 - val_loss: 0.1467\n",
      "Epoch 20/600\n",
      "426/426 [==============================] - 0s 71us/sample - loss: 0.1443 - val_loss: 0.1453\n",
      "Epoch 21/600\n",
      "426/426 [==============================] - 0s 71us/sample - loss: 0.1354 - val_loss: 0.1376\n",
      "Epoch 22/600\n",
      "426/426 [==============================] - 0s 70us/sample - loss: 0.1273 - val_loss: 0.1399\n",
      "Epoch 23/600\n",
      "426/426 [==============================] - 0s 70us/sample - loss: 0.1204 - val_loss: 0.1301\n",
      "Epoch 24/600\n",
      "426/426 [==============================] - 0s 70us/sample - loss: 0.1170 - val_loss: 0.1298\n",
      "Epoch 25/600\n",
      "426/426 [==============================] - 0s 68us/sample - loss: 0.1121 - val_loss: 0.1246\n",
      "Epoch 26/600\n",
      "426/426 [==============================] - 0s 73us/sample - loss: 0.1064 - val_loss: 0.1262\n",
      "Epoch 27/600\n",
      "426/426 [==============================] - 0s 73us/sample - loss: 0.1019 - val_loss: 0.1199\n",
      "Epoch 28/600\n",
      "426/426 [==============================] - 0s 75us/sample - loss: 0.0991 - val_loss: 0.1235\n",
      "Epoch 29/600\n",
      "426/426 [==============================] - 0s 75us/sample - loss: 0.0957 - val_loss: 0.1158\n",
      "Epoch 30/600\n",
      "426/426 [==============================] - 0s 72us/sample - loss: 0.0918 - val_loss: 0.1227\n",
      "Epoch 31/600\n",
      "426/426 [==============================] - 0s 72us/sample - loss: 0.0886 - val_loss: 0.1179\n",
      "Epoch 32/600\n",
      "426/426 [==============================] - ETA: 0s - loss: 0.159 - 0s 70us/sample - loss: 0.0861 - val_loss: 0.1156\n",
      "Epoch 33/600\n",
      "426/426 [==============================] - 0s 73us/sample - loss: 0.0829 - val_loss: 0.1179\n",
      "Epoch 34/600\n",
      "426/426 [==============================] - 0s 73us/sample - loss: 0.0815 - val_loss: 0.1090\n",
      "Epoch 35/600\n",
      "426/426 [==============================] - 0s 77us/sample - loss: 0.0808 - val_loss: 0.1198\n",
      "Epoch 36/600\n",
      "426/426 [==============================] - 0s 73us/sample - loss: 0.0775 - val_loss: 0.1097\n",
      "Epoch 37/600\n",
      "426/426 [==============================] - 0s 69us/sample - loss: 0.0750 - val_loss: 0.1177\n",
      "Epoch 38/600\n",
      "426/426 [==============================] - 0s 72us/sample - loss: 0.0764 - val_loss: 0.1065\n",
      "Epoch 39/600\n",
      "426/426 [==============================] - 0s 99us/sample - loss: 0.0715 - val_loss: 0.1167\n",
      "Epoch 40/600\n",
      "426/426 [==============================] - 0s 76us/sample - loss: 0.0709 - val_loss: 0.1099\n",
      "Epoch 41/600\n",
      "426/426 [==============================] - 0s 75us/sample - loss: 0.0700 - val_loss: 0.1048\n",
      "Epoch 42/600\n",
      "426/426 [==============================] - 0s 71us/sample - loss: 0.0687 - val_loss: 0.1196\n",
      "Epoch 43/600\n",
      "426/426 [==============================] - 0s 73us/sample - loss: 0.0698 - val_loss: 0.1068\n",
      "Epoch 44/600\n",
      "426/426 [==============================] - 0s 70us/sample - loss: 0.0665 - val_loss: 0.1119\n",
      "Epoch 45/600\n",
      "426/426 [==============================] - 0s 68us/sample - loss: 0.0654 - val_loss: 0.1094\n",
      "Epoch 46/600\n",
      "426/426 [==============================] - ETA: 0s - loss: 0.037 - 0s 75us/sample - loss: 0.0660 - val_loss: 0.1058\n",
      "Epoch 47/600\n",
      "426/426 [==============================] - 0s 107us/sample - loss: 0.0664 - val_loss: 0.1109\n",
      "Epoch 48/600\n",
      "426/426 [==============================] - 0s 89us/sample - loss: 0.0632 - val_loss: 0.1091\n",
      "Epoch 49/600\n",
      "426/426 [==============================] - 0s 75us/sample - loss: 0.0624 - val_loss: 0.1036\n",
      "Epoch 50/600\n",
      "426/426 [==============================] - 0s 77us/sample - loss: 0.0606 - val_loss: 0.1162\n",
      "Epoch 51/600\n",
      "426/426 [==============================] - 0s 69us/sample - loss: 0.0683 - val_loss: 0.1008\n",
      "Epoch 52/600\n",
      "426/426 [==============================] - 0s 63us/sample - loss: 0.0681 - val_loss: 0.1178\n",
      "Epoch 53/600\n",
      "426/426 [==============================] - 0s 68us/sample - loss: 0.0599 - val_loss: 0.1026\n",
      "Epoch 54/600\n",
      "426/426 [==============================] - 0s 80us/sample - loss: 0.0644 - val_loss: 0.1181\n",
      "Epoch 55/600\n",
      "426/426 [==============================] - 0s 70us/sample - loss: 0.0614 - val_loss: 0.1008\n",
      "Epoch 56/600\n",
      "426/426 [==============================] - 0s 63us/sample - loss: 0.0572 - val_loss: 0.1197\n",
      "Epoch 57/600\n",
      "426/426 [==============================] - 0s 63us/sample - loss: 0.0602 - val_loss: 0.1055\n",
      "Epoch 58/600\n",
      "426/426 [==============================] - 0s 66us/sample - loss: 0.0574 - val_loss: 0.1067\n",
      "Epoch 59/600\n",
      "426/426 [==============================] - 0s 65us/sample - loss: 0.0574 - val_loss: 0.1035\n",
      "Epoch 60/600\n",
      "426/426 [==============================] - 0s 70us/sample - loss: 0.0563 - val_loss: 0.1107\n",
      "Epoch 61/600\n",
      "426/426 [==============================] - 0s 61us/sample - loss: 0.0549 - val_loss: 0.1035\n",
      "Epoch 62/600\n",
      "426/426 [==============================] - 0s 68us/sample - loss: 0.0588 - val_loss: 0.1126\n",
      "Epoch 63/600\n",
      "426/426 [==============================] - 0s 77us/sample - loss: 0.0546 - val_loss: 0.1022\n",
      "Epoch 64/600\n",
      "426/426 [==============================] - 0s 70us/sample - loss: 0.0556 - val_loss: 0.1062\n",
      "Epoch 65/600\n",
      "426/426 [==============================] - 0s 73us/sample - loss: 0.0535 - val_loss: 0.1097\n",
      "Epoch 66/600\n",
      "426/426 [==============================] - 0s 66us/sample - loss: 0.0534 - val_loss: 0.1091\n",
      "Epoch 67/600\n",
      "426/426 [==============================] - 0s 66us/sample - loss: 0.0545 - val_loss: 0.1082\n",
      "Epoch 68/600\n",
      "426/426 [==============================] - 0s 75us/sample - loss: 0.0537 - val_loss: 0.1124\n",
      "Epoch 69/600\n",
      "426/426 [==============================] - 0s 75us/sample - loss: 0.0540 - val_loss: 0.1079\n",
      "Epoch 70/600\n",
      "426/426 [==============================] - 0s 80us/sample - loss: 0.0558 - val_loss: 0.1060\n",
      "Epoch 71/600\n",
      "426/426 [==============================] - 0s 75us/sample - loss: 0.0524 - val_loss: 0.1050\n",
      "Epoch 72/600\n",
      "426/426 [==============================] - 0s 75us/sample - loss: 0.0523 - val_loss: 0.1075\n",
      "Epoch 73/600\n",
      "426/426 [==============================] - 0s 70us/sample - loss: 0.0526 - val_loss: 0.1080\n",
      "Epoch 74/600\n",
      "426/426 [==============================] - 0s 66us/sample - loss: 0.0530 - val_loss: 0.1080\n",
      "Epoch 75/600\n",
      "426/426 [==============================] - 0s 73us/sample - loss: 0.0521 - val_loss: 0.0995\n",
      "Epoch 76/600\n",
      "426/426 [==============================] - 0s 68us/sample - loss: 0.0518 - val_loss: 0.1150\n",
      "Epoch 77/600\n",
      "426/426 [==============================] - 0s 63us/sample - loss: 0.0522 - val_loss: 0.1029\n",
      "Epoch 78/600\n"
     ]
    },
    {
     "name": "stdout",
     "output_type": "stream",
     "text": [
      "426/426 [==============================] - 0s 73us/sample - loss: 0.0523 - val_loss: 0.1085\n",
      "Epoch 79/600\n",
      "426/426 [==============================] - 0s 75us/sample - loss: 0.0494 - val_loss: 0.1145\n",
      "Epoch 80/600\n",
      "426/426 [==============================] - 0s 66us/sample - loss: 0.0494 - val_loss: 0.1091\n",
      "Epoch 81/600\n",
      "426/426 [==============================] - 0s 66us/sample - loss: 0.0495 - val_loss: 0.1112\n",
      "Epoch 82/600\n",
      "426/426 [==============================] - 0s 61us/sample - loss: 0.0486 - val_loss: 0.1026\n",
      "Epoch 83/600\n",
      "426/426 [==============================] - 0s 66us/sample - loss: 0.0512 - val_loss: 0.1145\n",
      "Epoch 84/600\n",
      "426/426 [==============================] - 0s 63us/sample - loss: 0.0523 - val_loss: 0.1108\n",
      "Epoch 85/600\n",
      "426/426 [==============================] - 0s 59us/sample - loss: 0.0483 - val_loss: 0.1118\n",
      "Epoch 86/600\n",
      "426/426 [==============================] - 0s 61us/sample - loss: 0.0483 - val_loss: 0.1025\n",
      "Epoch 87/600\n",
      "426/426 [==============================] - 0s 63us/sample - loss: 0.0544 - val_loss: 0.1081\n",
      "Epoch 88/600\n",
      "426/426 [==============================] - 0s 65us/sample - loss: 0.0538 - val_loss: 0.1097\n",
      "Epoch 89/600\n",
      "426/426 [==============================] - 0s 63us/sample - loss: 0.0524 - val_loss: 0.1018\n",
      "Epoch 90/600\n",
      "426/426 [==============================] - 0s 70us/sample - loss: 0.0509 - val_loss: 0.1130\n",
      "Epoch 91/600\n",
      "426/426 [==============================] - 0s 65us/sample - loss: 0.0466 - val_loss: 0.1065\n",
      "Epoch 92/600\n",
      "426/426 [==============================] - 0s 62us/sample - loss: 0.0472 - val_loss: 0.1077\n",
      "Epoch 93/600\n",
      "426/426 [==============================] - 0s 66us/sample - loss: 0.0463 - val_loss: 0.1099\n",
      "Epoch 94/600\n",
      "426/426 [==============================] - 0s 75us/sample - loss: 0.0459 - val_loss: 0.1050\n",
      "Epoch 95/600\n",
      "426/426 [==============================] - 0s 73us/sample - loss: 0.0480 - val_loss: 0.1123\n",
      "Epoch 96/600\n",
      "426/426 [==============================] - 0s 70us/sample - loss: 0.0470 - val_loss: 0.1024\n",
      "Epoch 97/600\n",
      "426/426 [==============================] - 0s 73us/sample - loss: 0.0460 - val_loss: 0.1143\n",
      "Epoch 98/600\n",
      "426/426 [==============================] - 0s 70us/sample - loss: 0.0448 - val_loss: 0.1032\n",
      "Epoch 99/600\n",
      "426/426 [==============================] - 0s 68us/sample - loss: 0.0456 - val_loss: 0.1095\n",
      "Epoch 100/600\n",
      "426/426 [==============================] - 0s 70us/sample - loss: 0.0511 - val_loss: 0.1136\n",
      "Epoch 101/600\n",
      "426/426 [==============================] - 0s 70us/sample - loss: 0.0459 - val_loss: 0.1052\n",
      "Epoch 102/600\n",
      "426/426 [==============================] - 0s 77us/sample - loss: 0.0433 - val_loss: 0.1298\n",
      "Epoch 103/600\n",
      "426/426 [==============================] - 0s 84us/sample - loss: 0.0454 - val_loss: 0.1059\n",
      "Epoch 104/600\n",
      "426/426 [==============================] - 0s 70us/sample - loss: 0.0451 - val_loss: 0.1146\n",
      "Epoch 105/600\n",
      "426/426 [==============================] - 0s 75us/sample - loss: 0.0445 - val_loss: 0.1112\n",
      "Epoch 106/600\n",
      "426/426 [==============================] - 0s 68us/sample - loss: 0.0433 - val_loss: 0.1094\n",
      "Epoch 107/600\n",
      "426/426 [==============================] - 0s 75us/sample - loss: 0.0443 - val_loss: 0.1202\n",
      "Epoch 108/600\n",
      "426/426 [==============================] - 0s 72us/sample - loss: 0.0443 - val_loss: 0.1107\n",
      "Epoch 109/600\n",
      "426/426 [==============================] - 0s 73us/sample - loss: 0.0444 - val_loss: 0.1084\n",
      "Epoch 110/600\n",
      "426/426 [==============================] - 0s 66us/sample - loss: 0.0464 - val_loss: 0.1152\n",
      "Epoch 111/600\n",
      "426/426 [==============================] - 0s 69us/sample - loss: 0.0519 - val_loss: 0.1055\n",
      "Epoch 112/600\n",
      "426/426 [==============================] - 0s 77us/sample - loss: 0.0471 - val_loss: 0.1116\n",
      "Epoch 113/600\n",
      "426/426 [==============================] - 0s 82us/sample - loss: 0.0442 - val_loss: 0.1098\n",
      "Epoch 114/600\n",
      "426/426 [==============================] - 0s 84us/sample - loss: 0.0423 - val_loss: 0.1147\n",
      "Epoch 115/600\n",
      "426/426 [==============================] - 0s 73us/sample - loss: 0.0417 - val_loss: 0.1081\n",
      "Epoch 116/600\n",
      "426/426 [==============================] - 0s 73us/sample - loss: 0.0426 - val_loss: 0.1172\n",
      "Epoch 117/600\n",
      "426/426 [==============================] - 0s 70us/sample - loss: 0.0416 - val_loss: 0.1108\n",
      "Epoch 118/600\n",
      "426/426 [==============================] - 0s 70us/sample - loss: 0.0418 - val_loss: 0.1105\n",
      "Epoch 119/600\n",
      "426/426 [==============================] - 0s 70us/sample - loss: 0.0407 - val_loss: 0.1084\n",
      "Epoch 120/600\n",
      "426/426 [==============================] - 0s 68us/sample - loss: 0.0409 - val_loss: 0.1096\n",
      "Epoch 121/600\n",
      "426/426 [==============================] - 0s 68us/sample - loss: 0.0421 - val_loss: 0.1228\n",
      "Epoch 122/600\n",
      "426/426 [==============================] - 0s 70us/sample - loss: 0.0402 - val_loss: 0.1060\n",
      "Epoch 123/600\n",
      "426/426 [==============================] - 0s 69us/sample - loss: 0.0418 - val_loss: 0.1200\n",
      "Epoch 124/600\n",
      "426/426 [==============================] - 0s 71us/sample - loss: 0.0450 - val_loss: 0.1176\n",
      "Epoch 125/600\n",
      "426/426 [==============================] - 0s 68us/sample - loss: 0.0455 - val_loss: 0.1170\n",
      "Epoch 126/600\n",
      "426/426 [==============================] - 0s 66us/sample - loss: 0.0418 - val_loss: 0.1117\n",
      "Epoch 127/600\n",
      "426/426 [==============================] - 0s 70us/sample - loss: 0.0456 - val_loss: 0.1084\n",
      "Epoch 128/600\n",
      "426/426 [==============================] - 0s 70us/sample - loss: 0.0449 - val_loss: 0.1164\n",
      "Epoch 129/600\n",
      "426/426 [==============================] - 0s 70us/sample - loss: 0.0405 - val_loss: 0.1094\n",
      "Epoch 130/600\n",
      "426/426 [==============================] - 0s 70us/sample - loss: 0.0390 - val_loss: 0.1159\n",
      "Epoch 131/600\n",
      "426/426 [==============================] - 0s 68us/sample - loss: 0.0393 - val_loss: 0.1152\n",
      "Epoch 132/600\n",
      "426/426 [==============================] - 0s 68us/sample - loss: 0.0395 - val_loss: 0.1086\n",
      "Epoch 133/600\n",
      "426/426 [==============================] - 0s 68us/sample - loss: 0.0412 - val_loss: 0.1148\n",
      "Epoch 134/600\n",
      "426/426 [==============================] - 0s 75us/sample - loss: 0.0406 - val_loss: 0.1159\n",
      "Epoch 135/600\n",
      "426/426 [==============================] - 0s 70us/sample - loss: 0.0393 - val_loss: 0.1178\n",
      "Epoch 136/600\n",
      "426/426 [==============================] - 0s 73us/sample - loss: 0.0379 - val_loss: 0.1099\n",
      "Epoch 137/600\n",
      "426/426 [==============================] - 0s 73us/sample - loss: 0.0380 - val_loss: 0.1146\n",
      "Epoch 138/600\n",
      "426/426 [==============================] - 0s 66us/sample - loss: 0.0375 - val_loss: 0.1155\n",
      "Epoch 139/600\n",
      "426/426 [==============================] - 0s 73us/sample - loss: 0.0376 - val_loss: 0.1077\n",
      "Epoch 140/600\n",
      "426/426 [==============================] - 0s 72us/sample - loss: 0.0374 - val_loss: 0.1182\n",
      "Epoch 141/600\n",
      "426/426 [==============================] - 0s 70us/sample - loss: 0.0400 - val_loss: 0.1101\n",
      "Epoch 142/600\n",
      "426/426 [==============================] - 0s 70us/sample - loss: 0.0420 - val_loss: 0.1232\n",
      "Epoch 143/600\n",
      "426/426 [==============================] - 0s 72us/sample - loss: 0.0374 - val_loss: 0.1136\n",
      "Epoch 144/600\n",
      "426/426 [==============================] - 0s 73us/sample - loss: 0.0368 - val_loss: 0.1161\n",
      "Epoch 145/600\n",
      "426/426 [==============================] - 0s 77us/sample - loss: 0.0361 - val_loss: 0.1186\n",
      "Epoch 146/600\n",
      "426/426 [==============================] - 0s 75us/sample - loss: 0.0364 - val_loss: 0.1157\n",
      "Epoch 147/600\n",
      "426/426 [==============================] - 0s 69us/sample - loss: 0.0364 - val_loss: 0.1194\n",
      "Epoch 148/600\n",
      "426/426 [==============================] - 0s 75us/sample - loss: 0.0393 - val_loss: 0.1111\n",
      "Epoch 149/600\n",
      "426/426 [==============================] - 0s 68us/sample - loss: 0.0396 - val_loss: 0.1291\n",
      "Epoch 150/600\n",
      "426/426 [==============================] - 0s 73us/sample - loss: 0.0385 - val_loss: 0.1110\n",
      "Epoch 151/600\n",
      "426/426 [==============================] - 0s 75us/sample - loss: 0.0363 - val_loss: 0.1194\n",
      "Epoch 152/600\n",
      "426/426 [==============================] - 0s 73us/sample - loss: 0.0361 - val_loss: 0.1146\n",
      "Epoch 153/600\n",
      "426/426 [==============================] - 0s 70us/sample - loss: 0.0371 - val_loss: 0.1228\n",
      "Epoch 154/600\n",
      "426/426 [==============================] - 0s 73us/sample - loss: 0.0364 - val_loss: 0.1127\n",
      "Epoch 155/600\n"
     ]
    },
    {
     "name": "stdout",
     "output_type": "stream",
     "text": [
      "426/426 [==============================] - 0s 73us/sample - loss: 0.0362 - val_loss: 0.1198\n",
      "Epoch 156/600\n",
      "426/426 [==============================] - 0s 72us/sample - loss: 0.0351 - val_loss: 0.1143\n",
      "Epoch 157/600\n",
      "426/426 [==============================] - 0s 73us/sample - loss: 0.0351 - val_loss: 0.1280\n",
      "Epoch 158/600\n",
      "426/426 [==============================] - 0s 75us/sample - loss: 0.0355 - val_loss: 0.1217\n",
      "Epoch 159/600\n",
      "426/426 [==============================] - 0s 70us/sample - loss: 0.0345 - val_loss: 0.1124\n",
      "Epoch 160/600\n",
      "426/426 [==============================] - 0s 65us/sample - loss: 0.0345 - val_loss: 0.1230\n",
      "Epoch 161/600\n",
      "426/426 [==============================] - 0s 74us/sample - loss: 0.0352 - val_loss: 0.1171\n",
      "Epoch 162/600\n",
      "426/426 [==============================] - 0s 76us/sample - loss: 0.0343 - val_loss: 0.1198\n",
      "Epoch 163/600\n",
      "426/426 [==============================] - 0s 76us/sample - loss: 0.0373 - val_loss: 0.1253\n",
      "Epoch 164/600\n",
      "426/426 [==============================] - 0s 74us/sample - loss: 0.0448 - val_loss: 0.1112\n",
      "Epoch 165/600\n",
      "426/426 [==============================] - 0s 71us/sample - loss: 0.0481 - val_loss: 0.1207\n",
      "Epoch 166/600\n",
      "426/426 [==============================] - 0s 82us/sample - loss: 0.0375 - val_loss: 0.1156\n",
      "Epoch 167/600\n",
      "426/426 [==============================] - 0s 98us/sample - loss: 0.0336 - val_loss: 0.1145\n",
      "Epoch 168/600\n",
      "426/426 [==============================] - 0s 94us/sample - loss: 0.0326 - val_loss: 0.1142\n",
      "Epoch 169/600\n",
      "426/426 [==============================] - 0s 80us/sample - loss: 0.0333 - val_loss: 0.1172\n",
      "Epoch 170/600\n",
      "426/426 [==============================] - 0s 75us/sample - loss: 0.0322 - val_loss: 0.1206\n",
      "Epoch 171/600\n",
      "426/426 [==============================] - 0s 73us/sample - loss: 0.0327 - val_loss: 0.1125\n",
      "Epoch 172/600\n",
      "426/426 [==============================] - 0s 68us/sample - loss: 0.0335 - val_loss: 0.1250\n",
      "Epoch 173/600\n",
      "426/426 [==============================] - 0s 70us/sample - loss: 0.0376 - val_loss: 0.1106\n",
      "Epoch 174/600\n",
      "426/426 [==============================] - 0s 70us/sample - loss: 0.0326 - val_loss: 0.1201\n",
      "Epoch 175/600\n",
      "426/426 [==============================] - 0s 73us/sample - loss: 0.0322 - val_loss: 0.1157\n",
      "Epoch 176/600\n",
      "426/426 [==============================] - 0s 61us/sample - loss: 0.0343 - val_loss: 0.1262\n",
      "Epoch 177/600\n",
      "426/426 [==============================] - 0s 59us/sample - loss: 0.0312 - val_loss: 0.1138\n",
      "Epoch 178/600\n",
      "426/426 [==============================] - 0s 63us/sample - loss: 0.0314 - val_loss: 0.1229\n",
      "Epoch 179/600\n",
      "426/426 [==============================] - 0s 59us/sample - loss: 0.0317 - val_loss: 0.1227\n",
      "Epoch 180/600\n",
      "426/426 [==============================] - 0s 63us/sample - loss: 0.0321 - val_loss: 0.1159\n",
      "Epoch 181/600\n",
      "426/426 [==============================] - 0s 63us/sample - loss: 0.0321 - val_loss: 0.1167\n",
      "Epoch 182/600\n",
      "426/426 [==============================] - 0s 61us/sample - loss: 0.0333 - val_loss: 0.1190\n",
      "Epoch 183/600\n",
      "426/426 [==============================] - 0s 61us/sample - loss: 0.0300 - val_loss: 0.1152\n",
      "Epoch 184/600\n",
      "426/426 [==============================] - 0s 69us/sample - loss: 0.0305 - val_loss: 0.1199\n",
      "Epoch 185/600\n",
      "426/426 [==============================] - 0s 70us/sample - loss: 0.0325 - val_loss: 0.1225\n",
      "Epoch 186/600\n",
      "426/426 [==============================] - 0s 61us/sample - loss: 0.0407 - val_loss: 0.1340\n",
      "Epoch 187/600\n",
      "426/426 [==============================] - 0s 68us/sample - loss: 0.0328 - val_loss: 0.1152\n",
      "Epoch 188/600\n",
      "426/426 [==============================] - 0s 68us/sample - loss: 0.0359 - val_loss: 0.1209\n",
      "Epoch 189/600\n",
      "426/426 [==============================] - 0s 70us/sample - loss: 0.0341 - val_loss: 0.1125\n",
      "Epoch 190/600\n",
      "426/426 [==============================] - 0s 68us/sample - loss: 0.0336 - val_loss: 0.1227\n",
      "Epoch 191/600\n",
      "426/426 [==============================] - 0s 66us/sample - loss: 0.0296 - val_loss: 0.1210\n",
      "Epoch 192/600\n",
      "426/426 [==============================] - 0s 73us/sample - loss: 0.0300 - val_loss: 0.1201\n",
      "Epoch 193/600\n",
      "426/426 [==============================] - 0s 73us/sample - loss: 0.0290 - val_loss: 0.1217\n",
      "Epoch 194/600\n",
      "426/426 [==============================] - 0s 77us/sample - loss: 0.0290 - val_loss: 0.1191\n",
      "Epoch 195/600\n",
      "426/426 [==============================] - 0s 75us/sample - loss: 0.0314 - val_loss: 0.1264\n",
      "Epoch 196/600\n",
      "426/426 [==============================] - 0s 72us/sample - loss: 0.0301 - val_loss: 0.1160\n",
      "Epoch 197/600\n",
      "426/426 [==============================] - 0s 75us/sample - loss: 0.0290 - val_loss: 0.1224\n",
      "Epoch 198/600\n",
      "426/426 [==============================] - 0s 82us/sample - loss: 0.0292 - val_loss: 0.1235\n",
      "Epoch 199/600\n",
      "426/426 [==============================] - 0s 75us/sample - loss: 0.0306 - val_loss: 0.1188\n",
      "Epoch 200/600\n",
      "426/426 [==============================] - 0s 80us/sample - loss: 0.0276 - val_loss: 0.1332\n",
      "Epoch 201/600\n",
      "426/426 [==============================] - 0s 73us/sample - loss: 0.0327 - val_loss: 0.1148\n",
      "Epoch 202/600\n",
      "426/426 [==============================] - 0s 66us/sample - loss: 0.0292 - val_loss: 0.1233\n",
      "Epoch 203/600\n",
      "426/426 [==============================] - 0s 80us/sample - loss: 0.0290 - val_loss: 0.1317\n",
      "Epoch 204/600\n",
      "426/426 [==============================] - 0s 80us/sample - loss: 0.0291 - val_loss: 0.1297\n",
      "Epoch 205/600\n",
      "426/426 [==============================] - 0s 75us/sample - loss: 0.0294 - val_loss: 0.1342\n",
      "Epoch 206/600\n",
      "426/426 [==============================] - 0s 75us/sample - loss: 0.0282 - val_loss: 0.1214\n",
      "Epoch 207/600\n",
      "426/426 [==============================] - 0s 77us/sample - loss: 0.0299 - val_loss: 0.1304\n",
      "Epoch 208/600\n",
      "426/426 [==============================] - 0s 77us/sample - loss: 0.0298 - val_loss: 0.1181\n",
      "Epoch 209/600\n",
      "426/426 [==============================] - 0s 77us/sample - loss: 0.0275 - val_loss: 0.1304\n",
      "Epoch 210/600\n",
      "426/426 [==============================] - 0s 77us/sample - loss: 0.0277 - val_loss: 0.1252\n",
      "Epoch 211/600\n",
      "426/426 [==============================] - 0s 73us/sample - loss: 0.0284 - val_loss: 0.1243\n",
      "Epoch 212/600\n",
      "426/426 [==============================] - 0s 70us/sample - loss: 0.0317 - val_loss: 0.1165\n",
      "Epoch 213/600\n",
      "426/426 [==============================] - 0s 77us/sample - loss: 0.0319 - val_loss: 0.1274\n",
      "Epoch 214/600\n",
      "426/426 [==============================] - 0s 68us/sample - loss: 0.0325 - val_loss: 0.1212\n",
      "Epoch 215/600\n",
      "426/426 [==============================] - 0s 77us/sample - loss: 0.0347 - val_loss: 0.1419\n",
      "Epoch 216/600\n",
      "426/426 [==============================] - 0s 82us/sample - loss: 0.0311 - val_loss: 0.1148\n",
      "Epoch 217/600\n",
      "426/426 [==============================] - 0s 82us/sample - loss: 0.0341 - val_loss: 0.1430\n",
      "Epoch 218/600\n",
      "426/426 [==============================] - 0s 78us/sample - loss: 0.0286 - val_loss: 0.1197\n",
      "Epoch 219/600\n",
      "426/426 [==============================] - 0s 76us/sample - loss: 0.0274 - val_loss: 0.1292\n",
      "Epoch 220/600\n",
      "426/426 [==============================] - 0s 75us/sample - loss: 0.0256 - val_loss: 0.1278\n",
      "Epoch 221/600\n",
      "426/426 [==============================] - 0s 77us/sample - loss: 0.0261 - val_loss: 0.1234\n",
      "Epoch 222/600\n",
      "426/426 [==============================] - 0s 75us/sample - loss: 0.0261 - val_loss: 0.1197\n",
      "Epoch 223/600\n",
      "426/426 [==============================] - 0s 78us/sample - loss: 0.0259 - val_loss: 0.1196\n",
      "Epoch 224/600\n",
      "426/426 [==============================] - 0s 77us/sample - loss: 0.0274 - val_loss: 0.1269\n",
      "Epoch 225/600\n",
      "426/426 [==============================] - 0s 77us/sample - loss: 0.0270 - val_loss: 0.1204\n",
      "Epoch 226/600\n",
      "426/426 [==============================] - 0s 81us/sample - loss: 0.0277 - val_loss: 0.1314\n",
      "Epoch 227/600\n",
      "426/426 [==============================] - 0s 75us/sample - loss: 0.0259 - val_loss: 0.1191\n",
      "Epoch 228/600\n",
      "426/426 [==============================] - 0s 80us/sample - loss: 0.0256 - val_loss: 0.1222\n",
      "Epoch 229/600\n",
      "426/426 [==============================] - 0s 75us/sample - loss: 0.0244 - val_loss: 0.1268\n",
      "Epoch 230/600\n",
      "426/426 [==============================] - 0s 80us/sample - loss: 0.0269 - val_loss: 0.1249\n",
      "Epoch 231/600\n",
      "426/426 [==============================] - 0s 77us/sample - loss: 0.0248 - val_loss: 0.1229\n",
      "Epoch 232/600\n"
     ]
    },
    {
     "name": "stdout",
     "output_type": "stream",
     "text": [
      "426/426 [==============================] - 0s 82us/sample - loss: 0.0244 - val_loss: 0.1241\n",
      "Epoch 233/600\n",
      "426/426 [==============================] - 0s 66us/sample - loss: 0.0263 - val_loss: 0.1283\n",
      "Epoch 234/600\n",
      "426/426 [==============================] - 0s 66us/sample - loss: 0.0275 - val_loss: 0.1181\n",
      "Epoch 235/600\n",
      "426/426 [==============================] - 0s 63us/sample - loss: 0.0245 - val_loss: 0.1274\n",
      "Epoch 236/600\n",
      "426/426 [==============================] - 0s 72us/sample - loss: 0.0259 - val_loss: 0.1246\n",
      "Epoch 237/600\n",
      "426/426 [==============================] - 0s 74us/sample - loss: 0.0341 - val_loss: 0.1492\n",
      "Epoch 238/600\n",
      "426/426 [==============================] - 0s 75us/sample - loss: 0.0282 - val_loss: 0.1191\n",
      "Epoch 239/600\n",
      "426/426 [==============================] - 0s 71us/sample - loss: 0.0245 - val_loss: 0.1211\n",
      "Epoch 240/600\n",
      "426/426 [==============================] - 0s 75us/sample - loss: 0.0262 - val_loss: 0.1266\n",
      "Epoch 241/600\n",
      "426/426 [==============================] - 0s 78us/sample - loss: 0.0265 - val_loss: 0.1199\n",
      "Epoch 242/600\n",
      "426/426 [==============================] - 0s 78us/sample - loss: 0.0262 - val_loss: 0.1226\n",
      "Epoch 243/600\n",
      "426/426 [==============================] - 0s 74us/sample - loss: 0.0251 - val_loss: 0.1296\n",
      "Epoch 244/600\n",
      "426/426 [==============================] - 0s 75us/sample - loss: 0.0238 - val_loss: 0.1219\n",
      "Epoch 245/600\n",
      "426/426 [==============================] - 0s 74us/sample - loss: 0.0230 - val_loss: 0.1319\n",
      "Epoch 246/600\n",
      "426/426 [==============================] - 0s 74us/sample - loss: 0.0226 - val_loss: 0.1227\n",
      "Epoch 247/600\n",
      "426/426 [==============================] - 0s 75us/sample - loss: 0.0235 - val_loss: 0.1286\n",
      "Epoch 248/600\n",
      "426/426 [==============================] - 0s 77us/sample - loss: 0.0232 - val_loss: 0.1238\n",
      "Epoch 249/600\n",
      "426/426 [==============================] - ETA: 0s - loss: 0.048 - 0s 78us/sample - loss: 0.0224 - val_loss: 0.1367\n",
      "Epoch 250/600\n",
      "426/426 [==============================] - 0s 75us/sample - loss: 0.0243 - val_loss: 0.1324\n",
      "Epoch 251/600\n",
      "426/426 [==============================] - 0s 78us/sample - loss: 0.0245 - val_loss: 0.1258\n",
      "Epoch 252/600\n",
      "426/426 [==============================] - 0s 80us/sample - loss: 0.0342 - val_loss: 0.1304\n",
      "Epoch 253/600\n",
      "426/426 [==============================] - 0s 79us/sample - loss: 0.0231 - val_loss: 0.1329\n",
      "Epoch 254/600\n",
      "426/426 [==============================] - 0s 78us/sample - loss: 0.0223 - val_loss: 0.1291\n",
      "Epoch 255/600\n",
      "426/426 [==============================] - 0s 82us/sample - loss: 0.0226 - val_loss: 0.1271\n",
      "Epoch 256/600\n",
      "426/426 [==============================] - 0s 78us/sample - loss: 0.0224 - val_loss: 0.1350\n",
      "Epoch 257/600\n",
      "426/426 [==============================] - 0s 76us/sample - loss: 0.0225 - val_loss: 0.1244\n",
      "Epoch 258/600\n",
      "426/426 [==============================] - 0s 86us/sample - loss: 0.0260 - val_loss: 0.1408\n",
      "Epoch 259/600\n",
      "426/426 [==============================] - 0s 77us/sample - loss: 0.0219 - val_loss: 0.1284\n",
      "Epoch 260/600\n",
      "426/426 [==============================] - 0s 76us/sample - loss: 0.0213 - val_loss: 0.1247\n",
      "Epoch 261/600\n",
      "426/426 [==============================] - 0s 77us/sample - loss: 0.0223 - val_loss: 0.1257\n",
      "Epoch 262/600\n",
      "426/426 [==============================] - 0s 75us/sample - loss: 0.0223 - val_loss: 0.1328\n",
      "Epoch 263/600\n",
      "426/426 [==============================] - 0s 78us/sample - loss: 0.0215 - val_loss: 0.1234\n",
      "Epoch 264/600\n",
      "426/426 [==============================] - 0s 79us/sample - loss: 0.0223 - val_loss: 0.1342\n",
      "Epoch 265/600\n",
      "426/426 [==============================] - 0s 79us/sample - loss: 0.0221 - val_loss: 0.1250\n",
      "Epoch 266/600\n",
      "426/426 [==============================] - 0s 73us/sample - loss: 0.0219 - val_loss: 0.1364\n",
      "Epoch 267/600\n",
      "426/426 [==============================] - 0s 75us/sample - loss: 0.0208 - val_loss: 0.1279\n",
      "Epoch 268/600\n",
      "426/426 [==============================] - 0s 77us/sample - loss: 0.0217 - val_loss: 0.1349\n",
      "Epoch 269/600\n",
      "426/426 [==============================] - 0s 73us/sample - loss: 0.0216 - val_loss: 0.1312\n",
      "Epoch 270/600\n",
      "426/426 [==============================] - 0s 79us/sample - loss: 0.0205 - val_loss: 0.1354\n",
      "Epoch 271/600\n",
      "426/426 [==============================] - 0s 76us/sample - loss: 0.0213 - val_loss: 0.1346\n",
      "Epoch 272/600\n",
      "426/426 [==============================] - 0s 74us/sample - loss: 0.0201 - val_loss: 0.1321\n",
      "Epoch 273/600\n",
      "426/426 [==============================] - 0s 77us/sample - loss: 0.0197 - val_loss: 0.1291\n",
      "Epoch 274/600\n",
      "426/426 [==============================] - 0s 84us/sample - loss: 0.0198 - val_loss: 0.1348\n",
      "Epoch 275/600\n",
      "426/426 [==============================] - 0s 87us/sample - loss: 0.0197 - val_loss: 0.1318\n",
      "Epoch 276/600\n",
      "426/426 [==============================] - 0s 73us/sample - loss: 0.0205 - val_loss: 0.1330\n",
      "Epoch 277/600\n",
      "426/426 [==============================] - ETA: 0s - loss: 0.025 - 0s 68us/sample - loss: 0.0208 - val_loss: 0.1293\n",
      "Epoch 278/600\n",
      "426/426 [==============================] - 0s 69us/sample - loss: 0.0221 - val_loss: 0.1476\n",
      "Epoch 279/600\n",
      "426/426 [==============================] - 0s 66us/sample - loss: 0.0210 - val_loss: 0.1279\n",
      "Epoch 280/600\n",
      "426/426 [==============================] - 0s 68us/sample - loss: 0.0216 - val_loss: 0.1370\n",
      "Epoch 281/600\n",
      "426/426 [==============================] - 0s 70us/sample - loss: 0.0200 - val_loss: 0.1271\n",
      "Epoch 282/600\n",
      "426/426 [==============================] - 0s 82us/sample - loss: 0.0197 - val_loss: 0.1310\n",
      "Epoch 283/600\n",
      "426/426 [==============================] - 0s 103us/sample - loss: 0.0190 - val_loss: 0.1353\n",
      "Epoch 284/600\n",
      "426/426 [==============================] - 0s 75us/sample - loss: 0.0212 - val_loss: 0.1273\n",
      "Epoch 285/600\n",
      "426/426 [==============================] - 0s 75us/sample - loss: 0.0220 - val_loss: 0.1342\n",
      "Epoch 286/600\n",
      "426/426 [==============================] - 0s 75us/sample - loss: 0.0186 - val_loss: 0.1300\n",
      "Epoch 287/600\n",
      "426/426 [==============================] - 0s 81us/sample - loss: 0.0196 - val_loss: 0.1418\n",
      "Epoch 288/600\n",
      "426/426 [==============================] - 0s 76us/sample - loss: 0.0183 - val_loss: 0.1308\n",
      "Epoch 289/600\n",
      "426/426 [==============================] - 0s 73us/sample - loss: 0.0197 - val_loss: 0.1532\n",
      "Epoch 290/600\n",
      "426/426 [==============================] - 0s 75us/sample - loss: 0.0232 - val_loss: 0.1305\n",
      "Epoch 291/600\n",
      "426/426 [==============================] - 0s 70us/sample - loss: 0.0221 - val_loss: 0.1510\n",
      "Epoch 292/600\n",
      "426/426 [==============================] - 0s 75us/sample - loss: 0.0270 - val_loss: 0.1276\n",
      "Epoch 293/600\n",
      "426/426 [==============================] - 0s 75us/sample - loss: 0.0194 - val_loss: 0.1458\n",
      "Epoch 294/600\n",
      "426/426 [==============================] - 0s 75us/sample - loss: 0.0197 - val_loss: 0.1345\n",
      "Epoch 295/600\n",
      "426/426 [==============================] - 0s 67us/sample - loss: 0.0181 - val_loss: 0.1338\n",
      "Epoch 296/600\n",
      "426/426 [==============================] - 0s 72us/sample - loss: 0.0175 - val_loss: 0.1359\n",
      "Epoch 297/600\n",
      "426/426 [==============================] - 0s 73us/sample - loss: 0.0180 - val_loss: 0.1411\n",
      "Epoch 298/600\n",
      "426/426 [==============================] - 0s 70us/sample - loss: 0.0171 - val_loss: 0.1341\n",
      "Epoch 299/600\n",
      "426/426 [==============================] - 0s 70us/sample - loss: 0.0176 - val_loss: 0.1428\n",
      "Epoch 300/600\n",
      "426/426 [==============================] - 0s 72us/sample - loss: 0.0195 - val_loss: 0.1370\n",
      "Epoch 301/600\n",
      "426/426 [==============================] - 0s 72us/sample - loss: 0.0212 - val_loss: 0.1326\n",
      "Epoch 302/600\n",
      "426/426 [==============================] - 0s 73us/sample - loss: 0.0249 - val_loss: 0.1664\n",
      "Epoch 303/600\n",
      "426/426 [==============================] - 0s 70us/sample - loss: 0.0242 - val_loss: 0.1286\n",
      "Epoch 304/600\n",
      "426/426 [==============================] - 0s 73us/sample - loss: 0.0194 - val_loss: 0.1350\n",
      "Epoch 305/600\n",
      "426/426 [==============================] - 0s 76us/sample - loss: 0.0174 - val_loss: 0.1373\n",
      "Epoch 306/600\n",
      "426/426 [==============================] - 0s 72us/sample - loss: 0.0177 - val_loss: 0.1431\n",
      "Epoch 307/600\n",
      "426/426 [==============================] - 0s 80us/sample - loss: 0.0172 - val_loss: 0.1396\n",
      "Epoch 308/600\n",
      "426/426 [==============================] - 0s 94us/sample - loss: 0.0165 - val_loss: 0.1366\n"
     ]
    },
    {
     "name": "stdout",
     "output_type": "stream",
     "text": [
      "Epoch 309/600\n",
      "426/426 [==============================] - 0s 74us/sample - loss: 0.0184 - val_loss: 0.1505\n",
      "Epoch 310/600\n",
      "426/426 [==============================] - 0s 72us/sample - loss: 0.0184 - val_loss: 0.1324\n",
      "Epoch 311/600\n",
      "426/426 [==============================] - 0s 70us/sample - loss: 0.0170 - val_loss: 0.1419\n",
      "Epoch 312/600\n",
      "426/426 [==============================] - 0s 68us/sample - loss: 0.0161 - val_loss: 0.1407\n",
      "Epoch 313/600\n",
      "426/426 [==============================] - 0s 74us/sample - loss: 0.0161 - val_loss: 0.1380\n",
      "Epoch 314/600\n",
      "426/426 [==============================] - 0s 73us/sample - loss: 0.0163 - val_loss: 0.1446\n",
      "Epoch 315/600\n",
      "426/426 [==============================] - 0s 73us/sample - loss: 0.0165 - val_loss: 0.1483\n",
      "Epoch 316/600\n",
      "426/426 [==============================] - 0s 75us/sample - loss: 0.0155 - val_loss: 0.1391\n",
      "Epoch 317/600\n",
      "426/426 [==============================] - 0s 72us/sample - loss: 0.0156 - val_loss: 0.1420\n",
      "Epoch 318/600\n",
      "426/426 [==============================] - 0s 77us/sample - loss: 0.0160 - val_loss: 0.1417\n",
      "Epoch 319/600\n",
      "426/426 [==============================] - 0s 77us/sample - loss: 0.0155 - val_loss: 0.1443\n",
      "Epoch 320/600\n",
      "426/426 [==============================] - 0s 73us/sample - loss: 0.0171 - val_loss: 0.1475\n",
      "Epoch 321/600\n",
      "426/426 [==============================] - 0s 74us/sample - loss: 0.0166 - val_loss: 0.1425\n",
      "Epoch 322/600\n",
      "426/426 [==============================] - 0s 75us/sample - loss: 0.0148 - val_loss: 0.1425\n",
      "Epoch 323/600\n",
      "426/426 [==============================] - 0s 77us/sample - loss: 0.0153 - val_loss: 0.1467\n",
      "Epoch 324/600\n",
      "426/426 [==============================] - 0s 74us/sample - loss: 0.0144 - val_loss: 0.1397\n",
      "Epoch 325/600\n",
      "426/426 [==============================] - 0s 75us/sample - loss: 0.0148 - val_loss: 0.1591\n",
      "Epoch 326/600\n",
      "426/426 [==============================] - 0s 75us/sample - loss: 0.0160 - val_loss: 0.1491\n",
      "Epoch 327/600\n",
      "426/426 [==============================] - 0s 77us/sample - loss: 0.0143 - val_loss: 0.1432\n",
      "Epoch 328/600\n",
      "426/426 [==============================] - 0s 78us/sample - loss: 0.0146 - val_loss: 0.1439\n",
      "Epoch 329/600\n",
      "426/426 [==============================] - 0s 81us/sample - loss: 0.0144 - val_loss: 0.1432\n",
      "Epoch 330/600\n",
      "426/426 [==============================] - 0s 80us/sample - loss: 0.0144 - val_loss: 0.1384\n",
      "Epoch 331/600\n",
      "426/426 [==============================] - 0s 77us/sample - loss: 0.0154 - val_loss: 0.1500\n",
      "Epoch 332/600\n",
      "426/426 [==============================] - 0s 77us/sample - loss: 0.0156 - val_loss: 0.1405\n",
      "Epoch 333/600\n",
      "426/426 [==============================] - 0s 77us/sample - loss: 0.0169 - val_loss: 0.1449\n",
      "Epoch 334/600\n",
      "426/426 [==============================] - 0s 79us/sample - loss: 0.0157 - val_loss: 0.1470\n",
      "Epoch 335/600\n",
      "426/426 [==============================] - 0s 75us/sample - loss: 0.0142 - val_loss: 0.1453\n",
      "Epoch 336/600\n",
      "426/426 [==============================] - 0s 76us/sample - loss: 0.0144 - val_loss: 0.1453\n",
      "Epoch 337/600\n",
      "426/426 [==============================] - ETA: 0s - loss: 0.016 - 0s 74us/sample - loss: 0.0144 - val_loss: 0.1461\n",
      "Epoch 338/600\n",
      "426/426 [==============================] - 0s 76us/sample - loss: 0.0140 - val_loss: 0.1534\n",
      "Epoch 339/600\n",
      "426/426 [==============================] - 0s 72us/sample - loss: 0.0196 - val_loss: 0.1416\n",
      "Epoch 340/600\n",
      "426/426 [==============================] - 0s 76us/sample - loss: 0.0165 - val_loss: 0.1594\n",
      "Epoch 341/600\n",
      "426/426 [==============================] - ETA: 0s - loss: 0.007 - 0s 76us/sample - loss: 0.0142 - val_loss: 0.1459\n",
      "Epoch 342/600\n",
      "426/426 [==============================] - 0s 79us/sample - loss: 0.0136 - val_loss: 0.1524\n",
      "Epoch 343/600\n",
      "426/426 [==============================] - 0s 78us/sample - loss: 0.0151 - val_loss: 0.1435\n",
      "Epoch 344/600\n",
      "426/426 [==============================] - 0s 76us/sample - loss: 0.0135 - val_loss: 0.1538\n",
      "Epoch 345/600\n",
      "426/426 [==============================] - 0s 73us/sample - loss: 0.0131 - val_loss: 0.1464\n",
      "Epoch 346/600\n",
      "426/426 [==============================] - 0s 76us/sample - loss: 0.0141 - val_loss: 0.1415\n",
      "Epoch 347/600\n",
      "426/426 [==============================] - 0s 77us/sample - loss: 0.0139 - val_loss: 0.1533\n",
      "Epoch 348/600\n",
      "426/426 [==============================] - 0s 84us/sample - loss: 0.0134 - val_loss: 0.1444\n",
      "Epoch 349/600\n",
      "426/426 [==============================] - 0s 78us/sample - loss: 0.0153 - val_loss: 0.1473\n",
      "Epoch 350/600\n",
      "426/426 [==============================] - 0s 75us/sample - loss: 0.0142 - val_loss: 0.1605\n",
      "Epoch 351/600\n",
      "426/426 [==============================] - 0s 79us/sample - loss: 0.0138 - val_loss: 0.1427\n",
      "Epoch 352/600\n",
      "426/426 [==============================] - 0s 80us/sample - loss: 0.0132 - val_loss: 0.1559\n",
      "Epoch 353/600\n",
      "426/426 [==============================] - 0s 80us/sample - loss: 0.0144 - val_loss: 0.1441\n",
      "Epoch 354/600\n",
      "426/426 [==============================] - 0s 76us/sample - loss: 0.0154 - val_loss: 0.1492\n",
      "Epoch 355/600\n",
      "426/426 [==============================] - 0s 77us/sample - loss: 0.0131 - val_loss: 0.1536\n",
      "Epoch 356/600\n",
      "426/426 [==============================] - 0s 77us/sample - loss: 0.0128 - val_loss: 0.1508\n",
      "Epoch 357/600\n",
      "426/426 [==============================] - 0s 89us/sample - loss: 0.0127 - val_loss: 0.1610\n",
      "Epoch 358/600\n",
      "426/426 [==============================] - 0s 78us/sample - loss: 0.0125 - val_loss: 0.1507\n",
      "Epoch 359/600\n",
      "426/426 [==============================] - 0s 72us/sample - loss: 0.0136 - val_loss: 0.1677\n",
      "Epoch 360/600\n",
      "426/426 [==============================] - 0s 75us/sample - loss: 0.0124 - val_loss: 0.1470\n",
      "Epoch 361/600\n",
      "426/426 [==============================] - 0s 74us/sample - loss: 0.0127 - val_loss: 0.1618\n",
      "Epoch 362/600\n",
      "426/426 [==============================] - 0s 73us/sample - loss: 0.0124 - val_loss: 0.1522\n",
      "Epoch 363/600\n",
      "426/426 [==============================] - 0s 73us/sample - loss: 0.0123 - val_loss: 0.1552\n",
      "Epoch 364/600\n",
      "426/426 [==============================] - 0s 75us/sample - loss: 0.0133 - val_loss: 0.1496\n",
      "Epoch 365/600\n",
      "426/426 [==============================] - 0s 75us/sample - loss: 0.0118 - val_loss: 0.1594\n",
      "Epoch 366/600\n",
      "426/426 [==============================] - 0s 75us/sample - loss: 0.0154 - val_loss: 0.1498\n",
      "Epoch 367/600\n",
      "426/426 [==============================] - 0s 76us/sample - loss: 0.0144 - val_loss: 0.1713\n",
      "Epoch 368/600\n",
      "426/426 [==============================] - 0s 75us/sample - loss: 0.0126 - val_loss: 0.1559\n",
      "Epoch 369/600\n",
      "426/426 [==============================] - 0s 75us/sample - loss: 0.0141 - val_loss: 0.1523\n",
      "Epoch 370/600\n",
      "426/426 [==============================] - 0s 75us/sample - loss: 0.0173 - val_loss: 0.1767\n",
      "Epoch 371/600\n",
      "426/426 [==============================] - 0s 76us/sample - loss: 0.0126 - val_loss: 0.1508\n",
      "Epoch 372/600\n",
      "426/426 [==============================] - 0s 80us/sample - loss: 0.0122 - val_loss: 0.1639\n",
      "Epoch 373/600\n",
      "426/426 [==============================] - 0s 77us/sample - loss: 0.0114 - val_loss: 0.1587\n",
      "Epoch 374/600\n",
      "426/426 [==============================] - 0s 80us/sample - loss: 0.0119 - val_loss: 0.1649\n",
      "Epoch 375/600\n",
      "426/426 [==============================] - 0s 77us/sample - loss: 0.0118 - val_loss: 0.1579\n",
      "Epoch 376/600\n",
      "426/426 [==============================] - 0s 77us/sample - loss: 0.0135 - val_loss: 0.1736\n",
      "Epoch 377/600\n",
      "426/426 [==============================] - 0s 72us/sample - loss: 0.0112 - val_loss: 0.1589\n",
      "Epoch 378/600\n",
      "426/426 [==============================] - 0s 80us/sample - loss: 0.0120 - val_loss: 0.1632\n",
      "Epoch 379/600\n",
      "426/426 [==============================] - 0s 75us/sample - loss: 0.0128 - val_loss: 0.1528\n",
      "Epoch 380/600\n",
      "426/426 [==============================] - 0s 75us/sample - loss: 0.0109 - val_loss: 0.1563\n",
      "Epoch 381/600\n",
      "426/426 [==============================] - 0s 76us/sample - loss: 0.0122 - val_loss: 0.1620\n",
      "Epoch 382/600\n",
      "426/426 [==============================] - 0s 75us/sample - loss: 0.0151 - val_loss: 0.1622\n",
      "Epoch 383/600\n",
      "426/426 [==============================] - 0s 77us/sample - loss: 0.0170 - val_loss: 0.1787\n",
      "Epoch 384/600\n",
      "426/426 [==============================] - 0s 74us/sample - loss: 0.0111 - val_loss: 0.1555\n",
      "Epoch 385/600\n",
      "426/426 [==============================] - 0s 77us/sample - loss: 0.0115 - val_loss: 0.1701\n"
     ]
    },
    {
     "name": "stdout",
     "output_type": "stream",
     "text": [
      "Epoch 386/600\n",
      "426/426 [==============================] - 0s 72us/sample - loss: 0.0109 - val_loss: 0.1602\n",
      "Epoch 387/600\n",
      "426/426 [==============================] - ETA: 0s - loss: 2.9930e-0 - 0s 75us/sample - loss: 0.0106 - val_loss: 0.1630\n",
      "Epoch 388/600\n",
      "426/426 [==============================] - 0s 86us/sample - loss: 0.0124 - val_loss: 0.1538\n",
      "Epoch 389/600\n",
      "426/426 [==============================] - 0s 78us/sample - loss: 0.0137 - val_loss: 0.1853\n",
      "Epoch 390/600\n",
      "426/426 [==============================] - 0s 75us/sample - loss: 0.0152 - val_loss: 0.1576\n",
      "Epoch 391/600\n",
      "426/426 [==============================] - 0s 75us/sample - loss: 0.0116 - val_loss: 0.1556\n",
      "Epoch 392/600\n",
      "426/426 [==============================] - 0s 70us/sample - loss: 0.0096 - val_loss: 0.1586\n",
      "Epoch 393/600\n",
      "426/426 [==============================] - 0s 73us/sample - loss: 0.0100 - val_loss: 0.1614\n",
      "Epoch 394/600\n",
      "426/426 [==============================] - 0s 72us/sample - loss: 0.0100 - val_loss: 0.1635\n",
      "Epoch 395/600\n",
      "426/426 [==============================] - 0s 73us/sample - loss: 0.0098 - val_loss: 0.1588\n",
      "Epoch 396/600\n",
      "426/426 [==============================] - 0s 75us/sample - loss: 0.0099 - val_loss: 0.1690\n",
      "Epoch 397/600\n",
      "426/426 [==============================] - 0s 74us/sample - loss: 0.0103 - val_loss: 0.1625\n",
      "Epoch 398/600\n",
      "426/426 [==============================] - 0s 77us/sample - loss: 0.0099 - val_loss: 0.1589\n",
      "Epoch 399/600\n",
      "426/426 [==============================] - 0s 72us/sample - loss: 0.0093 - val_loss: 0.1685\n",
      "Epoch 400/600\n",
      "426/426 [==============================] - 0s 74us/sample - loss: 0.0118 - val_loss: 0.1573\n",
      "Epoch 401/600\n",
      "426/426 [==============================] - 0s 77us/sample - loss: 0.0096 - val_loss: 0.1674\n",
      "Epoch 402/600\n",
      "426/426 [==============================] - 0s 76us/sample - loss: 0.0111 - val_loss: 0.1625\n",
      "Epoch 403/600\n",
      "426/426 [==============================] - 0s 77us/sample - loss: 0.0114 - val_loss: 0.1766\n",
      "Epoch 404/600\n",
      "426/426 [==============================] - 0s 74us/sample - loss: 0.0091 - val_loss: 0.1669\n",
      "Epoch 405/600\n",
      "426/426 [==============================] - 0s 74us/sample - loss: 0.0088 - val_loss: 0.1670\n",
      "Epoch 406/600\n",
      "426/426 [==============================] - 0s 77us/sample - loss: 0.0091 - val_loss: 0.1670\n",
      "Epoch 407/600\n",
      "426/426 [==============================] - 0s 74us/sample - loss: 0.0090 - val_loss: 0.1676\n",
      "Epoch 408/600\n",
      "426/426 [==============================] - 0s 82us/sample - loss: 0.0092 - val_loss: 0.1783\n",
      "Epoch 409/600\n",
      "426/426 [==============================] - 0s 77us/sample - loss: 0.0113 - val_loss: 0.1667\n",
      "Epoch 410/600\n",
      "426/426 [==============================] - 0s 75us/sample - loss: 0.0086 - val_loss: 0.1664\n",
      "Epoch 411/600\n",
      "426/426 [==============================] - 0s 75us/sample - loss: 0.0084 - val_loss: 0.1732\n",
      "Epoch 412/600\n",
      "426/426 [==============================] - 0s 77us/sample - loss: 0.0083 - val_loss: 0.1671\n",
      "Epoch 413/600\n",
      "426/426 [==============================] - 0s 75us/sample - loss: 0.0086 - val_loss: 0.1596\n",
      "Epoch 414/600\n",
      "426/426 [==============================] - 0s 77us/sample - loss: 0.0090 - val_loss: 0.1751\n",
      "Epoch 415/600\n",
      "426/426 [==============================] - 0s 77us/sample - loss: 0.0091 - val_loss: 0.1603\n",
      "Epoch 416/600\n",
      "426/426 [==============================] - 0s 76us/sample - loss: 0.0091 - val_loss: 0.1813\n",
      "Epoch 417/600\n",
      "426/426 [==============================] - 0s 75us/sample - loss: 0.0090 - val_loss: 0.1585\n",
      "Epoch 418/600\n",
      "426/426 [==============================] - 0s 76us/sample - loss: 0.0089 - val_loss: 0.1711\n",
      "Epoch 419/600\n",
      "426/426 [==============================] - 0s 76us/sample - loss: 0.0083 - val_loss: 0.1628\n",
      "Epoch 420/600\n",
      "426/426 [==============================] - 0s 78us/sample - loss: 0.0079 - val_loss: 0.1641\n",
      "Epoch 421/600\n",
      "426/426 [==============================] - 0s 72us/sample - loss: 0.0085 - val_loss: 0.1571\n",
      "Epoch 422/600\n",
      "426/426 [==============================] - 0s 75us/sample - loss: 0.0089 - val_loss: 0.1779\n",
      "Epoch 423/600\n",
      "426/426 [==============================] - 0s 77us/sample - loss: 0.0086 - val_loss: 0.1615\n",
      "Epoch 424/600\n",
      "426/426 [==============================] - 0s 79us/sample - loss: 0.0090 - val_loss: 0.1739\n",
      "Epoch 425/600\n",
      "426/426 [==============================] - 0s 76us/sample - loss: 0.0081 - val_loss: 0.1647\n",
      "Epoch 426/600\n",
      "426/426 [==============================] - 0s 78us/sample - loss: 0.0085 - val_loss: 0.1650\n",
      "Epoch 427/600\n",
      "426/426 [==============================] - 0s 77us/sample - loss: 0.0101 - val_loss: 0.1841\n",
      "Epoch 428/600\n",
      "426/426 [==============================] - 0s 77us/sample - loss: 0.0092 - val_loss: 0.1728\n",
      "Epoch 429/600\n",
      "426/426 [==============================] - 0s 75us/sample - loss: 0.0093 - val_loss: 0.1647\n",
      "Epoch 430/600\n",
      "426/426 [==============================] - 0s 75us/sample - loss: 0.0075 - val_loss: 0.1704\n",
      "Epoch 431/600\n",
      "426/426 [==============================] - 0s 77us/sample - loss: 0.0071 - val_loss: 0.1702\n",
      "Epoch 432/600\n",
      "426/426 [==============================] - 0s 75us/sample - loss: 0.0070 - val_loss: 0.1702\n",
      "Epoch 433/600\n",
      "426/426 [==============================] - 0s 78us/sample - loss: 0.0083 - val_loss: 0.1611\n",
      "Epoch 434/600\n",
      "426/426 [==============================] - 0s 77us/sample - loss: 0.0080 - val_loss: 0.1646\n",
      "Epoch 435/600\n",
      "426/426 [==============================] - 0s 74us/sample - loss: 0.0071 - val_loss: 0.1664\n",
      "Epoch 436/600\n",
      "426/426 [==============================] - 0s 77us/sample - loss: 0.0068 - val_loss: 0.1694\n",
      "Epoch 437/600\n",
      "426/426 [==============================] - 0s 74us/sample - loss: 0.0069 - val_loss: 0.1730\n",
      "Epoch 438/600\n",
      "426/426 [==============================] - 0s 84us/sample - loss: 0.0067 - val_loss: 0.1686\n",
      "Epoch 439/600\n",
      "426/426 [==============================] - 0s 80us/sample - loss: 0.0067 - val_loss: 0.1699\n",
      "Epoch 440/600\n",
      "426/426 [==============================] - 0s 75us/sample - loss: 0.0067 - val_loss: 0.1686\n",
      "Epoch 441/600\n",
      "426/426 [==============================] - 0s 79us/sample - loss: 0.0072 - val_loss: 0.1672\n",
      "Epoch 442/600\n",
      "426/426 [==============================] - 0s 78us/sample - loss: 0.0072 - val_loss: 0.1694\n",
      "Epoch 443/600\n",
      "426/426 [==============================] - 0s 82us/sample - loss: 0.0068 - val_loss: 0.1775\n",
      "Epoch 444/600\n",
      "426/426 [==============================] - 0s 79us/sample - loss: 0.0069 - val_loss: 0.1725\n",
      "Epoch 445/600\n",
      "426/426 [==============================] - 0s 86us/sample - loss: 0.0074 - val_loss: 0.1752\n",
      "Epoch 446/600\n",
      "426/426 [==============================] - 0s 80us/sample - loss: 0.0074 - val_loss: 0.1739\n",
      "Epoch 447/600\n",
      "426/426 [==============================] - 0s 82us/sample - loss: 0.0075 - val_loss: 0.1642\n",
      "Epoch 448/600\n",
      "426/426 [==============================] - 0s 80us/sample - loss: 0.0070 - val_loss: 0.1732\n",
      "Epoch 449/600\n",
      "426/426 [==============================] - 0s 83us/sample - loss: 0.0066 - val_loss: 0.1697\n",
      "Epoch 450/600\n",
      "426/426 [==============================] - 0s 78us/sample - loss: 0.0064 - val_loss: 0.1794\n",
      "Epoch 451/600\n",
      "426/426 [==============================] - 0s 91us/sample - loss: 0.0060 - val_loss: 0.1669\n",
      "Epoch 452/600\n",
      "426/426 [==============================] - 0s 83us/sample - loss: 0.0068 - val_loss: 0.1828\n",
      "Epoch 453/600\n",
      "426/426 [==============================] - 0s 77us/sample - loss: 0.0077 - val_loss: 0.1676\n",
      "Epoch 454/600\n",
      "426/426 [==============================] - ETA: 0s - loss: 0.006 - 0s 91us/sample - loss: 0.0064 - val_loss: 0.1713\n",
      "Epoch 455/600\n",
      "426/426 [==============================] - 0s 91us/sample - loss: 0.0066 - val_loss: 0.1766\n",
      "Epoch 456/600\n",
      "426/426 [==============================] - 0s 84us/sample - loss: 0.0066 - val_loss: 0.1709\n",
      "Epoch 457/600\n",
      "426/426 [==============================] - 0s 77us/sample - loss: 0.0064 - val_loss: 0.1758\n",
      "Epoch 458/600\n",
      "426/426 [==============================] - 0s 82us/sample - loss: 0.0061 - val_loss: 0.1665\n",
      "Epoch 459/600\n",
      "426/426 [==============================] - 0s 77us/sample - loss: 0.0069 - val_loss: 0.1784\n",
      "Epoch 460/600\n",
      "426/426 [==============================] - 0s 78us/sample - loss: 0.0068 - val_loss: 0.1680\n",
      "Epoch 461/600\n",
      "426/426 [==============================] - 0s 79us/sample - loss: 0.0064 - val_loss: 0.1784\n",
      "Epoch 462/600\n",
      "426/426 [==============================] - 0s 77us/sample - loss: 0.0057 - val_loss: 0.1687\n"
     ]
    },
    {
     "name": "stdout",
     "output_type": "stream",
     "text": [
      "Epoch 463/600\n",
      "426/426 [==============================] - 0s 84us/sample - loss: 0.0056 - val_loss: 0.1769\n",
      "Epoch 464/600\n",
      "426/426 [==============================] - 0s 75us/sample - loss: 0.0057 - val_loss: 0.1718\n",
      "Epoch 465/600\n",
      "426/426 [==============================] - 0s 77us/sample - loss: 0.0062 - val_loss: 0.1756\n",
      "Epoch 466/600\n",
      "426/426 [==============================] - 0s 82us/sample - loss: 0.0064 - val_loss: 0.1692\n",
      "Epoch 467/600\n",
      "426/426 [==============================] - 0s 80us/sample - loss: 0.0076 - val_loss: 0.1851\n",
      "Epoch 468/600\n",
      "426/426 [==============================] - 0s 77us/sample - loss: 0.0059 - val_loss: 0.1621\n",
      "Epoch 469/600\n",
      "426/426 [==============================] - 0s 77us/sample - loss: 0.0078 - val_loss: 0.1900\n",
      "Epoch 470/600\n",
      "426/426 [==============================] - 0s 77us/sample - loss: 0.0055 - val_loss: 0.1733\n",
      "Epoch 471/600\n",
      "426/426 [==============================] - 0s 72us/sample - loss: 0.0059 - val_loss: 0.1740\n",
      "Epoch 472/600\n",
      "426/426 [==============================] - 0s 77us/sample - loss: 0.0054 - val_loss: 0.1754\n",
      "Epoch 473/600\n",
      "426/426 [==============================] - 0s 77us/sample - loss: 0.0067 - val_loss: 0.1706\n",
      "Epoch 474/600\n",
      "426/426 [==============================] - 0s 73us/sample - loss: 0.0093 - val_loss: 0.1907\n",
      "Epoch 475/600\n",
      "426/426 [==============================] - 0s 80us/sample - loss: 0.0059 - val_loss: 0.1674\n",
      "Epoch 476/600\n",
      "426/426 [==============================] - 0s 77us/sample - loss: 0.0059 - val_loss: 0.1721\n",
      "Epoch 477/600\n",
      "426/426 [==============================] - 0s 73us/sample - loss: 0.0062 - val_loss: 0.1723\n",
      "Epoch 478/600\n",
      "426/426 [==============================] - 0s 75us/sample - loss: 0.0065 - val_loss: 0.1772\n",
      "Epoch 479/600\n",
      "426/426 [==============================] - 0s 72us/sample - loss: 0.0058 - val_loss: 0.1782\n",
      "Epoch 480/600\n",
      "426/426 [==============================] - 0s 75us/sample - loss: 0.0061 - val_loss: 0.1680\n",
      "Epoch 481/600\n",
      "426/426 [==============================] - 0s 75us/sample - loss: 0.0054 - val_loss: 0.1745\n",
      "Epoch 482/600\n",
      "426/426 [==============================] - 0s 74us/sample - loss: 0.0046 - val_loss: 0.1777\n",
      "Epoch 483/600\n",
      "426/426 [==============================] - 0s 77us/sample - loss: 0.0048 - val_loss: 0.1778\n",
      "Epoch 484/600\n",
      "426/426 [==============================] - 0s 72us/sample - loss: 0.0055 - val_loss: 0.1729\n",
      "Epoch 485/600\n",
      "426/426 [==============================] - 0s 73us/sample - loss: 0.0049 - val_loss: 0.1820\n",
      "Epoch 486/600\n",
      "426/426 [==============================] - 0s 73us/sample - loss: 0.0055 - val_loss: 0.1844\n",
      "Epoch 487/600\n",
      "426/426 [==============================] - 0s 76us/sample - loss: 0.0050 - val_loss: 0.1737\n",
      "Epoch 488/600\n",
      "426/426 [==============================] - 0s 76us/sample - loss: 0.0044 - val_loss: 0.1828\n",
      "Epoch 489/600\n",
      "426/426 [==============================] - 0s 77us/sample - loss: 0.0045 - val_loss: 0.1767\n",
      "Epoch 490/600\n",
      "426/426 [==============================] - 0s 78us/sample - loss: 0.0048 - val_loss: 0.1849\n",
      "Epoch 491/600\n",
      "426/426 [==============================] - 0s 75us/sample - loss: 0.0045 - val_loss: 0.1785\n",
      "Epoch 492/600\n",
      "426/426 [==============================] - 0s 76us/sample - loss: 0.0046 - val_loss: 0.1793\n",
      "Epoch 493/600\n",
      "426/426 [==============================] - 0s 75us/sample - loss: 0.0044 - val_loss: 0.1756\n",
      "Epoch 494/600\n",
      "426/426 [==============================] - 0s 73us/sample - loss: 0.0047 - val_loss: 0.1792\n",
      "Epoch 495/600\n",
      "426/426 [==============================] - 0s 76us/sample - loss: 0.0048 - val_loss: 0.1814\n",
      "Epoch 496/600\n",
      "426/426 [==============================] - 0s 76us/sample - loss: 0.0045 - val_loss: 0.1736\n",
      "Epoch 497/600\n",
      "426/426 [==============================] - 0s 82us/sample - loss: 0.0046 - val_loss: 0.1865\n",
      "Epoch 498/600\n",
      "426/426 [==============================] - 0s 75us/sample - loss: 0.0043 - val_loss: 0.1753\n",
      "Epoch 499/600\n",
      "426/426 [==============================] - 0s 73us/sample - loss: 0.0046 - val_loss: 0.1810\n",
      "Epoch 500/600\n",
      "426/426 [==============================] - ETA: 0s - loss: 0.002 - 0s 75us/sample - loss: 0.0043 - val_loss: 0.1791\n",
      "Epoch 501/600\n",
      "426/426 [==============================] - 0s 78us/sample - loss: 0.0040 - val_loss: 0.1833\n",
      "Epoch 502/600\n",
      "426/426 [==============================] - 0s 70us/sample - loss: 0.0040 - val_loss: 0.1805\n",
      "Epoch 503/600\n",
      "426/426 [==============================] - 0s 77us/sample - loss: 0.0040 - val_loss: 0.1833\n",
      "Epoch 504/600\n",
      "426/426 [==============================] - 0s 70us/sample - loss: 0.0042 - val_loss: 0.1816\n",
      "Epoch 505/600\n",
      "426/426 [==============================] - 0s 79us/sample - loss: 0.0040 - val_loss: 0.1809\n",
      "Epoch 506/600\n",
      "426/426 [==============================] - 0s 73us/sample - loss: 0.0038 - val_loss: 0.1823\n",
      "Epoch 507/600\n",
      "426/426 [==============================] - 0s 75us/sample - loss: 0.0040 - val_loss: 0.1788\n",
      "Epoch 508/600\n",
      "426/426 [==============================] - 0s 75us/sample - loss: 0.0042 - val_loss: 0.1787\n",
      "Epoch 509/600\n",
      "426/426 [==============================] - 0s 81us/sample - loss: 0.0053 - val_loss: 0.1846\n",
      "Epoch 510/600\n",
      "426/426 [==============================] - 0s 74us/sample - loss: 0.0081 - val_loss: 0.1939\n",
      "Epoch 511/600\n",
      "426/426 [==============================] - 0s 78us/sample - loss: 0.0049 - val_loss: 0.1867\n",
      "Epoch 512/600\n",
      "426/426 [==============================] - 0s 82us/sample - loss: 0.0038 - val_loss: 0.1866\n",
      "Epoch 513/600\n",
      "426/426 [==============================] - 0s 82us/sample - loss: 0.0039 - val_loss: 0.1786\n",
      "Epoch 514/600\n",
      "426/426 [==============================] - 0s 82us/sample - loss: 0.0039 - val_loss: 0.1840\n",
      "Epoch 515/600\n",
      "426/426 [==============================] - 0s 98us/sample - loss: 0.0040 - val_loss: 0.1816\n",
      "Epoch 516/600\n",
      "426/426 [==============================] - 0s 75us/sample - loss: 0.0039 - val_loss: 0.1844\n",
      "Epoch 517/600\n",
      "426/426 [==============================] - 0s 75us/sample - loss: 0.0036 - val_loss: 0.1821\n",
      "Epoch 518/600\n",
      "426/426 [==============================] - 0s 73us/sample - loss: 0.0039 - val_loss: 0.1803\n",
      "Epoch 519/600\n",
      "426/426 [==============================] - 0s 70us/sample - loss: 0.0038 - val_loss: 0.1817\n",
      "Epoch 520/600\n",
      "426/426 [==============================] - 0s 73us/sample - loss: 0.0037 - val_loss: 0.1872\n",
      "Epoch 521/600\n",
      "426/426 [==============================] - 0s 66us/sample - loss: 0.0033 - val_loss: 0.1799\n",
      "Epoch 522/600\n",
      "426/426 [==============================] - 0s 73us/sample - loss: 0.0033 - val_loss: 0.1837\n",
      "Epoch 523/600\n",
      "426/426 [==============================] - 0s 63us/sample - loss: 0.0039 - val_loss: 0.1770\n",
      "Epoch 524/600\n",
      "426/426 [==============================] - 0s 66us/sample - loss: 0.0039 - val_loss: 0.1849\n",
      "Epoch 525/600\n",
      "426/426 [==============================] - 0s 69us/sample - loss: 0.0034 - val_loss: 0.1813\n",
      "Epoch 526/600\n",
      "426/426 [==============================] - 0s 66us/sample - loss: 0.0034 - val_loss: 0.1796\n",
      "Epoch 527/600\n",
      "426/426 [==============================] - 0s 77us/sample - loss: 0.0035 - val_loss: 0.1851\n",
      "Epoch 528/600\n",
      "426/426 [==============================] - 0s 75us/sample - loss: 0.0035 - val_loss: 0.1900\n",
      "Epoch 529/600\n",
      "426/426 [==============================] - 0s 77us/sample - loss: 0.0032 - val_loss: 0.1824\n",
      "Epoch 530/600\n",
      "426/426 [==============================] - 0s 73us/sample - loss: 0.0034 - val_loss: 0.1821\n",
      "Epoch 531/600\n",
      "426/426 [==============================] - 0s 70us/sample - loss: 0.0034 - val_loss: 0.1882\n",
      "Epoch 532/600\n",
      "426/426 [==============================] - 0s 75us/sample - loss: 0.0031 - val_loss: 0.1845\n",
      "Epoch 533/600\n",
      "426/426 [==============================] - 0s 75us/sample - loss: 0.0035 - val_loss: 0.1870\n",
      "Epoch 534/600\n",
      "426/426 [==============================] - 0s 71us/sample - loss: 0.0034 - val_loss: 0.1801\n",
      "Epoch 535/600\n",
      "426/426 [==============================] - 0s 78us/sample - loss: 0.0034 - val_loss: 0.1898\n",
      "Epoch 536/600\n",
      "426/426 [==============================] - 0s 72us/sample - loss: 0.0038 - val_loss: 0.1818\n",
      "Epoch 537/600\n",
      "426/426 [==============================] - 0s 68us/sample - loss: 0.0038 - val_loss: 0.1805\n",
      "Epoch 538/600\n",
      "426/426 [==============================] - 0s 73us/sample - loss: 0.0042 - val_loss: 0.1809\n",
      "Epoch 539/600\n",
      "426/426 [==============================] - 0s 72us/sample - loss: 0.0044 - val_loss: 0.1866\n",
      "Epoch 540/600\n"
     ]
    },
    {
     "name": "stdout",
     "output_type": "stream",
     "text": [
      "426/426 [==============================] - 0s 70us/sample - loss: 0.0047 - val_loss: 0.1769\n",
      "Epoch 541/600\n",
      "426/426 [==============================] - 0s 73us/sample - loss: 0.0035 - val_loss: 0.1937\n",
      "Epoch 542/600\n",
      "426/426 [==============================] - 0s 70us/sample - loss: 0.0033 - val_loss: 0.1828\n",
      "Epoch 543/600\n",
      "426/426 [==============================] - 0s 71us/sample - loss: 0.0029 - val_loss: 0.1859\n",
      "Epoch 544/600\n",
      "426/426 [==============================] - 0s 70us/sample - loss: 0.0028 - val_loss: 0.1900\n",
      "Epoch 545/600\n",
      "426/426 [==============================] - 0s 71us/sample - loss: 0.0030 - val_loss: 0.1896\n",
      "Epoch 546/600\n",
      "426/426 [==============================] - 0s 72us/sample - loss: 0.0027 - val_loss: 0.1892\n",
      "Epoch 547/600\n",
      "426/426 [==============================] - 0s 74us/sample - loss: 0.0028 - val_loss: 0.1861\n",
      "Epoch 548/600\n",
      "426/426 [==============================] - 0s 73us/sample - loss: 0.0027 - val_loss: 0.1858\n",
      "Epoch 549/600\n",
      "426/426 [==============================] - 0s 73us/sample - loss: 0.0029 - val_loss: 0.1940\n",
      "Epoch 550/600\n",
      "426/426 [==============================] - 0s 74us/sample - loss: 0.0029 - val_loss: 0.1846\n",
      "Epoch 551/600\n",
      "426/426 [==============================] - ETA: 0s - loss: 2.2309e-0 - 0s 73us/sample - loss: 0.0034 - val_loss: 0.2002\n",
      "Epoch 552/600\n",
      "426/426 [==============================] - 0s 72us/sample - loss: 0.0029 - val_loss: 0.1839\n",
      "Epoch 553/600\n",
      "426/426 [==============================] - 0s 70us/sample - loss: 0.0031 - val_loss: 0.1908\n",
      "Epoch 554/600\n",
      "426/426 [==============================] - 0s 72us/sample - loss: 0.0025 - val_loss: 0.1721\n",
      "Epoch 555/600\n",
      "426/426 [==============================] - 0s 75us/sample - loss: 0.0031 - val_loss: 0.1852\n",
      "Epoch 556/600\n",
      "426/426 [==============================] - 0s 74us/sample - loss: 0.0025 - val_loss: 0.1760\n",
      "Epoch 557/600\n",
      "426/426 [==============================] - 0s 72us/sample - loss: 0.0029 - val_loss: 0.2033\n",
      "Epoch 558/600\n",
      "426/426 [==============================] - 0s 80us/sample - loss: 0.0032 - val_loss: 0.1856\n",
      "Epoch 559/600\n",
      "426/426 [==============================] - 0s 75us/sample - loss: 0.0029 - val_loss: 0.1990\n",
      "Epoch 560/600\n",
      "426/426 [==============================] - 0s 77us/sample - loss: 0.0028 - val_loss: 0.1889\n",
      "Epoch 561/600\n",
      "426/426 [==============================] - 0s 78us/sample - loss: 0.0026 - val_loss: 0.1980\n",
      "Epoch 562/600\n",
      "426/426 [==============================] - 0s 77us/sample - loss: 0.0029 - val_loss: 0.1933\n",
      "Epoch 563/600\n",
      "426/426 [==============================] - 0s 77us/sample - loss: 0.0024 - val_loss: 0.1886\n",
      "Epoch 564/600\n",
      "426/426 [==============================] - 0s 76us/sample - loss: 0.0026 - val_loss: 0.1893\n",
      "Epoch 565/600\n",
      "426/426 [==============================] - 0s 75us/sample - loss: 0.0024 - val_loss: 0.1943\n",
      "Epoch 566/600\n",
      "426/426 [==============================] - 0s 74us/sample - loss: 0.0024 - val_loss: 0.1894\n",
      "Epoch 567/600\n",
      "426/426 [==============================] - 0s 77us/sample - loss: 0.0023 - val_loss: 0.1941\n",
      "Epoch 568/600\n",
      "426/426 [==============================] - 0s 74us/sample - loss: 0.0031 - val_loss: 0.1894\n",
      "Epoch 569/600\n",
      "426/426 [==============================] - 0s 76us/sample - loss: 0.0026 - val_loss: 0.1994\n",
      "Epoch 570/600\n",
      "426/426 [==============================] - 0s 77us/sample - loss: 0.0025 - val_loss: 0.1939\n",
      "Epoch 571/600\n",
      "426/426 [==============================] - 0s 76us/sample - loss: 0.0023 - val_loss: 0.1883\n",
      "Epoch 572/600\n",
      "426/426 [==============================] - 0s 74us/sample - loss: 0.0023 - val_loss: 0.1971\n",
      "Epoch 573/600\n",
      "426/426 [==============================] - 0s 75us/sample - loss: 0.0023 - val_loss: 0.1880\n",
      "Epoch 574/600\n",
      "426/426 [==============================] - 0s 75us/sample - loss: 0.0023 - val_loss: 0.1892\n",
      "Epoch 575/600\n",
      "426/426 [==============================] - 0s 75us/sample - loss: 0.0028 - val_loss: 0.2028\n",
      "Epoch 576/600\n",
      "426/426 [==============================] - 0s 79us/sample - loss: 0.0023 - val_loss: 0.1848\n",
      "Epoch 577/600\n",
      "426/426 [==============================] - 0s 79us/sample - loss: 0.0022 - val_loss: 0.1887\n",
      "Epoch 578/600\n",
      "426/426 [==============================] - 0s 89us/sample - loss: 0.0023 - val_loss: 0.1905\n",
      "Epoch 579/600\n",
      "426/426 [==============================] - 0s 77us/sample - loss: 0.0023 - val_loss: 0.1921\n",
      "Epoch 580/600\n",
      "426/426 [==============================] - 0s 82us/sample - loss: 0.0025 - val_loss: 0.1838\n",
      "Epoch 581/600\n",
      "426/426 [==============================] - 0s 75us/sample - loss: 0.0028 - val_loss: 0.2070\n",
      "Epoch 582/600\n",
      "426/426 [==============================] - 0s 78us/sample - loss: 0.0025 - val_loss: 0.1833\n",
      "Epoch 583/600\n",
      "426/426 [==============================] - 0s 81us/sample - loss: 0.0027 - val_loss: 0.1941\n",
      "Epoch 584/600\n",
      "426/426 [==============================] - 0s 86us/sample - loss: 0.0021 - val_loss: 0.1891\n",
      "Epoch 585/600\n",
      "426/426 [==============================] - 0s 131us/sample - loss: 0.0023 - val_loss: 0.1840\n",
      "Epoch 586/600\n",
      "426/426 [==============================] - 0s 82us/sample - loss: 0.0030 - val_loss: 0.2075\n",
      "Epoch 587/600\n",
      "426/426 [==============================] - 0s 79us/sample - loss: 0.0025 - val_loss: 0.2075\n",
      "Epoch 588/600\n",
      "426/426 [==============================] - 0s 73us/sample - loss: 0.0025 - val_loss: 0.1869\n",
      "Epoch 589/600\n",
      "426/426 [==============================] - 0s 63us/sample - loss: 0.0023 - val_loss: 0.2108\n",
      "Epoch 590/600\n",
      "426/426 [==============================] - 0s 62us/sample - loss: 0.0024 - val_loss: 0.1909\n",
      "Epoch 591/600\n",
      "426/426 [==============================] - 0s 68us/sample - loss: 0.0019 - val_loss: 0.1994\n",
      "Epoch 592/600\n",
      "426/426 [==============================] - 0s 58us/sample - loss: 0.0021 - val_loss: 0.1912\n",
      "Epoch 593/600\n",
      "426/426 [==============================] - 0s 59us/sample - loss: 0.0019 - val_loss: 0.1954\n",
      "Epoch 594/600\n",
      "426/426 [==============================] - 0s 60us/sample - loss: 0.0020 - val_loss: 0.1918\n",
      "Epoch 595/600\n",
      "426/426 [==============================] - 0s 59us/sample - loss: 0.0022 - val_loss: 0.1943\n",
      "Epoch 596/600\n",
      "426/426 [==============================] - 0s 61us/sample - loss: 0.0021 - val_loss: 0.1997\n",
      "Epoch 597/600\n",
      "426/426 [==============================] - 0s 60us/sample - loss: 0.0020 - val_loss: 0.2026\n",
      "Epoch 598/600\n",
      "426/426 [==============================] - 0s 61us/sample - loss: 0.0021 - val_loss: 0.1966\n",
      "Epoch 599/600\n",
      "426/426 [==============================] - 0s 70us/sample - loss: 0.0018 - val_loss: 0.1968\n",
      "Epoch 600/600\n",
      "426/426 [==============================] - 0s 66us/sample - loss: 0.0025 - val_loss: 0.2190\n"
     ]
    },
    {
     "data": {
      "text/plain": [
       "<tensorflow.python.keras.callbacks.History at 0x259d0d0c3c8>"
      ]
     },
     "execution_count": 43,
     "metadata": {},
     "output_type": "execute_result"
    }
   ],
   "source": [
    "model.fit(x=X_train, y=y_train, validation_data=(X_test, y_test), epochs=600)"
   ]
  },
  {
   "cell_type": "code",
   "execution_count": 44,
   "metadata": {},
   "outputs": [],
   "source": [
    "loss = pd.DataFrame(model.history.history)"
   ]
  },
  {
   "cell_type": "code",
   "execution_count": 55,
   "metadata": {},
   "outputs": [
    {
     "data": {
      "application/vnd.plotly.v1+json": {
       "config": {
        "linkText": "Export to plot.ly",
        "plotlyServerURL": "https://plot.ly",
        "showLink": true
       },
       "data": [
        {
         "line": {
          "color": "rgba(255, 153, 51, 1.0)",
          "dash": "solid",
          "shape": "linear",
          "width": 1.3
         },
         "mode": "lines",
         "name": "loss",
         "text": "",
         "type": "scatter",
         "x": [
          0,
          1,
          2,
          3,
          4,
          5,
          6,
          7,
          8,
          9,
          10,
          11,
          12,
          13,
          14,
          15,
          16,
          17,
          18,
          19,
          20,
          21,
          22,
          23,
          24,
          25,
          26,
          27,
          28,
          29,
          30,
          31,
          32,
          33,
          34,
          35,
          36,
          37,
          38,
          39,
          40,
          41,
          42,
          43,
          44,
          45,
          46,
          47,
          48,
          49,
          50,
          51,
          52,
          53,
          54,
          55,
          56,
          57,
          58,
          59,
          60,
          61,
          62,
          63,
          64,
          65,
          66,
          67,
          68,
          69,
          70,
          71,
          72,
          73,
          74,
          75,
          76,
          77,
          78,
          79,
          80,
          81,
          82,
          83,
          84,
          85,
          86,
          87,
          88,
          89,
          90,
          91,
          92,
          93,
          94,
          95,
          96,
          97,
          98,
          99,
          100,
          101,
          102,
          103,
          104,
          105,
          106,
          107,
          108,
          109,
          110,
          111,
          112,
          113,
          114,
          115,
          116,
          117,
          118,
          119,
          120,
          121,
          122,
          123,
          124,
          125,
          126,
          127,
          128,
          129,
          130,
          131,
          132,
          133,
          134,
          135,
          136,
          137,
          138,
          139,
          140,
          141,
          142,
          143,
          144,
          145,
          146,
          147,
          148,
          149,
          150,
          151,
          152,
          153,
          154,
          155,
          156,
          157,
          158,
          159,
          160,
          161,
          162,
          163,
          164,
          165,
          166,
          167,
          168,
          169,
          170,
          171,
          172,
          173,
          174,
          175,
          176,
          177,
          178,
          179,
          180,
          181,
          182,
          183,
          184,
          185,
          186,
          187,
          188,
          189,
          190,
          191,
          192,
          193,
          194,
          195,
          196,
          197,
          198,
          199,
          200,
          201,
          202,
          203,
          204,
          205,
          206,
          207,
          208,
          209,
          210,
          211,
          212,
          213,
          214,
          215,
          216,
          217,
          218,
          219,
          220,
          221,
          222,
          223,
          224,
          225,
          226,
          227,
          228,
          229,
          230,
          231,
          232,
          233,
          234,
          235,
          236,
          237,
          238,
          239,
          240,
          241,
          242,
          243,
          244,
          245,
          246,
          247,
          248,
          249,
          250,
          251,
          252,
          253,
          254,
          255,
          256,
          257,
          258,
          259,
          260,
          261,
          262,
          263,
          264,
          265,
          266,
          267,
          268,
          269,
          270,
          271,
          272,
          273,
          274,
          275,
          276,
          277,
          278,
          279,
          280,
          281,
          282,
          283,
          284,
          285,
          286,
          287,
          288,
          289,
          290,
          291,
          292,
          293,
          294,
          295,
          296,
          297,
          298,
          299,
          300,
          301,
          302,
          303,
          304,
          305,
          306,
          307,
          308,
          309,
          310,
          311,
          312,
          313,
          314,
          315,
          316,
          317,
          318,
          319,
          320,
          321,
          322,
          323,
          324,
          325,
          326,
          327,
          328,
          329,
          330,
          331,
          332,
          333,
          334,
          335,
          336,
          337,
          338,
          339,
          340,
          341,
          342,
          343,
          344,
          345,
          346,
          347,
          348,
          349,
          350,
          351,
          352,
          353,
          354,
          355,
          356,
          357,
          358,
          359,
          360,
          361,
          362,
          363,
          364,
          365,
          366,
          367,
          368,
          369,
          370,
          371,
          372,
          373,
          374,
          375,
          376,
          377,
          378,
          379,
          380,
          381,
          382,
          383,
          384,
          385,
          386,
          387,
          388,
          389,
          390,
          391,
          392,
          393,
          394,
          395,
          396,
          397,
          398,
          399,
          400,
          401,
          402,
          403,
          404,
          405,
          406,
          407,
          408,
          409,
          410,
          411,
          412,
          413,
          414,
          415,
          416,
          417,
          418,
          419,
          420,
          421,
          422,
          423,
          424,
          425,
          426,
          427,
          428,
          429,
          430,
          431,
          432,
          433,
          434,
          435,
          436,
          437,
          438,
          439,
          440,
          441,
          442,
          443,
          444,
          445,
          446,
          447,
          448,
          449,
          450,
          451,
          452,
          453,
          454,
          455,
          456,
          457,
          458,
          459,
          460,
          461,
          462,
          463,
          464,
          465,
          466,
          467,
          468,
          469,
          470,
          471,
          472,
          473,
          474,
          475,
          476,
          477,
          478,
          479,
          480,
          481,
          482,
          483,
          484,
          485,
          486,
          487,
          488,
          489,
          490,
          491,
          492,
          493,
          494,
          495,
          496,
          497,
          498,
          499,
          500,
          501,
          502,
          503,
          504,
          505,
          506,
          507,
          508,
          509,
          510,
          511,
          512,
          513,
          514,
          515,
          516,
          517,
          518,
          519,
          520,
          521,
          522,
          523,
          524,
          525,
          526,
          527,
          528,
          529,
          530,
          531,
          532,
          533,
          534,
          535,
          536,
          537,
          538,
          539,
          540,
          541,
          542,
          543,
          544,
          545,
          546,
          547,
          548,
          549,
          550,
          551,
          552,
          553,
          554,
          555,
          556,
          557,
          558,
          559,
          560,
          561,
          562,
          563,
          564,
          565,
          566,
          567,
          568,
          569,
          570,
          571,
          572,
          573,
          574,
          575,
          576,
          577,
          578,
          579,
          580,
          581,
          582,
          583,
          584,
          585,
          586,
          587,
          588,
          589,
          590,
          591,
          592,
          593,
          594,
          595,
          596,
          597,
          598,
          599
         ],
         "y": [
          0.6764855312069816,
          0.6369481475700235,
          0.5949196230637636,
          0.5459554315732679,
          0.4943694287622479,
          0.44564581672910236,
          0.3956656232126442,
          0.3521799836919901,
          0.3187214114436521,
          0.28731873785386064,
          0.2657954179345162,
          0.2396663633030905,
          0.22255557341754717,
          0.2050373656369151,
          0.19066671544397382,
          0.17764892817383082,
          0.1693733705321388,
          0.16144753516839702,
          0.14912271212803926,
          0.14433414072777745,
          0.13536799009976813,
          0.12727737989049281,
          0.1204161556184012,
          0.1169552100656178,
          0.11213665857841151,
          0.10637447951545179,
          0.10194045899899352,
          0.09914765419534674,
          0.09574774040582594,
          0.09180901077151858,
          0.08861376458840191,
          0.08614445404267647,
          0.08287031854122458,
          0.08150236173904558,
          0.08077209093061412,
          0.07752782415965913,
          0.07497943924661253,
          0.0763613759352008,
          0.07147625366776762,
          0.07094964993671632,
          0.06998993120562862,
          0.0686639699464043,
          0.06981532688431896,
          0.06652499854284832,
          0.06544542158713364,
          0.06598681559515111,
          0.06641573249034478,
          0.06321079868980696,
          0.062391292137649136,
          0.06055222136873595,
          0.0682771269214545,
          0.06808070940765697,
          0.05986250499744371,
          0.06435711915329309,
          0.06140285247648266,
          0.057174179458142446,
          0.06023176789432414,
          0.057398474963268206,
          0.05736050216542303,
          0.05630114721790166,
          0.054857643259942815,
          0.05883282168108113,
          0.05462795000374667,
          0.0556408299019499,
          0.05350842043547563,
          0.05337534907837989,
          0.05448410612806468,
          0.05368175871775184,
          0.05395783630894943,
          0.0557936538391235,
          0.052393532596406105,
          0.052274589046416145,
          0.05261026176366028,
          0.053015155674006456,
          0.05207059277055409,
          0.05182789913225622,
          0.05215007325573147,
          0.052265706492867756,
          0.04942097021878955,
          0.04935627542173778,
          0.049483559229914015,
          0.04864250770616979,
          0.05124597053782481,
          0.05225119112767804,
          0.048301988714177846,
          0.04829756908573455,
          0.05441210354227975,
          0.05381394821074857,
          0.052403088886413214,
          0.05092617605283786,
          0.04663880027725663,
          0.047158017427717365,
          0.04631320734567363,
          0.0459089403351148,
          0.0480366752443599,
          0.04695299169280404,
          0.04601433759494007,
          0.04477165679626621,
          0.045553388170233355,
          0.05109178666637537,
          0.045878727811043254,
          0.04327699871287799,
          0.04535847616998453,
          0.04505266078655988,
          0.044458896859588336,
          0.043278340005398916,
          0.044282045162899394,
          0.04431684280225369,
          0.0443847079984319,
          0.046415534902346525,
          0.05192429626561666,
          0.04714643976218264,
          0.04415234977580572,
          0.04232578028535619,
          0.04167158927051394,
          0.042560985451782815,
          0.041618774115969315,
          0.04183336712000236,
          0.040679459070935495,
          0.040892475488499475,
          0.042128810729009446,
          0.04017152950307573,
          0.04177786780634956,
          0.045047847755218334,
          0.04553663053772819,
          0.041846114862273,
          0.04555514933633784,
          0.044917424624794526,
          0.04050295417385062,
          0.038980360634782364,
          0.03927661235632261,
          0.03947069568498314,
          0.041169584155992166,
          0.040637238379655306,
          0.03929012246263769,
          0.037900837861928445,
          0.03796939734924812,
          0.03749473734011113,
          0.03761301562299366,
          0.03735826126006847,
          0.039978847126235985,
          0.041964803450684034,
          0.03739519974111881,
          0.036763840250041285,
          0.036060055918956585,
          0.036433511426751046,
          0.03638254768464347,
          0.03934490125303314,
          0.039585310930797195,
          0.038539878004164974,
          0.03628684669523172,
          0.03613912770655793,
          0.037061771850141,
          0.03640345849332885,
          0.036189960912110485,
          0.0350794659429033,
          0.035116076645137474,
          0.035515748202678325,
          0.034453229270350764,
          0.03445939619111623,
          0.03518642490388642,
          0.03426821381203445,
          0.037260951220709396,
          0.04481127632545753,
          0.048126733525188314,
          0.03749258584941917,
          0.03357567518190896,
          0.03264361763364273,
          0.033285368923666264,
          0.03222209068244496,
          0.032670849833654966,
          0.033478719842545863,
          0.037644699376028365,
          0.03256677836179733,
          0.03218092799116748,
          0.03431366652495145,
          0.031172915324656197,
          0.03141079746414099,
          0.03171962934618317,
          0.03211998033551543,
          0.03206192587935169,
          0.033260784902707716,
          0.030048921416806575,
          0.030499551987424142,
          0.03246551108472224,
          0.04066559526317276,
          0.032812735581761794,
          0.0358979655517169,
          0.03406810532641016,
          0.033631799698855394,
          0.029631266099599762,
          0.02998439902920678,
          0.029017448298493183,
          0.028996575757792274,
          0.03139703715998382,
          0.03013230475461539,
          0.02901219253531032,
          0.029189370852401,
          0.030621138886393357,
          0.027648903919217732,
          0.03274118079817001,
          0.02921147747708598,
          0.028985470249164553,
          0.029128846589504837,
          0.02944814081483044,
          0.028174314569209664,
          0.029851837995344063,
          0.029808024888936902,
          0.027507186058401502,
          0.02770450479403453,
          0.028359089437705473,
          0.03167262828161179,
          0.03186140339734129,
          0.03247227722630255,
          0.034670602167467916,
          0.031056683448235124,
          0.034079994676616085,
          0.028646666026442474,
          0.027445865858689456,
          0.025617528374486127,
          0.02607564011614927,
          0.02608248297597321,
          0.025920252792292358,
          0.027419969837395516,
          0.02702493258389019,
          0.027705007772239585,
          0.02594708259099386,
          0.02564008420962073,
          0.024375329161403884,
          0.026853036577048156,
          0.0247946208334165,
          0.024436079647759318,
          0.02631286590058409,
          0.0275195969538949,
          0.024501801085846386,
          0.02594794533237325,
          0.03410669025303316,
          0.02815317771804165,
          0.024490369390914906,
          0.026204661741642883,
          0.02651828875986011,
          0.026198122599692314,
          0.025110343990597694,
          0.02376128039694448,
          0.02302669126367166,
          0.022618164113797072,
          0.023450828940026078,
          0.023249460545482176,
          0.022427499993866038,
          0.024275953743711744,
          0.02451340345219827,
          0.0341870938930573,
          0.02308904392040278,
          0.022338600190872318,
          0.02263445566714268,
          0.022352502904307674,
          0.02254467816070212,
          0.025971823664898044,
          0.021900133050523452,
          0.02129367274612608,
          0.02232612585517722,
          0.022314204464933263,
          0.021481703316460543,
          0.022261745493176957,
          0.022096491042717784,
          0.021875994909607187,
          0.020785287327190233,
          0.021655491085399485,
          0.02163583113104605,
          0.020500573229062166,
          0.02133755393527413,
          0.020089768349811184,
          0.019700413711911217,
          0.019805874568388355,
          0.019657931592262968,
          0.020470419835775844,
          0.020813475533480376,
          0.0220885594488021,
          0.02100995696748786,
          0.021584330479715003,
          0.02001049047764478,
          0.019720512619373243,
          0.018990993051037647,
          0.0211580697613213,
          0.02202276105636145,
          0.018632608723822334,
          0.01964328816038132,
          0.018334561565802366,
          0.019679634949900736,
          0.023194850227869872,
          0.022059108871756723,
          0.026984541418966553,
          0.019396076328121126,
          0.01968777477478897,
          0.01812272763208753,
          0.017503988525825923,
          0.01803403020018773,
          0.017070330583223714,
          0.017589042246264643,
          0.019546866301062383,
          0.02115876730444006,
          0.024905599983837543,
          0.02420869128157695,
          0.019392381216445282,
          0.01743618436917409,
          0.01765685473424448,
          0.017163936254249213,
          0.01648347691016298,
          0.018377337972043266,
          0.0184322781576622,
          0.017002651224977516,
          0.016054787884024736,
          0.016115240689297098,
          0.016347060453894377,
          0.01653916950167065,
          0.015459041797092508,
          0.015562120317853112,
          0.016049079268519274,
          0.015460880937277746,
          0.01709232236446699,
          0.016612025889449974,
          0.014758468667611463,
          0.015260639701021109,
          0.014449231287091751,
          0.014843377192885103,
          0.01595263294176037,
          0.014304836229097367,
          0.014619391752658915,
          0.014402455208656934,
          0.014425351218858235,
          0.015357735170545537,
          0.015636085860536133,
          0.01692315090465154,
          0.01569094168602097,
          0.014215305209282278,
          0.01439212082050076,
          0.014404109079596267,
          0.013980671806051068,
          0.01959400436460552,
          0.016485154177302695,
          0.014218686091683001,
          0.0135827356416015,
          0.015092698579540416,
          0.013510986933038689,
          0.013072972636267614,
          0.014132471868761229,
          0.013868414268100922,
          0.013441533215907993,
          0.015255473396727736,
          0.014232596433874516,
          0.013845335736437897,
          0.013248042205672168,
          0.014383091318023176,
          0.015390563885760034,
          0.013098117049363717,
          0.012838932182727286,
          0.012744733821349262,
          0.012484233085549232,
          0.013553965915466698,
          0.012435583982555449,
          0.012699904812263772,
          0.01239243517476768,
          0.012281635328537037,
          0.01325128331890837,
          0.011756838192210092,
          0.015357076000212364,
          0.01440921673078982,
          0.01257154012595057,
          0.014062428886306957,
          0.017306058964616358,
          0.012639909337631764,
          0.012193556350301688,
          0.011378049448202473,
          0.011871011523953071,
          0.011781732829947881,
          0.013473698068240728,
          0.011189147813612936,
          0.012025382005753862,
          0.012809776857346647,
          0.01090300158092516,
          0.012155954329244477,
          0.01506134333906634,
          0.016978116321446867,
          0.011092037235434424,
          0.011512818779061797,
          0.010917373906663606,
          0.010558036597611759,
          0.012350471842665243,
          0.013687150224938358,
          0.015182661832348655,
          0.011585844855563182,
          0.00962238279984624,
          0.009968647949764846,
          0.009989994096005676,
          0.009756940263889166,
          0.009938799238330881,
          0.010347664919725571,
          0.009888278097712255,
          0.00934630770131316,
          0.011808777129345359,
          0.009571751763829918,
          0.011140843781756298,
          0.011379879162747566,
          0.009148268335162194,
          0.008801996253185989,
          0.009088851284523202,
          0.008964992719680561,
          0.009216811280848431,
          0.011285935292466425,
          0.008582320094913104,
          0.008445982336085246,
          0.008291181975958142,
          0.008552215328798608,
          0.008969787128442375,
          0.009092852990296035,
          0.009060939203318156,
          0.009011881154975086,
          0.008932220480654021,
          0.008276881128680748,
          0.007883798171344028,
          0.008469024566970951,
          0.008941099370125804,
          0.00859724267871237,
          0.0090451522693672,
          0.008074077349068693,
          0.0084677798839662,
          0.010132581000342013,
          0.00919074028240683,
          0.009315273320125626,
          0.007495334968211331,
          0.007107676303869785,
          0.0070088139348204286,
          0.008280041770711346,
          0.007971217747867335,
          0.0070650077016669996,
          0.006838292340094747,
          0.006946066525922571,
          0.006691499501182544,
          0.00668786928503656,
          0.006680796018521795,
          0.007175002531848078,
          0.007202496750139776,
          0.006784873581688169,
          0.006878366144024221,
          0.0073530310698831656,
          0.0074264011952475135,
          0.007513066978603767,
          0.007006539600002776,
          0.0065964232218023305,
          0.006422194526552664,
          0.005961151838962846,
          0.0068221524659047685,
          0.007711597291988806,
          0.006385176822605289,
          0.006618138379745291,
          0.006635939449646036,
          0.0064402662516009224,
          0.006069161746915465,
          0.006899905795485061,
          0.006812660345351849,
          0.006410517500267482,
          0.00570673524853533,
          0.005604722731672403,
          0.005682660135584818,
          0.006216802289151967,
          0.00635347186566982,
          0.007646031330116618,
          0.005942318891557677,
          0.007789063903594941,
          0.005463635658259403,
          0.005880635215294099,
          0.005387424203040332,
          0.006697703910141116,
          0.009286962217266536,
          0.005916669086619836,
          0.005882305039069397,
          0.006213554689860706,
          0.006510916220290582,
          0.005803660241484712,
          0.006063317485202728,
          0.005439307122817045,
          0.004642118586895175,
          0.004820914753081994,
          0.005524056475040309,
          0.0049114944726973255,
          0.005473900441465574,
          0.005003882479291207,
          0.004446068822358136,
          0.0045030932104763765,
          0.004758680140940656,
          0.004462537434697589,
          0.004614200693486311,
          0.004369768367078977,
          0.00467808155866498,
          0.004780042995239648,
          0.004538486179340403,
          0.004558010841309226,
          0.0043433891596193885,
          0.004570876869062583,
          0.004262963606114609,
          0.003967003572181287,
          0.004024356151829876,
          0.003986201304537922,
          0.00417412995708398,
          0.00396261046866847,
          0.003838713827407416,
          0.004044682347705422,
          0.004208164002107972,
          0.005271745980946793,
          0.008139635789001246,
          0.004906423653622416,
          0.0037515436680637683,
          0.003888973581469115,
          0.003876386061284807,
          0.003982617613203776,
          0.0039037300839575165,
          0.0035903914281270387,
          0.003876856743119506,
          0.0037965214917296325,
          0.003718051778826482,
          0.00329765238134549,
          0.0033459100197322125,
          0.003908964021277872,
          0.0038854806960512286,
          0.00338837144045955,
          0.003448932493671757,
          0.0034784888334603056,
          0.0034720449065658407,
          0.0031861599668832003,
          0.003421936084695615,
          0.0034044288585756846,
          0.0031330639645654025,
          0.003456104070739602,
          0.0034227588943130213,
          0.003391180439013769,
          0.003784903228947534,
          0.003772729356552391,
          0.00422153910818759,
          0.004417019957149655,
          0.004735694943870109,
          0.0034597269076298695,
          0.0032811312561312543,
          0.0028932414429861655,
          0.0028119923178261765,
          0.002998121906161536,
          0.002690826942029068,
          0.0027765411454174467,
          0.002650903191356242,
          0.002900303075824615,
          0.0029030463938653785,
          0.0033946982219387853,
          0.0029072075815546445,
          0.003083659455665505,
          0.00249269479440805,
          0.003099540609783305,
          0.0024540810884392445,
          0.0028979151805062745,
          0.0031908788431890553,
          0.002857061809129978,
          0.0027852375828223783,
          0.0026449240053273704,
          0.0029434750175879373,
          0.0024065360144882556,
          0.002595861967735716,
          0.002379331761309653,
          0.002435404193142709,
          0.002320315729293255,
          0.0030808226859083336,
          0.0026164904071786415,
          0.0024632671978022853,
          0.0022859362345773663,
          0.0023100953538215635,
          0.0023202219820294984,
          0.002309685527891393,
          0.002799259765158919,
          0.002293862740809976,
          0.0022301527215419295,
          0.0022739090537543063,
          0.00228467105970906,
          0.0024707543012191992,
          0.002809541389026937,
          0.0024753274540078034,
          0.002666490339676673,
          0.002117813459447679,
          0.0023104039665356392,
          0.002964211909861212,
          0.002497329253941964,
          0.002491801211713188,
          0.0022852780136627233,
          0.00237601211823593,
          0.0019445477847712625,
          0.002113162314583779,
          0.0018942577648523129,
          0.0020261650334619,
          0.002237599516727966,
          0.002084228522060909,
          0.002017600302247794,
          0.002076115595294871,
          0.0017866743766093854,
          0.0024999694669941373
         ]
        },
        {
         "line": {
          "color": "rgba(55, 128, 191, 1.0)",
          "dash": "solid",
          "shape": "linear",
          "width": 1.3
         },
         "mode": "lines",
         "name": "val_loss",
         "text": "",
         "type": "scatter",
         "x": [
          0,
          1,
          2,
          3,
          4,
          5,
          6,
          7,
          8,
          9,
          10,
          11,
          12,
          13,
          14,
          15,
          16,
          17,
          18,
          19,
          20,
          21,
          22,
          23,
          24,
          25,
          26,
          27,
          28,
          29,
          30,
          31,
          32,
          33,
          34,
          35,
          36,
          37,
          38,
          39,
          40,
          41,
          42,
          43,
          44,
          45,
          46,
          47,
          48,
          49,
          50,
          51,
          52,
          53,
          54,
          55,
          56,
          57,
          58,
          59,
          60,
          61,
          62,
          63,
          64,
          65,
          66,
          67,
          68,
          69,
          70,
          71,
          72,
          73,
          74,
          75,
          76,
          77,
          78,
          79,
          80,
          81,
          82,
          83,
          84,
          85,
          86,
          87,
          88,
          89,
          90,
          91,
          92,
          93,
          94,
          95,
          96,
          97,
          98,
          99,
          100,
          101,
          102,
          103,
          104,
          105,
          106,
          107,
          108,
          109,
          110,
          111,
          112,
          113,
          114,
          115,
          116,
          117,
          118,
          119,
          120,
          121,
          122,
          123,
          124,
          125,
          126,
          127,
          128,
          129,
          130,
          131,
          132,
          133,
          134,
          135,
          136,
          137,
          138,
          139,
          140,
          141,
          142,
          143,
          144,
          145,
          146,
          147,
          148,
          149,
          150,
          151,
          152,
          153,
          154,
          155,
          156,
          157,
          158,
          159,
          160,
          161,
          162,
          163,
          164,
          165,
          166,
          167,
          168,
          169,
          170,
          171,
          172,
          173,
          174,
          175,
          176,
          177,
          178,
          179,
          180,
          181,
          182,
          183,
          184,
          185,
          186,
          187,
          188,
          189,
          190,
          191,
          192,
          193,
          194,
          195,
          196,
          197,
          198,
          199,
          200,
          201,
          202,
          203,
          204,
          205,
          206,
          207,
          208,
          209,
          210,
          211,
          212,
          213,
          214,
          215,
          216,
          217,
          218,
          219,
          220,
          221,
          222,
          223,
          224,
          225,
          226,
          227,
          228,
          229,
          230,
          231,
          232,
          233,
          234,
          235,
          236,
          237,
          238,
          239,
          240,
          241,
          242,
          243,
          244,
          245,
          246,
          247,
          248,
          249,
          250,
          251,
          252,
          253,
          254,
          255,
          256,
          257,
          258,
          259,
          260,
          261,
          262,
          263,
          264,
          265,
          266,
          267,
          268,
          269,
          270,
          271,
          272,
          273,
          274,
          275,
          276,
          277,
          278,
          279,
          280,
          281,
          282,
          283,
          284,
          285,
          286,
          287,
          288,
          289,
          290,
          291,
          292,
          293,
          294,
          295,
          296,
          297,
          298,
          299,
          300,
          301,
          302,
          303,
          304,
          305,
          306,
          307,
          308,
          309,
          310,
          311,
          312,
          313,
          314,
          315,
          316,
          317,
          318,
          319,
          320,
          321,
          322,
          323,
          324,
          325,
          326,
          327,
          328,
          329,
          330,
          331,
          332,
          333,
          334,
          335,
          336,
          337,
          338,
          339,
          340,
          341,
          342,
          343,
          344,
          345,
          346,
          347,
          348,
          349,
          350,
          351,
          352,
          353,
          354,
          355,
          356,
          357,
          358,
          359,
          360,
          361,
          362,
          363,
          364,
          365,
          366,
          367,
          368,
          369,
          370,
          371,
          372,
          373,
          374,
          375,
          376,
          377,
          378,
          379,
          380,
          381,
          382,
          383,
          384,
          385,
          386,
          387,
          388,
          389,
          390,
          391,
          392,
          393,
          394,
          395,
          396,
          397,
          398,
          399,
          400,
          401,
          402,
          403,
          404,
          405,
          406,
          407,
          408,
          409,
          410,
          411,
          412,
          413,
          414,
          415,
          416,
          417,
          418,
          419,
          420,
          421,
          422,
          423,
          424,
          425,
          426,
          427,
          428,
          429,
          430,
          431,
          432,
          433,
          434,
          435,
          436,
          437,
          438,
          439,
          440,
          441,
          442,
          443,
          444,
          445,
          446,
          447,
          448,
          449,
          450,
          451,
          452,
          453,
          454,
          455,
          456,
          457,
          458,
          459,
          460,
          461,
          462,
          463,
          464,
          465,
          466,
          467,
          468,
          469,
          470,
          471,
          472,
          473,
          474,
          475,
          476,
          477,
          478,
          479,
          480,
          481,
          482,
          483,
          484,
          485,
          486,
          487,
          488,
          489,
          490,
          491,
          492,
          493,
          494,
          495,
          496,
          497,
          498,
          499,
          500,
          501,
          502,
          503,
          504,
          505,
          506,
          507,
          508,
          509,
          510,
          511,
          512,
          513,
          514,
          515,
          516,
          517,
          518,
          519,
          520,
          521,
          522,
          523,
          524,
          525,
          526,
          527,
          528,
          529,
          530,
          531,
          532,
          533,
          534,
          535,
          536,
          537,
          538,
          539,
          540,
          541,
          542,
          543,
          544,
          545,
          546,
          547,
          548,
          549,
          550,
          551,
          552,
          553,
          554,
          555,
          556,
          557,
          558,
          559,
          560,
          561,
          562,
          563,
          564,
          565,
          566,
          567,
          568,
          569,
          570,
          571,
          572,
          573,
          574,
          575,
          576,
          577,
          578,
          579,
          580,
          581,
          582,
          583,
          584,
          585,
          586,
          587,
          588,
          589,
          590,
          591,
          592,
          593,
          594,
          595,
          596,
          597,
          598,
          599
         ],
         "y": [
          0.6541754436659646,
          0.615943754469598,
          0.5702724406769225,
          0.5199456706747309,
          0.46787908423197017,
          0.4174528932654774,
          0.36994014940895403,
          0.3293954740454267,
          0.2969456294199804,
          0.2658359454228328,
          0.2455254327375572,
          0.22207434308695626,
          0.2060666985653497,
          0.19346491544396727,
          0.17856436863645808,
          0.178516643239068,
          0.16049856749864724,
          0.1585332180236603,
          0.14674877463937638,
          0.14531781863082538,
          0.13762879751987392,
          0.13989499414508993,
          0.13014592605454106,
          0.12982410567623753,
          0.12456543107966443,
          0.12615580106531823,
          0.1198529799605583,
          0.12345602102838196,
          0.11579359385308687,
          0.12271342968398874,
          0.11789383103589078,
          0.11558760207641375,
          0.11791019412604245,
          0.10903134835245726,
          0.11979447966897404,
          0.10966151233736451,
          0.11769915913993662,
          0.10652044675983749,
          0.11670171104736261,
          0.10987384117149807,
          0.10480308222708169,
          0.11963848264275731,
          0.10684544176280082,
          0.11193203186238562,
          0.10937277733029185,
          0.10578436407071727,
          0.11094484978414082,
          0.10909702329264655,
          0.10364867395141741,
          0.11621822765865526,
          0.10079064418177505,
          0.11776826884988305,
          0.10263206786313257,
          0.11809340947783077,
          0.10081050417327381,
          0.11970901796659389,
          0.10554048666483039,
          0.10670583551892868,
          0.1035472937188782,
          0.11066777149697284,
          0.10347663650250101,
          0.11264597619330133,
          0.10216181378785547,
          0.10622863130240173,
          0.1096736407884351,
          0.10914762396287252,
          0.10816299409924687,
          0.11235950694425956,
          0.1078883986008334,
          0.10600367886619969,
          0.10500586290772145,
          0.1074950606464506,
          0.10801809359263707,
          0.10801959079462331,
          0.09951598582776276,
          0.11502970921826529,
          0.10293908826225287,
          0.10853412851587042,
          0.11452220104165844,
          0.1091358987549385,
          0.11116785285147754,
          0.10262926146909074,
          0.11453028351485313,
          0.11079339716922153,
          0.11180117064631069,
          0.10247201545463576,
          0.10807386587758164,
          0.10970455079853951,
          0.10182708236095789,
          0.11301942675055324,
          0.10651309496456093,
          0.10770724424636448,
          0.10994022558410685,
          0.1049683219850897,
          0.11229892288679844,
          0.1024117233505199,
          0.11427398161454634,
          0.103241409429095,
          0.10953553667018463,
          0.1135924417343173,
          0.10519060807732436,
          0.12975060929368426,
          0.10590239405840426,
          0.11457390671635008,
          0.1112290254006019,
          0.10935119693200071,
          0.12016033073822102,
          0.11071071515862758,
          0.10838361259002785,
          0.11522844011758591,
          0.10545705516750996,
          0.1116474893699576,
          0.1098258707125287,
          0.11474819356328124,
          0.10809761778145403,
          0.11723153181113563,
          0.11075028329045622,
          0.1105210550806739,
          0.10837271580329308,
          0.10961076726655027,
          0.1228473824741957,
          0.10598312240172099,
          0.12000748426555753,
          0.11756293262009854,
          0.11702158869980099,
          0.11168007503126885,
          0.10842186100520454,
          0.11636058314071669,
          0.10943556899999406,
          0.11589255527808116,
          0.1151931182956779,
          0.10855714122315387,
          0.11480340762780263,
          0.11590617118807106,
          0.11775586965096581,
          0.10987577144499425,
          0.11457951549258265,
          0.11547763786324254,
          0.10768638960235602,
          0.11824735566661075,
          0.11006941789617905,
          0.12323676565518746,
          0.11364772608438573,
          0.11607445416959015,
          0.11859527214632168,
          0.11572740213958534,
          0.1194233646863824,
          0.11109767765640378,
          0.12909201746220356,
          0.11101091697395264,
          0.11937749573400805,
          0.1145927413672834,
          0.12275239866930288,
          0.11266724051503868,
          0.11975521208731445,
          0.11427154446711073,
          0.1280397441420522,
          0.12168755747013159,
          0.11239594979198662,
          0.12298128399607185,
          0.1170952981793797,
          0.11984829187810005,
          0.12525354664434085,
          0.11116774062385092,
          0.1207036415596942,
          0.11557828061855756,
          0.1145212286627376,
          0.11424048573195518,
          0.11716104595811216,
          0.12057336982521978,
          0.11245380159649816,
          0.12497429231872091,
          0.1105765111588098,
          0.12013754118364174,
          0.11572317151235534,
          0.12620963067649962,
          0.11377424392458442,
          0.12285144700037016,
          0.12273153365700396,
          0.1158543670927728,
          0.11672937401107975,
          0.11904158474473686,
          0.11523778575075257,
          0.11992764571955154,
          0.12249678553088561,
          0.13398996834363136,
          0.11519734910526476,
          0.12090958545466403,
          0.11253025010228157,
          0.12272563837208114,
          0.12100862706457818,
          0.12012972943224273,
          0.12172001839934529,
          0.11906776157813473,
          0.1264253638007424,
          0.1159661912417912,
          0.12238487072445296,
          0.12350074780154062,
          0.1188066463683035,
          0.1331944451569677,
          0.11481024541117095,
          0.12334985338099352,
          0.13171780500170235,
          0.1297431820547664,
          0.1342213660270184,
          0.12144236430734187,
          0.13043928782006245,
          0.1180820515626794,
          0.13035330384761304,
          0.12523632269951848,
          0.12431262412688115,
          0.1164647732581292,
          0.1273972004964635,
          0.12118815174782192,
          0.1418565092803715,
          0.11483312184577221,
          0.14298424525902823,
          0.1197306584123965,
          0.1291586242199361,
          0.12781788213373899,
          0.1233760166939322,
          0.11970900040823262,
          0.1196291024659897,
          0.12685280772564295,
          0.12043411847386327,
          0.13142231356847536,
          0.11914639234855458,
          0.12216223872729115,
          0.12678125297481363,
          0.12485707124004831,
          0.12292734002108341,
          0.12408396169230655,
          0.12828736403188506,
          0.11813013180048315,
          0.12741109046277466,
          0.12457030589555527,
          0.14919501371108568,
          0.11909568176923932,
          0.1210733768041734,
          0.12659940016749022,
          0.11987150377118504,
          0.12256926212173241,
          0.1296087074113059,
          0.12185878759914345,
          0.13191691171247644,
          0.12266909800000958,
          0.12855793306460747,
          0.12376393429882876,
          0.1367372133202486,
          0.13242996385047487,
          0.12576889176364545,
          0.13037182685065937,
          0.13294785586999847,
          0.12911344968251415,
          0.12712021039186658,
          0.13495093625742238,
          0.12440407093796697,
          0.14076999340440843,
          0.1284249769849377,
          0.12470650665097303,
          0.12569354586563744,
          0.13279791712969333,
          0.12341909266851998,
          0.1341902302851627,
          0.12503350239533645,
          0.1364361484880214,
          0.1278599946127905,
          0.134906057450738,
          0.13123924907791865,
          0.1354005333374847,
          0.13460545640412744,
          0.13210785646851247,
          0.12905997368735034,
          0.13481674874787564,
          0.13181406116256347,
          0.1330067802455042,
          0.12929953728522453,
          0.14759696467773065,
          0.12786189802772516,
          0.13701922985744644,
          0.127146928408346,
          0.1310251311926575,
          0.135286534999634,
          0.1272989948885841,
          0.1342361190362827,
          0.12999984916377735,
          0.14183222916680616,
          0.1308417143625813,
          0.15321908880780627,
          0.13053187407501093,
          0.15103674937899297,
          0.1276343531541891,
          0.145781199311043,
          0.13445866055838712,
          0.13382550659817416,
          0.13593629547036612,
          0.1410612936776418,
          0.1341351714844887,
          0.14284884429478145,
          0.13700543432594178,
          0.13258838178134047,
          0.16642482891366198,
          0.1285754062912681,
          0.135040847206866,
          0.137260985463024,
          0.1430598666982634,
          0.13955822547936772,
          0.1365566547777686,
          0.15048364078352502,
          0.13237979576981568,
          0.1418515091853125,
          0.14073630404118057,
          0.13799251139268176,
          0.14463482020826607,
          0.14832087624427323,
          0.1390879871779597,
          0.14203356796471805,
          0.1416857986339739,
          0.1442941740233373,
          0.14749515004508146,
          0.14249360679902814,
          0.14254425846404964,
          0.1467139326765404,
          0.13968822077385612,
          0.15905828341529085,
          0.1491337522499628,
          0.14316613671298212,
          0.1438560398308547,
          0.14323886573783584,
          0.138434955967473,
          0.15002131746052863,
          0.1404967591609363,
          0.14485286144943504,
          0.14695729511965822,
          0.14529969958731762,
          0.14528757701074327,
          0.1460578094360295,
          0.15344535184281688,
          0.1416188751940023,
          0.15944436261547612,
          0.14586420091507318,
          0.15241349657828157,
          0.1434741732827225,
          0.1538275278505537,
          0.14641508592904864,
          0.14154466519041078,
          0.15325775518492385,
          0.1444253310483027,
          0.1473162024692222,
          0.16052903584041794,
          0.14265055568901808,
          0.15587320569511895,
          0.1440916747909847,
          0.14916899627712848,
          0.15361922524765237,
          0.15081671551130452,
          0.16095416276500776,
          0.15067034954582895,
          0.16771818004496447,
          0.14696529803315658,
          0.16181042610661134,
          0.1521682535929905,
          0.15521162756152088,
          0.14957275193419073,
          0.15937157023463633,
          0.14980803431382964,
          0.1712600610811602,
          0.15585948667534583,
          0.15233386812041272,
          0.17671921442855487,
          0.1507647329765548,
          0.16393368161068514,
          0.1587389977583727,
          0.1648954346228938,
          0.1579470404560541,
          0.17361806611810532,
          0.15887163073423652,
          0.1631764244822251,
          0.152796999316897,
          0.1563033755490934,
          0.16195406566758255,
          0.16223102481058843,
          0.17872718724233289,
          0.15551256833897603,
          0.17008308256761387,
          0.1602217850268825,
          0.16295064742826706,
          0.15381624577632108,
          0.1853038951936927,
          0.15758125222177355,
          0.15561780902081646,
          0.1585696866683714,
          0.1614420256883531,
          0.16349936753407224,
          0.15875836571196575,
          0.16895204731035274,
          0.16247811163873313,
          0.1589297779959503,
          0.1684941468382632,
          0.15726275039328771,
          0.16739787918131252,
          0.16252500029814826,
          0.1765585686763996,
          0.16693316917163092,
          0.1670480110988646,
          0.16701789769519876,
          0.16758588996188312,
          0.17825861012081165,
          0.16672554699430517,
          0.16642982752381505,
          0.17321394317477315,
          0.16706769936555227,
          0.1595648408450603,
          0.17511912527122905,
          0.16027013547848779,
          0.18126588772617644,
          0.15853723345350448,
          0.17110619147575193,
          0.16277818510738704,
          0.1641052376765471,
          0.15707312024628314,
          0.17785171997388238,
          0.16154729393375972,
          0.17390522203193262,
          0.1646869680290664,
          0.16501993104698254,
          0.18411717062060545,
          0.17275809537508635,
          0.16467870077300634,
          0.17043425096361736,
          0.17020874625312854,
          0.17021913700443986,
          0.16107920958445623,
          0.16457259989753886,
          0.16636896427961756,
          0.16940417332685442,
          0.17298804768165768,
          0.16863212301688907,
          0.1698865756242686,
          0.1686079161261189,
          0.16721851316319739,
          0.16943945196437668,
          0.17747248198602583,
          0.17254809616784844,
          0.17518776705752329,
          0.17392330432076242,
          0.16417386113597615,
          0.1732122146742666,
          0.16971673495689785,
          0.17942589175418489,
          0.16691830146885184,
          0.18279165714340923,
          0.16758362071546304,
          0.17129983223886783,
          0.17659731929750552,
          0.17087990841649187,
          0.175783617931607,
          0.1664872431901277,
          0.17843551371389857,
          0.16797423391957877,
          0.17839841722100452,
          0.16872286615271279,
          0.17691686005377166,
          0.17181754508462793,
          0.17559283502624612,
          0.16915032938790306,
          0.18510005992212028,
          0.1620706346356538,
          0.18996858737151417,
          0.1732799362055827,
          0.17403617190275264,
          0.17543941539617816,
          0.17056538251438666,
          0.19068041513348324,
          0.1673559155290738,
          0.17213366995484183,
          0.17230432306357718,
          0.17724106773177253,
          0.17817899632964518,
          0.1679507412823972,
          0.17450876519901326,
          0.17766361818746565,
          0.17777603524867314,
          0.17286938909519386,
          0.18204819782021606,
          0.18442468086527855,
          0.17365952723307887,
          0.18279498871505404,
          0.17665136376293245,
          0.18494283160035194,
          0.17845222403065764,
          0.17927672904004324,
          0.17558103269967412,
          0.17920173369665546,
          0.18143398222884724,
          0.17361867255360292,
          0.18647842585040791,
          0.17533208274687934,
          0.18103442302257006,
          0.17911834974237556,
          0.18331684973343257,
          0.18049548956088501,
          0.18331843627725852,
          0.18155764808945057,
          0.18086480723317042,
          0.18225079563721505,
          0.17882071793611792,
          0.17866502484730837,
          0.1845945704895661,
          0.1939412222729859,
          0.18668733482428995,
          0.18663800638934297,
          0.17861732299084665,
          0.18400525029258594,
          0.18157928171335602,
          0.1843757368150001,
          0.18208926628666142,
          0.18027765966827292,
          0.1816545874619176,
          0.18719846845081017,
          0.17993089514320482,
          0.18368590334910653,
          0.17699445050878945,
          0.18494437380988554,
          0.1813415777629365,
          0.1795765367614177,
          0.1851272835114147,
          0.19004951884369267,
          0.18242808374593775,
          0.18211429249910455,
          0.18817757805231372,
          0.1845091035887941,
          0.1870021664661028,
          0.18009135761042613,
          0.18981921201318638,
          0.18183575000178795,
          0.1804670200329453,
          0.18085019102473124,
          0.18660531076032771,
          0.17686670008463495,
          0.19367010141454208,
          0.18277591937368123,
          0.18594639272863775,
          0.18996383238464132,
          0.1896363428927766,
          0.1891625979093027,
          0.1860739100019047,
          0.18583673141805954,
          0.19398680403853044,
          0.1846175825986946,
          0.2001695704764045,
          0.18388472823858615,
          0.1908456802333972,
          0.17210511723278868,
          0.18523922092399325,
          0.17600957038015547,
          0.20333559993472133,
          0.18557496619223776,
          0.19901605302513126,
          0.18894557173153625,
          0.19801834467134985,
          0.19332801913651246,
          0.18857964699199728,
          0.18933216797017371,
          0.19430057339806198,
          0.18939145748472774,
          0.19412787689717886,
          0.1894196166149477,
          0.19938101878679126,
          0.19391412678053782,
          0.18826621584243172,
          0.19705176195205057,
          0.18800133677402803,
          0.18917598814610515,
          0.20279883632722956,
          0.18482864878497166,
          0.18869792662674506,
          0.1905393366154118,
          0.19209430764454305,
          0.1837706039272476,
          0.20698737664497457,
          0.1833431939420944,
          0.19409273890620693,
          0.18906660161206623,
          0.18400249290746112,
          0.2074947480012181,
          0.2074985288839032,
          0.18689864818749105,
          0.21077711042067626,
          0.19085668027159286,
          0.19938139097191762,
          0.19121002049660155,
          0.19536954051285,
          0.19175700339575893,
          0.1942689573032341,
          0.19970789541594378,
          0.2025685625382206,
          0.1965781449211759,
          0.19681687700353365,
          0.21904348070646548
         ]
        }
       ],
       "layout": {
        "legend": {
         "bgcolor": "#F5F6F9",
         "font": {
          "color": "#4D5663"
         }
        },
        "paper_bgcolor": "#F5F6F9",
        "plot_bgcolor": "#F5F6F9",
        "template": {
         "data": {
          "bar": [
           {
            "error_x": {
             "color": "#2a3f5f"
            },
            "error_y": {
             "color": "#2a3f5f"
            },
            "marker": {
             "line": {
              "color": "#E5ECF6",
              "width": 0.5
             }
            },
            "type": "bar"
           }
          ],
          "barpolar": [
           {
            "marker": {
             "line": {
              "color": "#E5ECF6",
              "width": 0.5
             }
            },
            "type": "barpolar"
           }
          ],
          "carpet": [
           {
            "aaxis": {
             "endlinecolor": "#2a3f5f",
             "gridcolor": "white",
             "linecolor": "white",
             "minorgridcolor": "white",
             "startlinecolor": "#2a3f5f"
            },
            "baxis": {
             "endlinecolor": "#2a3f5f",
             "gridcolor": "white",
             "linecolor": "white",
             "minorgridcolor": "white",
             "startlinecolor": "#2a3f5f"
            },
            "type": "carpet"
           }
          ],
          "choropleth": [
           {
            "colorbar": {
             "outlinewidth": 0,
             "ticks": ""
            },
            "type": "choropleth"
           }
          ],
          "contour": [
           {
            "colorbar": {
             "outlinewidth": 0,
             "ticks": ""
            },
            "colorscale": [
             [
              0,
              "#0d0887"
             ],
             [
              0.1111111111111111,
              "#46039f"
             ],
             [
              0.2222222222222222,
              "#7201a8"
             ],
             [
              0.3333333333333333,
              "#9c179e"
             ],
             [
              0.4444444444444444,
              "#bd3786"
             ],
             [
              0.5555555555555556,
              "#d8576b"
             ],
             [
              0.6666666666666666,
              "#ed7953"
             ],
             [
              0.7777777777777778,
              "#fb9f3a"
             ],
             [
              0.8888888888888888,
              "#fdca26"
             ],
             [
              1,
              "#f0f921"
             ]
            ],
            "type": "contour"
           }
          ],
          "contourcarpet": [
           {
            "colorbar": {
             "outlinewidth": 0,
             "ticks": ""
            },
            "type": "contourcarpet"
           }
          ],
          "heatmap": [
           {
            "colorbar": {
             "outlinewidth": 0,
             "ticks": ""
            },
            "colorscale": [
             [
              0,
              "#0d0887"
             ],
             [
              0.1111111111111111,
              "#46039f"
             ],
             [
              0.2222222222222222,
              "#7201a8"
             ],
             [
              0.3333333333333333,
              "#9c179e"
             ],
             [
              0.4444444444444444,
              "#bd3786"
             ],
             [
              0.5555555555555556,
              "#d8576b"
             ],
             [
              0.6666666666666666,
              "#ed7953"
             ],
             [
              0.7777777777777778,
              "#fb9f3a"
             ],
             [
              0.8888888888888888,
              "#fdca26"
             ],
             [
              1,
              "#f0f921"
             ]
            ],
            "type": "heatmap"
           }
          ],
          "heatmapgl": [
           {
            "colorbar": {
             "outlinewidth": 0,
             "ticks": ""
            },
            "colorscale": [
             [
              0,
              "#0d0887"
             ],
             [
              0.1111111111111111,
              "#46039f"
             ],
             [
              0.2222222222222222,
              "#7201a8"
             ],
             [
              0.3333333333333333,
              "#9c179e"
             ],
             [
              0.4444444444444444,
              "#bd3786"
             ],
             [
              0.5555555555555556,
              "#d8576b"
             ],
             [
              0.6666666666666666,
              "#ed7953"
             ],
             [
              0.7777777777777778,
              "#fb9f3a"
             ],
             [
              0.8888888888888888,
              "#fdca26"
             ],
             [
              1,
              "#f0f921"
             ]
            ],
            "type": "heatmapgl"
           }
          ],
          "histogram": [
           {
            "marker": {
             "colorbar": {
              "outlinewidth": 0,
              "ticks": ""
             }
            },
            "type": "histogram"
           }
          ],
          "histogram2d": [
           {
            "colorbar": {
             "outlinewidth": 0,
             "ticks": ""
            },
            "colorscale": [
             [
              0,
              "#0d0887"
             ],
             [
              0.1111111111111111,
              "#46039f"
             ],
             [
              0.2222222222222222,
              "#7201a8"
             ],
             [
              0.3333333333333333,
              "#9c179e"
             ],
             [
              0.4444444444444444,
              "#bd3786"
             ],
             [
              0.5555555555555556,
              "#d8576b"
             ],
             [
              0.6666666666666666,
              "#ed7953"
             ],
             [
              0.7777777777777778,
              "#fb9f3a"
             ],
             [
              0.8888888888888888,
              "#fdca26"
             ],
             [
              1,
              "#f0f921"
             ]
            ],
            "type": "histogram2d"
           }
          ],
          "histogram2dcontour": [
           {
            "colorbar": {
             "outlinewidth": 0,
             "ticks": ""
            },
            "colorscale": [
             [
              0,
              "#0d0887"
             ],
             [
              0.1111111111111111,
              "#46039f"
             ],
             [
              0.2222222222222222,
              "#7201a8"
             ],
             [
              0.3333333333333333,
              "#9c179e"
             ],
             [
              0.4444444444444444,
              "#bd3786"
             ],
             [
              0.5555555555555556,
              "#d8576b"
             ],
             [
              0.6666666666666666,
              "#ed7953"
             ],
             [
              0.7777777777777778,
              "#fb9f3a"
             ],
             [
              0.8888888888888888,
              "#fdca26"
             ],
             [
              1,
              "#f0f921"
             ]
            ],
            "type": "histogram2dcontour"
           }
          ],
          "mesh3d": [
           {
            "colorbar": {
             "outlinewidth": 0,
             "ticks": ""
            },
            "type": "mesh3d"
           }
          ],
          "parcoords": [
           {
            "line": {
             "colorbar": {
              "outlinewidth": 0,
              "ticks": ""
             }
            },
            "type": "parcoords"
           }
          ],
          "pie": [
           {
            "automargin": true,
            "type": "pie"
           }
          ],
          "scatter": [
           {
            "marker": {
             "colorbar": {
              "outlinewidth": 0,
              "ticks": ""
             }
            },
            "type": "scatter"
           }
          ],
          "scatter3d": [
           {
            "line": {
             "colorbar": {
              "outlinewidth": 0,
              "ticks": ""
             }
            },
            "marker": {
             "colorbar": {
              "outlinewidth": 0,
              "ticks": ""
             }
            },
            "type": "scatter3d"
           }
          ],
          "scattercarpet": [
           {
            "marker": {
             "colorbar": {
              "outlinewidth": 0,
              "ticks": ""
             }
            },
            "type": "scattercarpet"
           }
          ],
          "scattergeo": [
           {
            "marker": {
             "colorbar": {
              "outlinewidth": 0,
              "ticks": ""
             }
            },
            "type": "scattergeo"
           }
          ],
          "scattergl": [
           {
            "marker": {
             "colorbar": {
              "outlinewidth": 0,
              "ticks": ""
             }
            },
            "type": "scattergl"
           }
          ],
          "scattermapbox": [
           {
            "marker": {
             "colorbar": {
              "outlinewidth": 0,
              "ticks": ""
             }
            },
            "type": "scattermapbox"
           }
          ],
          "scatterpolar": [
           {
            "marker": {
             "colorbar": {
              "outlinewidth": 0,
              "ticks": ""
             }
            },
            "type": "scatterpolar"
           }
          ],
          "scatterpolargl": [
           {
            "marker": {
             "colorbar": {
              "outlinewidth": 0,
              "ticks": ""
             }
            },
            "type": "scatterpolargl"
           }
          ],
          "scatterternary": [
           {
            "marker": {
             "colorbar": {
              "outlinewidth": 0,
              "ticks": ""
             }
            },
            "type": "scatterternary"
           }
          ],
          "surface": [
           {
            "colorbar": {
             "outlinewidth": 0,
             "ticks": ""
            },
            "colorscale": [
             [
              0,
              "#0d0887"
             ],
             [
              0.1111111111111111,
              "#46039f"
             ],
             [
              0.2222222222222222,
              "#7201a8"
             ],
             [
              0.3333333333333333,
              "#9c179e"
             ],
             [
              0.4444444444444444,
              "#bd3786"
             ],
             [
              0.5555555555555556,
              "#d8576b"
             ],
             [
              0.6666666666666666,
              "#ed7953"
             ],
             [
              0.7777777777777778,
              "#fb9f3a"
             ],
             [
              0.8888888888888888,
              "#fdca26"
             ],
             [
              1,
              "#f0f921"
             ]
            ],
            "type": "surface"
           }
          ],
          "table": [
           {
            "cells": {
             "fill": {
              "color": "#EBF0F8"
             },
             "line": {
              "color": "white"
             }
            },
            "header": {
             "fill": {
              "color": "#C8D4E3"
             },
             "line": {
              "color": "white"
             }
            },
            "type": "table"
           }
          ]
         },
         "layout": {
          "annotationdefaults": {
           "arrowcolor": "#2a3f5f",
           "arrowhead": 0,
           "arrowwidth": 1
          },
          "coloraxis": {
           "colorbar": {
            "outlinewidth": 0,
            "ticks": ""
           }
          },
          "colorscale": {
           "diverging": [
            [
             0,
             "#8e0152"
            ],
            [
             0.1,
             "#c51b7d"
            ],
            [
             0.2,
             "#de77ae"
            ],
            [
             0.3,
             "#f1b6da"
            ],
            [
             0.4,
             "#fde0ef"
            ],
            [
             0.5,
             "#f7f7f7"
            ],
            [
             0.6,
             "#e6f5d0"
            ],
            [
             0.7,
             "#b8e186"
            ],
            [
             0.8,
             "#7fbc41"
            ],
            [
             0.9,
             "#4d9221"
            ],
            [
             1,
             "#276419"
            ]
           ],
           "sequential": [
            [
             0,
             "#0d0887"
            ],
            [
             0.1111111111111111,
             "#46039f"
            ],
            [
             0.2222222222222222,
             "#7201a8"
            ],
            [
             0.3333333333333333,
             "#9c179e"
            ],
            [
             0.4444444444444444,
             "#bd3786"
            ],
            [
             0.5555555555555556,
             "#d8576b"
            ],
            [
             0.6666666666666666,
             "#ed7953"
            ],
            [
             0.7777777777777778,
             "#fb9f3a"
            ],
            [
             0.8888888888888888,
             "#fdca26"
            ],
            [
             1,
             "#f0f921"
            ]
           ],
           "sequentialminus": [
            [
             0,
             "#0d0887"
            ],
            [
             0.1111111111111111,
             "#46039f"
            ],
            [
             0.2222222222222222,
             "#7201a8"
            ],
            [
             0.3333333333333333,
             "#9c179e"
            ],
            [
             0.4444444444444444,
             "#bd3786"
            ],
            [
             0.5555555555555556,
             "#d8576b"
            ],
            [
             0.6666666666666666,
             "#ed7953"
            ],
            [
             0.7777777777777778,
             "#fb9f3a"
            ],
            [
             0.8888888888888888,
             "#fdca26"
            ],
            [
             1,
             "#f0f921"
            ]
           ]
          },
          "colorway": [
           "#636efa",
           "#EF553B",
           "#00cc96",
           "#ab63fa",
           "#FFA15A",
           "#19d3f3",
           "#FF6692",
           "#B6E880",
           "#FF97FF",
           "#FECB52"
          ],
          "font": {
           "color": "#2a3f5f"
          },
          "geo": {
           "bgcolor": "white",
           "lakecolor": "white",
           "landcolor": "#E5ECF6",
           "showlakes": true,
           "showland": true,
           "subunitcolor": "white"
          },
          "hoverlabel": {
           "align": "left"
          },
          "hovermode": "closest",
          "mapbox": {
           "style": "light"
          },
          "paper_bgcolor": "white",
          "plot_bgcolor": "#E5ECF6",
          "polar": {
           "angularaxis": {
            "gridcolor": "white",
            "linecolor": "white",
            "ticks": ""
           },
           "bgcolor": "#E5ECF6",
           "radialaxis": {
            "gridcolor": "white",
            "linecolor": "white",
            "ticks": ""
           }
          },
          "scene": {
           "xaxis": {
            "backgroundcolor": "#E5ECF6",
            "gridcolor": "white",
            "gridwidth": 2,
            "linecolor": "white",
            "showbackground": true,
            "ticks": "",
            "zerolinecolor": "white"
           },
           "yaxis": {
            "backgroundcolor": "#E5ECF6",
            "gridcolor": "white",
            "gridwidth": 2,
            "linecolor": "white",
            "showbackground": true,
            "ticks": "",
            "zerolinecolor": "white"
           },
           "zaxis": {
            "backgroundcolor": "#E5ECF6",
            "gridcolor": "white",
            "gridwidth": 2,
            "linecolor": "white",
            "showbackground": true,
            "ticks": "",
            "zerolinecolor": "white"
           }
          },
          "shapedefaults": {
           "line": {
            "color": "#2a3f5f"
           }
          },
          "ternary": {
           "aaxis": {
            "gridcolor": "white",
            "linecolor": "white",
            "ticks": ""
           },
           "baxis": {
            "gridcolor": "white",
            "linecolor": "white",
            "ticks": ""
           },
           "bgcolor": "#E5ECF6",
           "caxis": {
            "gridcolor": "white",
            "linecolor": "white",
            "ticks": ""
           }
          },
          "title": {
           "x": 0.05
          },
          "xaxis": {
           "automargin": true,
           "gridcolor": "white",
           "linecolor": "white",
           "ticks": "",
           "title": {
            "standoff": 15
           },
           "zerolinecolor": "white",
           "zerolinewidth": 2
          },
          "yaxis": {
           "automargin": true,
           "gridcolor": "white",
           "linecolor": "white",
           "ticks": "",
           "title": {
            "standoff": 15
           },
           "zerolinecolor": "white",
           "zerolinewidth": 2
          }
         }
        },
        "title": {
         "font": {
          "color": "#4D5663"
         }
        },
        "xaxis": {
         "gridcolor": "#E1E5ED",
         "showgrid": true,
         "tickfont": {
          "color": "#4D5663"
         },
         "title": {
          "font": {
           "color": "#4D5663"
          },
          "text": ""
         },
         "zerolinecolor": "#E1E5ED"
        },
        "yaxis": {
         "gridcolor": "#E1E5ED",
         "showgrid": true,
         "tickfont": {
          "color": "#4D5663"
         },
         "title": {
          "font": {
           "color": "#4D5663"
          },
          "text": ""
         },
         "zerolinecolor": "#E1E5ED"
        }
       }
      },
      "text/html": [
       "<div>\n",
       "        \n",
       "        \n",
       "            <div id=\"a0ab5337-b04b-40d4-a277-afce548ba764\" class=\"plotly-graph-div\" style=\"height:525px; width:100%;\"></div>\n",
       "            <script type=\"text/javascript\">\n",
       "                require([\"plotly\"], function(Plotly) {\n",
       "                    window.PLOTLYENV=window.PLOTLYENV || {};\n",
       "                    window.PLOTLYENV.BASE_URL='https://plot.ly';\n",
       "                    \n",
       "                if (document.getElementById(\"a0ab5337-b04b-40d4-a277-afce548ba764\")) {\n",
       "                    Plotly.newPlot(\n",
       "                        'a0ab5337-b04b-40d4-a277-afce548ba764',\n",
       "                        [{\"line\": {\"color\": \"rgba(255, 153, 51, 1.0)\", \"dash\": \"solid\", \"shape\": \"linear\", \"width\": 1.3}, \"mode\": \"lines\", \"name\": \"loss\", \"text\": \"\", \"type\": \"scatter\", \"x\": [0, 1, 2, 3, 4, 5, 6, 7, 8, 9, 10, 11, 12, 13, 14, 15, 16, 17, 18, 19, 20, 21, 22, 23, 24, 25, 26, 27, 28, 29, 30, 31, 32, 33, 34, 35, 36, 37, 38, 39, 40, 41, 42, 43, 44, 45, 46, 47, 48, 49, 50, 51, 52, 53, 54, 55, 56, 57, 58, 59, 60, 61, 62, 63, 64, 65, 66, 67, 68, 69, 70, 71, 72, 73, 74, 75, 76, 77, 78, 79, 80, 81, 82, 83, 84, 85, 86, 87, 88, 89, 90, 91, 92, 93, 94, 95, 96, 97, 98, 99, 100, 101, 102, 103, 104, 105, 106, 107, 108, 109, 110, 111, 112, 113, 114, 115, 116, 117, 118, 119, 120, 121, 122, 123, 124, 125, 126, 127, 128, 129, 130, 131, 132, 133, 134, 135, 136, 137, 138, 139, 140, 141, 142, 143, 144, 145, 146, 147, 148, 149, 150, 151, 152, 153, 154, 155, 156, 157, 158, 159, 160, 161, 162, 163, 164, 165, 166, 167, 168, 169, 170, 171, 172, 173, 174, 175, 176, 177, 178, 179, 180, 181, 182, 183, 184, 185, 186, 187, 188, 189, 190, 191, 192, 193, 194, 195, 196, 197, 198, 199, 200, 201, 202, 203, 204, 205, 206, 207, 208, 209, 210, 211, 212, 213, 214, 215, 216, 217, 218, 219, 220, 221, 222, 223, 224, 225, 226, 227, 228, 229, 230, 231, 232, 233, 234, 235, 236, 237, 238, 239, 240, 241, 242, 243, 244, 245, 246, 247, 248, 249, 250, 251, 252, 253, 254, 255, 256, 257, 258, 259, 260, 261, 262, 263, 264, 265, 266, 267, 268, 269, 270, 271, 272, 273, 274, 275, 276, 277, 278, 279, 280, 281, 282, 283, 284, 285, 286, 287, 288, 289, 290, 291, 292, 293, 294, 295, 296, 297, 298, 299, 300, 301, 302, 303, 304, 305, 306, 307, 308, 309, 310, 311, 312, 313, 314, 315, 316, 317, 318, 319, 320, 321, 322, 323, 324, 325, 326, 327, 328, 329, 330, 331, 332, 333, 334, 335, 336, 337, 338, 339, 340, 341, 342, 343, 344, 345, 346, 347, 348, 349, 350, 351, 352, 353, 354, 355, 356, 357, 358, 359, 360, 361, 362, 363, 364, 365, 366, 367, 368, 369, 370, 371, 372, 373, 374, 375, 376, 377, 378, 379, 380, 381, 382, 383, 384, 385, 386, 387, 388, 389, 390, 391, 392, 393, 394, 395, 396, 397, 398, 399, 400, 401, 402, 403, 404, 405, 406, 407, 408, 409, 410, 411, 412, 413, 414, 415, 416, 417, 418, 419, 420, 421, 422, 423, 424, 425, 426, 427, 428, 429, 430, 431, 432, 433, 434, 435, 436, 437, 438, 439, 440, 441, 442, 443, 444, 445, 446, 447, 448, 449, 450, 451, 452, 453, 454, 455, 456, 457, 458, 459, 460, 461, 462, 463, 464, 465, 466, 467, 468, 469, 470, 471, 472, 473, 474, 475, 476, 477, 478, 479, 480, 481, 482, 483, 484, 485, 486, 487, 488, 489, 490, 491, 492, 493, 494, 495, 496, 497, 498, 499, 500, 501, 502, 503, 504, 505, 506, 507, 508, 509, 510, 511, 512, 513, 514, 515, 516, 517, 518, 519, 520, 521, 522, 523, 524, 525, 526, 527, 528, 529, 530, 531, 532, 533, 534, 535, 536, 537, 538, 539, 540, 541, 542, 543, 544, 545, 546, 547, 548, 549, 550, 551, 552, 553, 554, 555, 556, 557, 558, 559, 560, 561, 562, 563, 564, 565, 566, 567, 568, 569, 570, 571, 572, 573, 574, 575, 576, 577, 578, 579, 580, 581, 582, 583, 584, 585, 586, 587, 588, 589, 590, 591, 592, 593, 594, 595, 596, 597, 598, 599], \"y\": [0.6764855312069816, 0.6369481475700235, 0.5949196230637636, 0.5459554315732679, 0.4943694287622479, 0.44564581672910236, 0.3956656232126442, 0.3521799836919901, 0.3187214114436521, 0.28731873785386064, 0.2657954179345162, 0.2396663633030905, 0.22255557341754717, 0.2050373656369151, 0.19066671544397382, 0.17764892817383082, 0.1693733705321388, 0.16144753516839702, 0.14912271212803926, 0.14433414072777745, 0.13536799009976813, 0.12727737989049281, 0.1204161556184012, 0.1169552100656178, 0.11213665857841151, 0.10637447951545179, 0.10194045899899352, 0.09914765419534674, 0.09574774040582594, 0.09180901077151858, 0.08861376458840191, 0.08614445404267647, 0.08287031854122458, 0.08150236173904558, 0.08077209093061412, 0.07752782415965913, 0.07497943924661253, 0.0763613759352008, 0.07147625366776762, 0.07094964993671632, 0.06998993120562862, 0.0686639699464043, 0.06981532688431896, 0.06652499854284832, 0.06544542158713364, 0.06598681559515111, 0.06641573249034478, 0.06321079868980696, 0.062391292137649136, 0.06055222136873595, 0.0682771269214545, 0.06808070940765697, 0.05986250499744371, 0.06435711915329309, 0.06140285247648266, 0.057174179458142446, 0.06023176789432414, 0.057398474963268206, 0.05736050216542303, 0.05630114721790166, 0.054857643259942815, 0.05883282168108113, 0.05462795000374667, 0.0556408299019499, 0.05350842043547563, 0.05337534907837989, 0.05448410612806468, 0.05368175871775184, 0.05395783630894943, 0.0557936538391235, 0.052393532596406105, 0.052274589046416145, 0.05261026176366028, 0.053015155674006456, 0.05207059277055409, 0.05182789913225622, 0.05215007325573147, 0.052265706492867756, 0.04942097021878955, 0.04935627542173778, 0.049483559229914015, 0.04864250770616979, 0.05124597053782481, 0.05225119112767804, 0.048301988714177846, 0.04829756908573455, 0.05441210354227975, 0.05381394821074857, 0.052403088886413214, 0.05092617605283786, 0.04663880027725663, 0.047158017427717365, 0.04631320734567363, 0.0459089403351148, 0.0480366752443599, 0.04695299169280404, 0.04601433759494007, 0.04477165679626621, 0.045553388170233355, 0.05109178666637537, 0.045878727811043254, 0.04327699871287799, 0.04535847616998453, 0.04505266078655988, 0.044458896859588336, 0.043278340005398916, 0.044282045162899394, 0.04431684280225369, 0.0443847079984319, 0.046415534902346525, 0.05192429626561666, 0.04714643976218264, 0.04415234977580572, 0.04232578028535619, 0.04167158927051394, 0.042560985451782815, 0.041618774115969315, 0.04183336712000236, 0.040679459070935495, 0.040892475488499475, 0.042128810729009446, 0.04017152950307573, 0.04177786780634956, 0.045047847755218334, 0.04553663053772819, 0.041846114862273, 0.04555514933633784, 0.044917424624794526, 0.04050295417385062, 0.038980360634782364, 0.03927661235632261, 0.03947069568498314, 0.041169584155992166, 0.040637238379655306, 0.03929012246263769, 0.037900837861928445, 0.03796939734924812, 0.03749473734011113, 0.03761301562299366, 0.03735826126006847, 0.039978847126235985, 0.041964803450684034, 0.03739519974111881, 0.036763840250041285, 0.036060055918956585, 0.036433511426751046, 0.03638254768464347, 0.03934490125303314, 0.039585310930797195, 0.038539878004164974, 0.03628684669523172, 0.03613912770655793, 0.037061771850141, 0.03640345849332885, 0.036189960912110485, 0.0350794659429033, 0.035116076645137474, 0.035515748202678325, 0.034453229270350764, 0.03445939619111623, 0.03518642490388642, 0.03426821381203445, 0.037260951220709396, 0.04481127632545753, 0.048126733525188314, 0.03749258584941917, 0.03357567518190896, 0.03264361763364273, 0.033285368923666264, 0.03222209068244496, 0.032670849833654966, 0.033478719842545863, 0.037644699376028365, 0.03256677836179733, 0.03218092799116748, 0.03431366652495145, 0.031172915324656197, 0.03141079746414099, 0.03171962934618317, 0.03211998033551543, 0.03206192587935169, 0.033260784902707716, 0.030048921416806575, 0.030499551987424142, 0.03246551108472224, 0.04066559526317276, 0.032812735581761794, 0.0358979655517169, 0.03406810532641016, 0.033631799698855394, 0.029631266099599762, 0.02998439902920678, 0.029017448298493183, 0.028996575757792274, 0.03139703715998382, 0.03013230475461539, 0.02901219253531032, 0.029189370852401, 0.030621138886393357, 0.027648903919217732, 0.03274118079817001, 0.02921147747708598, 0.028985470249164553, 0.029128846589504837, 0.02944814081483044, 0.028174314569209664, 0.029851837995344063, 0.029808024888936902, 0.027507186058401502, 0.02770450479403453, 0.028359089437705473, 0.03167262828161179, 0.03186140339734129, 0.03247227722630255, 0.034670602167467916, 0.031056683448235124, 0.034079994676616085, 0.028646666026442474, 0.027445865858689456, 0.025617528374486127, 0.02607564011614927, 0.02608248297597321, 0.025920252792292358, 0.027419969837395516, 0.02702493258389019, 0.027705007772239585, 0.02594708259099386, 0.02564008420962073, 0.024375329161403884, 0.026853036577048156, 0.0247946208334165, 0.024436079647759318, 0.02631286590058409, 0.0275195969538949, 0.024501801085846386, 0.02594794533237325, 0.03410669025303316, 0.02815317771804165, 0.024490369390914906, 0.026204661741642883, 0.02651828875986011, 0.026198122599692314, 0.025110343990597694, 0.02376128039694448, 0.02302669126367166, 0.022618164113797072, 0.023450828940026078, 0.023249460545482176, 0.022427499993866038, 0.024275953743711744, 0.02451340345219827, 0.0341870938930573, 0.02308904392040278, 0.022338600190872318, 0.02263445566714268, 0.022352502904307674, 0.02254467816070212, 0.025971823664898044, 0.021900133050523452, 0.02129367274612608, 0.02232612585517722, 0.022314204464933263, 0.021481703316460543, 0.022261745493176957, 0.022096491042717784, 0.021875994909607187, 0.020785287327190233, 0.021655491085399485, 0.02163583113104605, 0.020500573229062166, 0.02133755393527413, 0.020089768349811184, 0.019700413711911217, 0.019805874568388355, 0.019657931592262968, 0.020470419835775844, 0.020813475533480376, 0.0220885594488021, 0.02100995696748786, 0.021584330479715003, 0.02001049047764478, 0.019720512619373243, 0.018990993051037647, 0.0211580697613213, 0.02202276105636145, 0.018632608723822334, 0.01964328816038132, 0.018334561565802366, 0.019679634949900736, 0.023194850227869872, 0.022059108871756723, 0.026984541418966553, 0.019396076328121126, 0.01968777477478897, 0.01812272763208753, 0.017503988525825923, 0.01803403020018773, 0.017070330583223714, 0.017589042246264643, 0.019546866301062383, 0.02115876730444006, 0.024905599983837543, 0.02420869128157695, 0.019392381216445282, 0.01743618436917409, 0.01765685473424448, 0.017163936254249213, 0.01648347691016298, 0.018377337972043266, 0.0184322781576622, 0.017002651224977516, 0.016054787884024736, 0.016115240689297098, 0.016347060453894377, 0.01653916950167065, 0.015459041797092508, 0.015562120317853112, 0.016049079268519274, 0.015460880937277746, 0.01709232236446699, 0.016612025889449974, 0.014758468667611463, 0.015260639701021109, 0.014449231287091751, 0.014843377192885103, 0.01595263294176037, 0.014304836229097367, 0.014619391752658915, 0.014402455208656934, 0.014425351218858235, 0.015357735170545537, 0.015636085860536133, 0.01692315090465154, 0.01569094168602097, 0.014215305209282278, 0.01439212082050076, 0.014404109079596267, 0.013980671806051068, 0.01959400436460552, 0.016485154177302695, 0.014218686091683001, 0.0135827356416015, 0.015092698579540416, 0.013510986933038689, 0.013072972636267614, 0.014132471868761229, 0.013868414268100922, 0.013441533215907993, 0.015255473396727736, 0.014232596433874516, 0.013845335736437897, 0.013248042205672168, 0.014383091318023176, 0.015390563885760034, 0.013098117049363717, 0.012838932182727286, 0.012744733821349262, 0.012484233085549232, 0.013553965915466698, 0.012435583982555449, 0.012699904812263772, 0.01239243517476768, 0.012281635328537037, 0.01325128331890837, 0.011756838192210092, 0.015357076000212364, 0.01440921673078982, 0.01257154012595057, 0.014062428886306957, 0.017306058964616358, 0.012639909337631764, 0.012193556350301688, 0.011378049448202473, 0.011871011523953071, 0.011781732829947881, 0.013473698068240728, 0.011189147813612936, 0.012025382005753862, 0.012809776857346647, 0.01090300158092516, 0.012155954329244477, 0.01506134333906634, 0.016978116321446867, 0.011092037235434424, 0.011512818779061797, 0.010917373906663606, 0.010558036597611759, 0.012350471842665243, 0.013687150224938358, 0.015182661832348655, 0.011585844855563182, 0.00962238279984624, 0.009968647949764846, 0.009989994096005676, 0.009756940263889166, 0.009938799238330881, 0.010347664919725571, 0.009888278097712255, 0.00934630770131316, 0.011808777129345359, 0.009571751763829918, 0.011140843781756298, 0.011379879162747566, 0.009148268335162194, 0.008801996253185989, 0.009088851284523202, 0.008964992719680561, 0.009216811280848431, 0.011285935292466425, 0.008582320094913104, 0.008445982336085246, 0.008291181975958142, 0.008552215328798608, 0.008969787128442375, 0.009092852990296035, 0.009060939203318156, 0.009011881154975086, 0.008932220480654021, 0.008276881128680748, 0.007883798171344028, 0.008469024566970951, 0.008941099370125804, 0.00859724267871237, 0.0090451522693672, 0.008074077349068693, 0.0084677798839662, 0.010132581000342013, 0.00919074028240683, 0.009315273320125626, 0.007495334968211331, 0.007107676303869785, 0.0070088139348204286, 0.008280041770711346, 0.007971217747867335, 0.0070650077016669996, 0.006838292340094747, 0.006946066525922571, 0.006691499501182544, 0.00668786928503656, 0.006680796018521795, 0.007175002531848078, 0.007202496750139776, 0.006784873581688169, 0.006878366144024221, 0.0073530310698831656, 0.0074264011952475135, 0.007513066978603767, 0.007006539600002776, 0.0065964232218023305, 0.006422194526552664, 0.005961151838962846, 0.0068221524659047685, 0.007711597291988806, 0.006385176822605289, 0.006618138379745291, 0.006635939449646036, 0.0064402662516009224, 0.006069161746915465, 0.006899905795485061, 0.006812660345351849, 0.006410517500267482, 0.00570673524853533, 0.005604722731672403, 0.005682660135584818, 0.006216802289151967, 0.00635347186566982, 0.007646031330116618, 0.005942318891557677, 0.007789063903594941, 0.005463635658259403, 0.005880635215294099, 0.005387424203040332, 0.006697703910141116, 0.009286962217266536, 0.005916669086619836, 0.005882305039069397, 0.006213554689860706, 0.006510916220290582, 0.005803660241484712, 0.006063317485202728, 0.005439307122817045, 0.004642118586895175, 0.004820914753081994, 0.005524056475040309, 0.0049114944726973255, 0.005473900441465574, 0.005003882479291207, 0.004446068822358136, 0.0045030932104763765, 0.004758680140940656, 0.004462537434697589, 0.004614200693486311, 0.004369768367078977, 0.00467808155866498, 0.004780042995239648, 0.004538486179340403, 0.004558010841309226, 0.0043433891596193885, 0.004570876869062583, 0.004262963606114609, 0.003967003572181287, 0.004024356151829876, 0.003986201304537922, 0.00417412995708398, 0.00396261046866847, 0.003838713827407416, 0.004044682347705422, 0.004208164002107972, 0.005271745980946793, 0.008139635789001246, 0.004906423653622416, 0.0037515436680637683, 0.003888973581469115, 0.003876386061284807, 0.003982617613203776, 0.0039037300839575165, 0.0035903914281270387, 0.003876856743119506, 0.0037965214917296325, 0.003718051778826482, 0.00329765238134549, 0.0033459100197322125, 0.003908964021277872, 0.0038854806960512286, 0.00338837144045955, 0.003448932493671757, 0.0034784888334603056, 0.0034720449065658407, 0.0031861599668832003, 0.003421936084695615, 0.0034044288585756846, 0.0031330639645654025, 0.003456104070739602, 0.0034227588943130213, 0.003391180439013769, 0.003784903228947534, 0.003772729356552391, 0.00422153910818759, 0.004417019957149655, 0.004735694943870109, 0.0034597269076298695, 0.0032811312561312543, 0.0028932414429861655, 0.0028119923178261765, 0.002998121906161536, 0.002690826942029068, 0.0027765411454174467, 0.002650903191356242, 0.002900303075824615, 0.0029030463938653785, 0.0033946982219387853, 0.0029072075815546445, 0.003083659455665505, 0.00249269479440805, 0.003099540609783305, 0.0024540810884392445, 0.0028979151805062745, 0.0031908788431890553, 0.002857061809129978, 0.0027852375828223783, 0.0026449240053273704, 0.0029434750175879373, 0.0024065360144882556, 0.002595861967735716, 0.002379331761309653, 0.002435404193142709, 0.002320315729293255, 0.0030808226859083336, 0.0026164904071786415, 0.0024632671978022853, 0.0022859362345773663, 0.0023100953538215635, 0.0023202219820294984, 0.002309685527891393, 0.002799259765158919, 0.002293862740809976, 0.0022301527215419295, 0.0022739090537543063, 0.00228467105970906, 0.0024707543012191992, 0.002809541389026937, 0.0024753274540078034, 0.002666490339676673, 0.002117813459447679, 0.0023104039665356392, 0.002964211909861212, 0.002497329253941964, 0.002491801211713188, 0.0022852780136627233, 0.00237601211823593, 0.0019445477847712625, 0.002113162314583779, 0.0018942577648523129, 0.0020261650334619, 0.002237599516727966, 0.002084228522060909, 0.002017600302247794, 0.002076115595294871, 0.0017866743766093854, 0.0024999694669941373]}, {\"line\": {\"color\": \"rgba(55, 128, 191, 1.0)\", \"dash\": \"solid\", \"shape\": \"linear\", \"width\": 1.3}, \"mode\": \"lines\", \"name\": \"val_loss\", \"text\": \"\", \"type\": \"scatter\", \"x\": [0, 1, 2, 3, 4, 5, 6, 7, 8, 9, 10, 11, 12, 13, 14, 15, 16, 17, 18, 19, 20, 21, 22, 23, 24, 25, 26, 27, 28, 29, 30, 31, 32, 33, 34, 35, 36, 37, 38, 39, 40, 41, 42, 43, 44, 45, 46, 47, 48, 49, 50, 51, 52, 53, 54, 55, 56, 57, 58, 59, 60, 61, 62, 63, 64, 65, 66, 67, 68, 69, 70, 71, 72, 73, 74, 75, 76, 77, 78, 79, 80, 81, 82, 83, 84, 85, 86, 87, 88, 89, 90, 91, 92, 93, 94, 95, 96, 97, 98, 99, 100, 101, 102, 103, 104, 105, 106, 107, 108, 109, 110, 111, 112, 113, 114, 115, 116, 117, 118, 119, 120, 121, 122, 123, 124, 125, 126, 127, 128, 129, 130, 131, 132, 133, 134, 135, 136, 137, 138, 139, 140, 141, 142, 143, 144, 145, 146, 147, 148, 149, 150, 151, 152, 153, 154, 155, 156, 157, 158, 159, 160, 161, 162, 163, 164, 165, 166, 167, 168, 169, 170, 171, 172, 173, 174, 175, 176, 177, 178, 179, 180, 181, 182, 183, 184, 185, 186, 187, 188, 189, 190, 191, 192, 193, 194, 195, 196, 197, 198, 199, 200, 201, 202, 203, 204, 205, 206, 207, 208, 209, 210, 211, 212, 213, 214, 215, 216, 217, 218, 219, 220, 221, 222, 223, 224, 225, 226, 227, 228, 229, 230, 231, 232, 233, 234, 235, 236, 237, 238, 239, 240, 241, 242, 243, 244, 245, 246, 247, 248, 249, 250, 251, 252, 253, 254, 255, 256, 257, 258, 259, 260, 261, 262, 263, 264, 265, 266, 267, 268, 269, 270, 271, 272, 273, 274, 275, 276, 277, 278, 279, 280, 281, 282, 283, 284, 285, 286, 287, 288, 289, 290, 291, 292, 293, 294, 295, 296, 297, 298, 299, 300, 301, 302, 303, 304, 305, 306, 307, 308, 309, 310, 311, 312, 313, 314, 315, 316, 317, 318, 319, 320, 321, 322, 323, 324, 325, 326, 327, 328, 329, 330, 331, 332, 333, 334, 335, 336, 337, 338, 339, 340, 341, 342, 343, 344, 345, 346, 347, 348, 349, 350, 351, 352, 353, 354, 355, 356, 357, 358, 359, 360, 361, 362, 363, 364, 365, 366, 367, 368, 369, 370, 371, 372, 373, 374, 375, 376, 377, 378, 379, 380, 381, 382, 383, 384, 385, 386, 387, 388, 389, 390, 391, 392, 393, 394, 395, 396, 397, 398, 399, 400, 401, 402, 403, 404, 405, 406, 407, 408, 409, 410, 411, 412, 413, 414, 415, 416, 417, 418, 419, 420, 421, 422, 423, 424, 425, 426, 427, 428, 429, 430, 431, 432, 433, 434, 435, 436, 437, 438, 439, 440, 441, 442, 443, 444, 445, 446, 447, 448, 449, 450, 451, 452, 453, 454, 455, 456, 457, 458, 459, 460, 461, 462, 463, 464, 465, 466, 467, 468, 469, 470, 471, 472, 473, 474, 475, 476, 477, 478, 479, 480, 481, 482, 483, 484, 485, 486, 487, 488, 489, 490, 491, 492, 493, 494, 495, 496, 497, 498, 499, 500, 501, 502, 503, 504, 505, 506, 507, 508, 509, 510, 511, 512, 513, 514, 515, 516, 517, 518, 519, 520, 521, 522, 523, 524, 525, 526, 527, 528, 529, 530, 531, 532, 533, 534, 535, 536, 537, 538, 539, 540, 541, 542, 543, 544, 545, 546, 547, 548, 549, 550, 551, 552, 553, 554, 555, 556, 557, 558, 559, 560, 561, 562, 563, 564, 565, 566, 567, 568, 569, 570, 571, 572, 573, 574, 575, 576, 577, 578, 579, 580, 581, 582, 583, 584, 585, 586, 587, 588, 589, 590, 591, 592, 593, 594, 595, 596, 597, 598, 599], \"y\": [0.6541754436659646, 0.615943754469598, 0.5702724406769225, 0.5199456706747309, 0.46787908423197017, 0.4174528932654774, 0.36994014940895403, 0.3293954740454267, 0.2969456294199804, 0.2658359454228328, 0.2455254327375572, 0.22207434308695626, 0.2060666985653497, 0.19346491544396727, 0.17856436863645808, 0.178516643239068, 0.16049856749864724, 0.1585332180236603, 0.14674877463937638, 0.14531781863082538, 0.13762879751987392, 0.13989499414508993, 0.13014592605454106, 0.12982410567623753, 0.12456543107966443, 0.12615580106531823, 0.1198529799605583, 0.12345602102838196, 0.11579359385308687, 0.12271342968398874, 0.11789383103589078, 0.11558760207641375, 0.11791019412604245, 0.10903134835245726, 0.11979447966897404, 0.10966151233736451, 0.11769915913993662, 0.10652044675983749, 0.11670171104736261, 0.10987384117149807, 0.10480308222708169, 0.11963848264275731, 0.10684544176280082, 0.11193203186238562, 0.10937277733029185, 0.10578436407071727, 0.11094484978414082, 0.10909702329264655, 0.10364867395141741, 0.11621822765865526, 0.10079064418177505, 0.11776826884988305, 0.10263206786313257, 0.11809340947783077, 0.10081050417327381, 0.11970901796659389, 0.10554048666483039, 0.10670583551892868, 0.1035472937188782, 0.11066777149697284, 0.10347663650250101, 0.11264597619330133, 0.10216181378785547, 0.10622863130240173, 0.1096736407884351, 0.10914762396287252, 0.10816299409924687, 0.11235950694425956, 0.1078883986008334, 0.10600367886619969, 0.10500586290772145, 0.1074950606464506, 0.10801809359263707, 0.10801959079462331, 0.09951598582776276, 0.11502970921826529, 0.10293908826225287, 0.10853412851587042, 0.11452220104165844, 0.1091358987549385, 0.11116785285147754, 0.10262926146909074, 0.11453028351485313, 0.11079339716922153, 0.11180117064631069, 0.10247201545463576, 0.10807386587758164, 0.10970455079853951, 0.10182708236095789, 0.11301942675055324, 0.10651309496456093, 0.10770724424636448, 0.10994022558410685, 0.1049683219850897, 0.11229892288679844, 0.1024117233505199, 0.11427398161454634, 0.103241409429095, 0.10953553667018463, 0.1135924417343173, 0.10519060807732436, 0.12975060929368426, 0.10590239405840426, 0.11457390671635008, 0.1112290254006019, 0.10935119693200071, 0.12016033073822102, 0.11071071515862758, 0.10838361259002785, 0.11522844011758591, 0.10545705516750996, 0.1116474893699576, 0.1098258707125287, 0.11474819356328124, 0.10809761778145403, 0.11723153181113563, 0.11075028329045622, 0.1105210550806739, 0.10837271580329308, 0.10961076726655027, 0.1228473824741957, 0.10598312240172099, 0.12000748426555753, 0.11756293262009854, 0.11702158869980099, 0.11168007503126885, 0.10842186100520454, 0.11636058314071669, 0.10943556899999406, 0.11589255527808116, 0.1151931182956779, 0.10855714122315387, 0.11480340762780263, 0.11590617118807106, 0.11775586965096581, 0.10987577144499425, 0.11457951549258265, 0.11547763786324254, 0.10768638960235602, 0.11824735566661075, 0.11006941789617905, 0.12323676565518746, 0.11364772608438573, 0.11607445416959015, 0.11859527214632168, 0.11572740213958534, 0.1194233646863824, 0.11109767765640378, 0.12909201746220356, 0.11101091697395264, 0.11937749573400805, 0.1145927413672834, 0.12275239866930288, 0.11266724051503868, 0.11975521208731445, 0.11427154446711073, 0.1280397441420522, 0.12168755747013159, 0.11239594979198662, 0.12298128399607185, 0.1170952981793797, 0.11984829187810005, 0.12525354664434085, 0.11116774062385092, 0.1207036415596942, 0.11557828061855756, 0.1145212286627376, 0.11424048573195518, 0.11716104595811216, 0.12057336982521978, 0.11245380159649816, 0.12497429231872091, 0.1105765111588098, 0.12013754118364174, 0.11572317151235534, 0.12620963067649962, 0.11377424392458442, 0.12285144700037016, 0.12273153365700396, 0.1158543670927728, 0.11672937401107975, 0.11904158474473686, 0.11523778575075257, 0.11992764571955154, 0.12249678553088561, 0.13398996834363136, 0.11519734910526476, 0.12090958545466403, 0.11253025010228157, 0.12272563837208114, 0.12100862706457818, 0.12012972943224273, 0.12172001839934529, 0.11906776157813473, 0.1264253638007424, 0.1159661912417912, 0.12238487072445296, 0.12350074780154062, 0.1188066463683035, 0.1331944451569677, 0.11481024541117095, 0.12334985338099352, 0.13171780500170235, 0.1297431820547664, 0.1342213660270184, 0.12144236430734187, 0.13043928782006245, 0.1180820515626794, 0.13035330384761304, 0.12523632269951848, 0.12431262412688115, 0.1164647732581292, 0.1273972004964635, 0.12118815174782192, 0.1418565092803715, 0.11483312184577221, 0.14298424525902823, 0.1197306584123965, 0.1291586242199361, 0.12781788213373899, 0.1233760166939322, 0.11970900040823262, 0.1196291024659897, 0.12685280772564295, 0.12043411847386327, 0.13142231356847536, 0.11914639234855458, 0.12216223872729115, 0.12678125297481363, 0.12485707124004831, 0.12292734002108341, 0.12408396169230655, 0.12828736403188506, 0.11813013180048315, 0.12741109046277466, 0.12457030589555527, 0.14919501371108568, 0.11909568176923932, 0.1210733768041734, 0.12659940016749022, 0.11987150377118504, 0.12256926212173241, 0.1296087074113059, 0.12185878759914345, 0.13191691171247644, 0.12266909800000958, 0.12855793306460747, 0.12376393429882876, 0.1367372133202486, 0.13242996385047487, 0.12576889176364545, 0.13037182685065937, 0.13294785586999847, 0.12911344968251415, 0.12712021039186658, 0.13495093625742238, 0.12440407093796697, 0.14076999340440843, 0.1284249769849377, 0.12470650665097303, 0.12569354586563744, 0.13279791712969333, 0.12341909266851998, 0.1341902302851627, 0.12503350239533645, 0.1364361484880214, 0.1278599946127905, 0.134906057450738, 0.13123924907791865, 0.1354005333374847, 0.13460545640412744, 0.13210785646851247, 0.12905997368735034, 0.13481674874787564, 0.13181406116256347, 0.1330067802455042, 0.12929953728522453, 0.14759696467773065, 0.12786189802772516, 0.13701922985744644, 0.127146928408346, 0.1310251311926575, 0.135286534999634, 0.1272989948885841, 0.1342361190362827, 0.12999984916377735, 0.14183222916680616, 0.1308417143625813, 0.15321908880780627, 0.13053187407501093, 0.15103674937899297, 0.1276343531541891, 0.145781199311043, 0.13445866055838712, 0.13382550659817416, 0.13593629547036612, 0.1410612936776418, 0.1341351714844887, 0.14284884429478145, 0.13700543432594178, 0.13258838178134047, 0.16642482891366198, 0.1285754062912681, 0.135040847206866, 0.137260985463024, 0.1430598666982634, 0.13955822547936772, 0.1365566547777686, 0.15048364078352502, 0.13237979576981568, 0.1418515091853125, 0.14073630404118057, 0.13799251139268176, 0.14463482020826607, 0.14832087624427323, 0.1390879871779597, 0.14203356796471805, 0.1416857986339739, 0.1442941740233373, 0.14749515004508146, 0.14249360679902814, 0.14254425846404964, 0.1467139326765404, 0.13968822077385612, 0.15905828341529085, 0.1491337522499628, 0.14316613671298212, 0.1438560398308547, 0.14323886573783584, 0.138434955967473, 0.15002131746052863, 0.1404967591609363, 0.14485286144943504, 0.14695729511965822, 0.14529969958731762, 0.14528757701074327, 0.1460578094360295, 0.15344535184281688, 0.1416188751940023, 0.15944436261547612, 0.14586420091507318, 0.15241349657828157, 0.1434741732827225, 0.1538275278505537, 0.14641508592904864, 0.14154466519041078, 0.15325775518492385, 0.1444253310483027, 0.1473162024692222, 0.16052903584041794, 0.14265055568901808, 0.15587320569511895, 0.1440916747909847, 0.14916899627712848, 0.15361922524765237, 0.15081671551130452, 0.16095416276500776, 0.15067034954582895, 0.16771818004496447, 0.14696529803315658, 0.16181042610661134, 0.1521682535929905, 0.15521162756152088, 0.14957275193419073, 0.15937157023463633, 0.14980803431382964, 0.1712600610811602, 0.15585948667534583, 0.15233386812041272, 0.17671921442855487, 0.1507647329765548, 0.16393368161068514, 0.1587389977583727, 0.1648954346228938, 0.1579470404560541, 0.17361806611810532, 0.15887163073423652, 0.1631764244822251, 0.152796999316897, 0.1563033755490934, 0.16195406566758255, 0.16223102481058843, 0.17872718724233289, 0.15551256833897603, 0.17008308256761387, 0.1602217850268825, 0.16295064742826706, 0.15381624577632108, 0.1853038951936927, 0.15758125222177355, 0.15561780902081646, 0.1585696866683714, 0.1614420256883531, 0.16349936753407224, 0.15875836571196575, 0.16895204731035274, 0.16247811163873313, 0.1589297779959503, 0.1684941468382632, 0.15726275039328771, 0.16739787918131252, 0.16252500029814826, 0.1765585686763996, 0.16693316917163092, 0.1670480110988646, 0.16701789769519876, 0.16758588996188312, 0.17825861012081165, 0.16672554699430517, 0.16642982752381505, 0.17321394317477315, 0.16706769936555227, 0.1595648408450603, 0.17511912527122905, 0.16027013547848779, 0.18126588772617644, 0.15853723345350448, 0.17110619147575193, 0.16277818510738704, 0.1641052376765471, 0.15707312024628314, 0.17785171997388238, 0.16154729393375972, 0.17390522203193262, 0.1646869680290664, 0.16501993104698254, 0.18411717062060545, 0.17275809537508635, 0.16467870077300634, 0.17043425096361736, 0.17020874625312854, 0.17021913700443986, 0.16107920958445623, 0.16457259989753886, 0.16636896427961756, 0.16940417332685442, 0.17298804768165768, 0.16863212301688907, 0.1698865756242686, 0.1686079161261189, 0.16721851316319739, 0.16943945196437668, 0.17747248198602583, 0.17254809616784844, 0.17518776705752329, 0.17392330432076242, 0.16417386113597615, 0.1732122146742666, 0.16971673495689785, 0.17942589175418489, 0.16691830146885184, 0.18279165714340923, 0.16758362071546304, 0.17129983223886783, 0.17659731929750552, 0.17087990841649187, 0.175783617931607, 0.1664872431901277, 0.17843551371389857, 0.16797423391957877, 0.17839841722100452, 0.16872286615271279, 0.17691686005377166, 0.17181754508462793, 0.17559283502624612, 0.16915032938790306, 0.18510005992212028, 0.1620706346356538, 0.18996858737151417, 0.1732799362055827, 0.17403617190275264, 0.17543941539617816, 0.17056538251438666, 0.19068041513348324, 0.1673559155290738, 0.17213366995484183, 0.17230432306357718, 0.17724106773177253, 0.17817899632964518, 0.1679507412823972, 0.17450876519901326, 0.17766361818746565, 0.17777603524867314, 0.17286938909519386, 0.18204819782021606, 0.18442468086527855, 0.17365952723307887, 0.18279498871505404, 0.17665136376293245, 0.18494283160035194, 0.17845222403065764, 0.17927672904004324, 0.17558103269967412, 0.17920173369665546, 0.18143398222884724, 0.17361867255360292, 0.18647842585040791, 0.17533208274687934, 0.18103442302257006, 0.17911834974237556, 0.18331684973343257, 0.18049548956088501, 0.18331843627725852, 0.18155764808945057, 0.18086480723317042, 0.18225079563721505, 0.17882071793611792, 0.17866502484730837, 0.1845945704895661, 0.1939412222729859, 0.18668733482428995, 0.18663800638934297, 0.17861732299084665, 0.18400525029258594, 0.18157928171335602, 0.1843757368150001, 0.18208926628666142, 0.18027765966827292, 0.1816545874619176, 0.18719846845081017, 0.17993089514320482, 0.18368590334910653, 0.17699445050878945, 0.18494437380988554, 0.1813415777629365, 0.1795765367614177, 0.1851272835114147, 0.19004951884369267, 0.18242808374593775, 0.18211429249910455, 0.18817757805231372, 0.1845091035887941, 0.1870021664661028, 0.18009135761042613, 0.18981921201318638, 0.18183575000178795, 0.1804670200329453, 0.18085019102473124, 0.18660531076032771, 0.17686670008463495, 0.19367010141454208, 0.18277591937368123, 0.18594639272863775, 0.18996383238464132, 0.1896363428927766, 0.1891625979093027, 0.1860739100019047, 0.18583673141805954, 0.19398680403853044, 0.1846175825986946, 0.2001695704764045, 0.18388472823858615, 0.1908456802333972, 0.17210511723278868, 0.18523922092399325, 0.17600957038015547, 0.20333559993472133, 0.18557496619223776, 0.19901605302513126, 0.18894557173153625, 0.19801834467134985, 0.19332801913651246, 0.18857964699199728, 0.18933216797017371, 0.19430057339806198, 0.18939145748472774, 0.19412787689717886, 0.1894196166149477, 0.19938101878679126, 0.19391412678053782, 0.18826621584243172, 0.19705176195205057, 0.18800133677402803, 0.18917598814610515, 0.20279883632722956, 0.18482864878497166, 0.18869792662674506, 0.1905393366154118, 0.19209430764454305, 0.1837706039272476, 0.20698737664497457, 0.1833431939420944, 0.19409273890620693, 0.18906660161206623, 0.18400249290746112, 0.2074947480012181, 0.2074985288839032, 0.18689864818749105, 0.21077711042067626, 0.19085668027159286, 0.19938139097191762, 0.19121002049660155, 0.19536954051285, 0.19175700339575893, 0.1942689573032341, 0.19970789541594378, 0.2025685625382206, 0.1965781449211759, 0.19681687700353365, 0.21904348070646548]}],\n",
       "                        {\"legend\": {\"bgcolor\": \"#F5F6F9\", \"font\": {\"color\": \"#4D5663\"}}, \"paper_bgcolor\": \"#F5F6F9\", \"plot_bgcolor\": \"#F5F6F9\", \"template\": {\"data\": {\"bar\": [{\"error_x\": {\"color\": \"#2a3f5f\"}, \"error_y\": {\"color\": \"#2a3f5f\"}, \"marker\": {\"line\": {\"color\": \"#E5ECF6\", \"width\": 0.5}}, \"type\": \"bar\"}], \"barpolar\": [{\"marker\": {\"line\": {\"color\": \"#E5ECF6\", \"width\": 0.5}}, \"type\": \"barpolar\"}], \"carpet\": [{\"aaxis\": {\"endlinecolor\": \"#2a3f5f\", \"gridcolor\": \"white\", \"linecolor\": \"white\", \"minorgridcolor\": \"white\", \"startlinecolor\": \"#2a3f5f\"}, \"baxis\": {\"endlinecolor\": \"#2a3f5f\", \"gridcolor\": \"white\", \"linecolor\": \"white\", \"minorgridcolor\": \"white\", \"startlinecolor\": \"#2a3f5f\"}, \"type\": \"carpet\"}], \"choropleth\": [{\"colorbar\": {\"outlinewidth\": 0, \"ticks\": \"\"}, \"type\": \"choropleth\"}], \"contour\": [{\"colorbar\": {\"outlinewidth\": 0, \"ticks\": \"\"}, \"colorscale\": [[0.0, \"#0d0887\"], [0.1111111111111111, \"#46039f\"], [0.2222222222222222, \"#7201a8\"], [0.3333333333333333, \"#9c179e\"], [0.4444444444444444, \"#bd3786\"], [0.5555555555555556, \"#d8576b\"], [0.6666666666666666, \"#ed7953\"], [0.7777777777777778, \"#fb9f3a\"], [0.8888888888888888, \"#fdca26\"], [1.0, \"#f0f921\"]], \"type\": \"contour\"}], \"contourcarpet\": [{\"colorbar\": {\"outlinewidth\": 0, \"ticks\": \"\"}, \"type\": \"contourcarpet\"}], \"heatmap\": [{\"colorbar\": {\"outlinewidth\": 0, \"ticks\": \"\"}, \"colorscale\": [[0.0, \"#0d0887\"], [0.1111111111111111, \"#46039f\"], [0.2222222222222222, \"#7201a8\"], [0.3333333333333333, \"#9c179e\"], [0.4444444444444444, \"#bd3786\"], [0.5555555555555556, \"#d8576b\"], [0.6666666666666666, \"#ed7953\"], [0.7777777777777778, \"#fb9f3a\"], [0.8888888888888888, \"#fdca26\"], [1.0, \"#f0f921\"]], \"type\": \"heatmap\"}], \"heatmapgl\": [{\"colorbar\": {\"outlinewidth\": 0, \"ticks\": \"\"}, \"colorscale\": [[0.0, \"#0d0887\"], [0.1111111111111111, \"#46039f\"], [0.2222222222222222, \"#7201a8\"], [0.3333333333333333, \"#9c179e\"], [0.4444444444444444, \"#bd3786\"], [0.5555555555555556, \"#d8576b\"], [0.6666666666666666, \"#ed7953\"], [0.7777777777777778, \"#fb9f3a\"], [0.8888888888888888, \"#fdca26\"], [1.0, \"#f0f921\"]], \"type\": \"heatmapgl\"}], \"histogram\": [{\"marker\": {\"colorbar\": {\"outlinewidth\": 0, \"ticks\": \"\"}}, \"type\": \"histogram\"}], \"histogram2d\": [{\"colorbar\": {\"outlinewidth\": 0, \"ticks\": \"\"}, \"colorscale\": [[0.0, \"#0d0887\"], [0.1111111111111111, \"#46039f\"], [0.2222222222222222, \"#7201a8\"], [0.3333333333333333, \"#9c179e\"], [0.4444444444444444, \"#bd3786\"], [0.5555555555555556, \"#d8576b\"], [0.6666666666666666, \"#ed7953\"], [0.7777777777777778, \"#fb9f3a\"], [0.8888888888888888, \"#fdca26\"], [1.0, \"#f0f921\"]], \"type\": \"histogram2d\"}], \"histogram2dcontour\": [{\"colorbar\": {\"outlinewidth\": 0, \"ticks\": \"\"}, \"colorscale\": [[0.0, \"#0d0887\"], [0.1111111111111111, \"#46039f\"], [0.2222222222222222, \"#7201a8\"], [0.3333333333333333, \"#9c179e\"], [0.4444444444444444, \"#bd3786\"], [0.5555555555555556, \"#d8576b\"], [0.6666666666666666, \"#ed7953\"], [0.7777777777777778, \"#fb9f3a\"], [0.8888888888888888, \"#fdca26\"], [1.0, \"#f0f921\"]], \"type\": \"histogram2dcontour\"}], \"mesh3d\": [{\"colorbar\": {\"outlinewidth\": 0, \"ticks\": \"\"}, \"type\": \"mesh3d\"}], \"parcoords\": [{\"line\": {\"colorbar\": {\"outlinewidth\": 0, \"ticks\": \"\"}}, \"type\": \"parcoords\"}], \"pie\": [{\"automargin\": true, \"type\": \"pie\"}], \"scatter\": [{\"marker\": {\"colorbar\": {\"outlinewidth\": 0, \"ticks\": \"\"}}, \"type\": \"scatter\"}], \"scatter3d\": [{\"line\": {\"colorbar\": {\"outlinewidth\": 0, \"ticks\": \"\"}}, \"marker\": {\"colorbar\": {\"outlinewidth\": 0, \"ticks\": \"\"}}, \"type\": \"scatter3d\"}], \"scattercarpet\": [{\"marker\": {\"colorbar\": {\"outlinewidth\": 0, \"ticks\": \"\"}}, \"type\": \"scattercarpet\"}], \"scattergeo\": [{\"marker\": {\"colorbar\": {\"outlinewidth\": 0, \"ticks\": \"\"}}, \"type\": \"scattergeo\"}], \"scattergl\": [{\"marker\": {\"colorbar\": {\"outlinewidth\": 0, \"ticks\": \"\"}}, \"type\": \"scattergl\"}], \"scattermapbox\": [{\"marker\": {\"colorbar\": {\"outlinewidth\": 0, \"ticks\": \"\"}}, \"type\": \"scattermapbox\"}], \"scatterpolar\": [{\"marker\": {\"colorbar\": {\"outlinewidth\": 0, \"ticks\": \"\"}}, \"type\": \"scatterpolar\"}], \"scatterpolargl\": [{\"marker\": {\"colorbar\": {\"outlinewidth\": 0, \"ticks\": \"\"}}, \"type\": \"scatterpolargl\"}], \"scatterternary\": [{\"marker\": {\"colorbar\": {\"outlinewidth\": 0, \"ticks\": \"\"}}, \"type\": \"scatterternary\"}], \"surface\": [{\"colorbar\": {\"outlinewidth\": 0, \"ticks\": \"\"}, \"colorscale\": [[0.0, \"#0d0887\"], [0.1111111111111111, \"#46039f\"], [0.2222222222222222, \"#7201a8\"], [0.3333333333333333, \"#9c179e\"], [0.4444444444444444, \"#bd3786\"], [0.5555555555555556, \"#d8576b\"], [0.6666666666666666, \"#ed7953\"], [0.7777777777777778, \"#fb9f3a\"], [0.8888888888888888, \"#fdca26\"], [1.0, \"#f0f921\"]], \"type\": \"surface\"}], \"table\": [{\"cells\": {\"fill\": {\"color\": \"#EBF0F8\"}, \"line\": {\"color\": \"white\"}}, \"header\": {\"fill\": {\"color\": \"#C8D4E3\"}, \"line\": {\"color\": \"white\"}}, \"type\": \"table\"}]}, \"layout\": {\"annotationdefaults\": {\"arrowcolor\": \"#2a3f5f\", \"arrowhead\": 0, \"arrowwidth\": 1}, \"coloraxis\": {\"colorbar\": {\"outlinewidth\": 0, \"ticks\": \"\"}}, \"colorscale\": {\"diverging\": [[0, \"#8e0152\"], [0.1, \"#c51b7d\"], [0.2, \"#de77ae\"], [0.3, \"#f1b6da\"], [0.4, \"#fde0ef\"], [0.5, \"#f7f7f7\"], [0.6, \"#e6f5d0\"], [0.7, \"#b8e186\"], [0.8, \"#7fbc41\"], [0.9, \"#4d9221\"], [1, \"#276419\"]], \"sequential\": [[0.0, \"#0d0887\"], [0.1111111111111111, \"#46039f\"], [0.2222222222222222, \"#7201a8\"], [0.3333333333333333, \"#9c179e\"], [0.4444444444444444, \"#bd3786\"], [0.5555555555555556, \"#d8576b\"], [0.6666666666666666, \"#ed7953\"], [0.7777777777777778, \"#fb9f3a\"], [0.8888888888888888, \"#fdca26\"], [1.0, \"#f0f921\"]], \"sequentialminus\": [[0.0, \"#0d0887\"], [0.1111111111111111, \"#46039f\"], [0.2222222222222222, \"#7201a8\"], [0.3333333333333333, \"#9c179e\"], [0.4444444444444444, \"#bd3786\"], [0.5555555555555556, \"#d8576b\"], [0.6666666666666666, \"#ed7953\"], [0.7777777777777778, \"#fb9f3a\"], [0.8888888888888888, \"#fdca26\"], [1.0, \"#f0f921\"]]}, \"colorway\": [\"#636efa\", \"#EF553B\", \"#00cc96\", \"#ab63fa\", \"#FFA15A\", \"#19d3f3\", \"#FF6692\", \"#B6E880\", \"#FF97FF\", \"#FECB52\"], \"font\": {\"color\": \"#2a3f5f\"}, \"geo\": {\"bgcolor\": \"white\", \"lakecolor\": \"white\", \"landcolor\": \"#E5ECF6\", \"showlakes\": true, \"showland\": true, \"subunitcolor\": \"white\"}, \"hoverlabel\": {\"align\": \"left\"}, \"hovermode\": \"closest\", \"mapbox\": {\"style\": \"light\"}, \"paper_bgcolor\": \"white\", \"plot_bgcolor\": \"#E5ECF6\", \"polar\": {\"angularaxis\": {\"gridcolor\": \"white\", \"linecolor\": \"white\", \"ticks\": \"\"}, \"bgcolor\": \"#E5ECF6\", \"radialaxis\": {\"gridcolor\": \"white\", \"linecolor\": \"white\", \"ticks\": \"\"}}, \"scene\": {\"xaxis\": {\"backgroundcolor\": \"#E5ECF6\", \"gridcolor\": \"white\", \"gridwidth\": 2, \"linecolor\": \"white\", \"showbackground\": true, \"ticks\": \"\", \"zerolinecolor\": \"white\"}, \"yaxis\": {\"backgroundcolor\": \"#E5ECF6\", \"gridcolor\": \"white\", \"gridwidth\": 2, \"linecolor\": \"white\", \"showbackground\": true, \"ticks\": \"\", \"zerolinecolor\": \"white\"}, \"zaxis\": {\"backgroundcolor\": \"#E5ECF6\", \"gridcolor\": \"white\", \"gridwidth\": 2, \"linecolor\": \"white\", \"showbackground\": true, \"ticks\": \"\", \"zerolinecolor\": \"white\"}}, \"shapedefaults\": {\"line\": {\"color\": \"#2a3f5f\"}}, \"ternary\": {\"aaxis\": {\"gridcolor\": \"white\", \"linecolor\": \"white\", \"ticks\": \"\"}, \"baxis\": {\"gridcolor\": \"white\", \"linecolor\": \"white\", \"ticks\": \"\"}, \"bgcolor\": \"#E5ECF6\", \"caxis\": {\"gridcolor\": \"white\", \"linecolor\": \"white\", \"ticks\": \"\"}}, \"title\": {\"x\": 0.05}, \"xaxis\": {\"automargin\": true, \"gridcolor\": \"white\", \"linecolor\": \"white\", \"ticks\": \"\", \"title\": {\"standoff\": 15}, \"zerolinecolor\": \"white\", \"zerolinewidth\": 2}, \"yaxis\": {\"automargin\": true, \"gridcolor\": \"white\", \"linecolor\": \"white\", \"ticks\": \"\", \"title\": {\"standoff\": 15}, \"zerolinecolor\": \"white\", \"zerolinewidth\": 2}}}, \"title\": {\"font\": {\"color\": \"#4D5663\"}}, \"xaxis\": {\"gridcolor\": \"#E1E5ED\", \"showgrid\": true, \"tickfont\": {\"color\": \"#4D5663\"}, \"title\": {\"font\": {\"color\": \"#4D5663\"}, \"text\": \"\"}, \"zerolinecolor\": \"#E1E5ED\"}, \"yaxis\": {\"gridcolor\": \"#E1E5ED\", \"showgrid\": true, \"tickfont\": {\"color\": \"#4D5663\"}, \"title\": {\"font\": {\"color\": \"#4D5663\"}, \"text\": \"\"}, \"zerolinecolor\": \"#E1E5ED\"}},\n",
       "                        {\"showLink\": true, \"linkText\": \"Export to plot.ly\", \"plotlyServerURL\": \"https://plot.ly\", \"responsive\": true}\n",
       "                    ).then(function(){\n",
       "                            \n",
       "var gd = document.getElementById('a0ab5337-b04b-40d4-a277-afce548ba764');\n",
       "var x = new MutationObserver(function (mutations, observer) {{\n",
       "        var display = window.getComputedStyle(gd).display;\n",
       "        if (!display || display === 'none') {{\n",
       "            console.log([gd, 'removed!']);\n",
       "            Plotly.purge(gd);\n",
       "            observer.disconnect();\n",
       "        }}\n",
       "}});\n",
       "\n",
       "// Listen for the removal of the full notebook cells\n",
       "var notebookContainer = gd.closest('#notebook-container');\n",
       "if (notebookContainer) {{\n",
       "    x.observe(notebookContainer, {childList: true});\n",
       "}}\n",
       "\n",
       "// Listen for the clearing of the current output cell\n",
       "var outputEl = gd.closest('.output');\n",
       "if (outputEl) {{\n",
       "    x.observe(outputEl, {childList: true});\n",
       "}}\n",
       "\n",
       "                        })\n",
       "                };\n",
       "                });\n",
       "            </script>\n",
       "        </div>"
      ]
     },
     "metadata": {},
     "output_type": "display_data"
    }
   ],
   "source": [
    "loss.iplot()"
   ]
  },
  {
   "cell_type": "code",
   "execution_count": 56,
   "metadata": {},
   "outputs": [],
   "source": [
    "model = Sequential()\n",
    "\n",
    "model.add(Dense(30, activation='relu'))\n",
    "model.add(Dense(15, activation='relu'))\n",
    "model.add(Dense(1, activation='sigmoid'))\n",
    "\n",
    "model.compile(optimizer='adam', loss='binary_crossentropy')"
   ]
  },
  {
   "cell_type": "code",
   "execution_count": 58,
   "metadata": {},
   "outputs": [],
   "source": [
    "from tensorflow.keras.callbacks import EarlyStopping"
   ]
  },
  {
   "cell_type": "code",
   "execution_count": 60,
   "metadata": {},
   "outputs": [],
   "source": [
    "early_stop = EarlyStopping(monitor='val_loss', mode='min', verbose=1, patience=25)"
   ]
  },
  {
   "cell_type": "code",
   "execution_count": 61,
   "metadata": {},
   "outputs": [
    {
     "name": "stdout",
     "output_type": "stream",
     "text": [
      "Train on 426 samples, validate on 143 samples\n",
      "Epoch 1/600\n",
      "426/426 [==============================] - 0s 1ms/sample - loss: 0.7046 - val_loss: 0.6825\n",
      "Epoch 2/600\n",
      "426/426 [==============================] - 0s 77us/sample - loss: 0.6678 - val_loss: 0.6520\n",
      "Epoch 3/600\n",
      "426/426 [==============================] - 0s 80us/sample - loss: 0.6365 - val_loss: 0.6213\n",
      "Epoch 4/600\n",
      "426/426 [==============================] - 0s 102us/sample - loss: 0.6029 - val_loss: 0.5868\n",
      "Epoch 5/600\n",
      "426/426 [==============================] - 0s 81us/sample - loss: 0.5661 - val_loss: 0.5448\n",
      "Epoch 6/600\n",
      "426/426 [==============================] - 0s 72us/sample - loss: 0.5254 - val_loss: 0.4998\n",
      "Epoch 7/600\n",
      "426/426 [==============================] - 0s 73us/sample - loss: 0.4806 - val_loss: 0.4561\n",
      "Epoch 8/600\n",
      "426/426 [==============================] - 0s 73us/sample - loss: 0.4352 - val_loss: 0.4014\n",
      "Epoch 9/600\n",
      "426/426 [==============================] - 0s 73us/sample - loss: 0.3886 - val_loss: 0.3563\n",
      "Epoch 10/600\n",
      "426/426 [==============================] - 0s 78us/sample - loss: 0.3486 - val_loss: 0.3188\n",
      "Epoch 11/600\n",
      "426/426 [==============================] - 0s 79us/sample - loss: 0.3149 - val_loss: 0.2870\n",
      "Epoch 12/600\n",
      "426/426 [==============================] - 0s 78us/sample - loss: 0.2894 - val_loss: 0.2613\n",
      "Epoch 13/600\n",
      "426/426 [==============================] - 0s 80us/sample - loss: 0.2680 - val_loss: 0.2405\n",
      "Epoch 14/600\n",
      "426/426 [==============================] - 0s 84us/sample - loss: 0.2501 - val_loss: 0.2237\n",
      "Epoch 15/600\n",
      "426/426 [==============================] - 0s 75us/sample - loss: 0.2339 - val_loss: 0.2086\n",
      "Epoch 16/600\n",
      "426/426 [==============================] - 0s 78us/sample - loss: 0.2200 - val_loss: 0.1988\n",
      "Epoch 17/600\n",
      "426/426 [==============================] - 0s 74us/sample - loss: 0.2086 - val_loss: 0.1860\n",
      "Epoch 18/600\n",
      "426/426 [==============================] - 0s 77us/sample - loss: 0.1990 - val_loss: 0.1756\n",
      "Epoch 19/600\n",
      "426/426 [==============================] - 0s 74us/sample - loss: 0.1879 - val_loss: 0.1711\n",
      "Epoch 20/600\n",
      "426/426 [==============================] - 0s 77us/sample - loss: 0.1782 - val_loss: 0.1604\n",
      "Epoch 21/600\n",
      "426/426 [==============================] - 0s 78us/sample - loss: 0.1713 - val_loss: 0.1556\n",
      "Epoch 22/600\n",
      "426/426 [==============================] - 0s 79us/sample - loss: 0.1624 - val_loss: 0.1485\n",
      "Epoch 23/600\n",
      "426/426 [==============================] - 0s 78us/sample - loss: 0.1561 - val_loss: 0.1459\n",
      "Epoch 24/600\n",
      "426/426 [==============================] - 0s 77us/sample - loss: 0.1484 - val_loss: 0.1395\n",
      "Epoch 25/600\n",
      "426/426 [==============================] - 0s 75us/sample - loss: 0.1424 - val_loss: 0.1359\n",
      "Epoch 26/600\n",
      "426/426 [==============================] - 0s 74us/sample - loss: 0.1360 - val_loss: 0.1342\n",
      "Epoch 27/600\n",
      "426/426 [==============================] - 0s 72us/sample - loss: 0.1317 - val_loss: 0.1305\n",
      "Epoch 28/600\n",
      "426/426 [==============================] - 0s 75us/sample - loss: 0.1274 - val_loss: 0.1286\n",
      "Epoch 29/600\n",
      "426/426 [==============================] - ETA: 0s - loss: 0.154 - 0s 78us/sample - loss: 0.1216 - val_loss: 0.1239\n",
      "Epoch 30/600\n",
      "426/426 [==============================] - 0s 75us/sample - loss: 0.1167 - val_loss: 0.1250\n",
      "Epoch 31/600\n",
      "426/426 [==============================] - 0s 75us/sample - loss: 0.1146 - val_loss: 0.1189\n",
      "Epoch 32/600\n",
      "426/426 [==============================] - 0s 73us/sample - loss: 0.1084 - val_loss: 0.1193\n",
      "Epoch 33/600\n",
      "426/426 [==============================] - 0s 77us/sample - loss: 0.1053 - val_loss: 0.1159\n",
      "Epoch 34/600\n",
      "426/426 [==============================] - 0s 77us/sample - loss: 0.1038 - val_loss: 0.1154\n",
      "Epoch 35/600\n",
      "426/426 [==============================] - 0s 75us/sample - loss: 0.0989 - val_loss: 0.1126\n",
      "Epoch 36/600\n",
      "426/426 [==============================] - 0s 78us/sample - loss: 0.0960 - val_loss: 0.1112\n",
      "Epoch 37/600\n",
      "426/426 [==============================] - 0s 75us/sample - loss: 0.0938 - val_loss: 0.1110\n",
      "Epoch 38/600\n",
      "426/426 [==============================] - 0s 77us/sample - loss: 0.0914 - val_loss: 0.1114\n",
      "Epoch 39/600\n",
      "426/426 [==============================] - 0s 79us/sample - loss: 0.0901 - val_loss: 0.1111\n",
      "Epoch 40/600\n",
      "426/426 [==============================] - 0s 77us/sample - loss: 0.0895 - val_loss: 0.1089\n",
      "Epoch 41/600\n",
      "426/426 [==============================] - 0s 80us/sample - loss: 0.0874 - val_loss: 0.1106\n",
      "Epoch 42/600\n",
      "426/426 [==============================] - 0s 75us/sample - loss: 0.0834 - val_loss: 0.1110\n",
      "Epoch 43/600\n",
      "426/426 [==============================] - 0s 76us/sample - loss: 0.0849 - val_loss: 0.1077\n",
      "Epoch 44/600\n",
      "426/426 [==============================] - 0s 88us/sample - loss: 0.0867 - val_loss: 0.1058\n",
      "Epoch 45/600\n",
      "426/426 [==============================] - 0s 75us/sample - loss: 0.0819 - val_loss: 0.1078\n",
      "Epoch 46/600\n",
      "426/426 [==============================] - 0s 75us/sample - loss: 0.0810 - val_loss: 0.1068\n",
      "Epoch 47/600\n",
      "426/426 [==============================] - 0s 73us/sample - loss: 0.0765 - val_loss: 0.1073\n",
      "Epoch 48/600\n",
      "426/426 [==============================] - 0s 76us/sample - loss: 0.0763 - val_loss: 0.1101\n",
      "Epoch 49/600\n",
      "426/426 [==============================] - 0s 77us/sample - loss: 0.0731 - val_loss: 0.1068\n",
      "Epoch 50/600\n",
      "426/426 [==============================] - 0s 77us/sample - loss: 0.0723 - val_loss: 0.1067\n",
      "Epoch 51/600\n",
      "426/426 [==============================] - ETA: 0s - loss: 0.050 - 0s 77us/sample - loss: 0.0710 - val_loss: 0.1065\n",
      "Epoch 52/600\n",
      "426/426 [==============================] - 0s 80us/sample - loss: 0.0707 - val_loss: 0.1077\n",
      "Epoch 53/600\n",
      "426/426 [==============================] - 0s 75us/sample - loss: 0.0703 - val_loss: 0.1120\n",
      "Epoch 54/600\n",
      "426/426 [==============================] - 0s 84us/sample - loss: 0.0697 - val_loss: 0.1049\n",
      "Epoch 55/600\n",
      "426/426 [==============================] - 0s 77us/sample - loss: 0.0671 - val_loss: 0.1128\n",
      "Epoch 56/600\n",
      "426/426 [==============================] - 0s 83us/sample - loss: 0.0663 - val_loss: 0.1056\n",
      "Epoch 57/600\n",
      "426/426 [==============================] - 0s 80us/sample - loss: 0.0658 - val_loss: 0.1086\n",
      "Epoch 58/600\n",
      "426/426 [==============================] - 0s 82us/sample - loss: 0.0652 - val_loss: 0.1084\n",
      "Epoch 59/600\n",
      "426/426 [==============================] - 0s 74us/sample - loss: 0.0640 - val_loss: 0.1072\n",
      "Epoch 60/600\n",
      "426/426 [==============================] - 0s 74us/sample - loss: 0.0658 - val_loss: 0.1136\n",
      "Epoch 61/600\n",
      "426/426 [==============================] - 0s 77us/sample - loss: 0.0628 - val_loss: 0.1051\n",
      "Epoch 62/600\n",
      "426/426 [==============================] - 0s 78us/sample - loss: 0.0688 - val_loss: 0.1091\n",
      "Epoch 63/600\n",
      "426/426 [==============================] - 0s 74us/sample - loss: 0.0612 - val_loss: 0.1050\n",
      "Epoch 64/600\n",
      "426/426 [==============================] - 0s 75us/sample - loss: 0.0631 - val_loss: 0.1109\n",
      "Epoch 65/600\n",
      "426/426 [==============================] - 0s 75us/sample - loss: 0.0607 - val_loss: 0.1088\n",
      "Epoch 66/600\n",
      "426/426 [==============================] - 0s 77us/sample - loss: 0.0609 - val_loss: 0.1074\n",
      "Epoch 67/600\n",
      "426/426 [==============================] - 0s 77us/sample - loss: 0.0612 - val_loss: 0.1101\n",
      "Epoch 68/600\n",
      "426/426 [==============================] - 0s 80us/sample - loss: 0.0644 - val_loss: 0.1103\n",
      "Epoch 69/600\n",
      "426/426 [==============================] - 0s 75us/sample - loss: 0.0609 - val_loss: 0.1092\n",
      "Epoch 70/600\n",
      "426/426 [==============================] - 0s 79us/sample - loss: 0.0583 - val_loss: 0.1147\n",
      "Epoch 71/600\n",
      "426/426 [==============================] - ETA: 0s - loss: 0.017 - 0s 76us/sample - loss: 0.0581 - val_loss: 0.1098\n",
      "Epoch 72/600\n",
      "426/426 [==============================] - 0s 73us/sample - loss: 0.0569 - val_loss: 0.1121\n",
      "Epoch 73/600\n",
      "426/426 [==============================] - 0s 82us/sample - loss: 0.0569 - val_loss: 0.1110\n",
      "Epoch 74/600\n",
      "426/426 [==============================] - 0s 75us/sample - loss: 0.0584 - val_loss: 0.1140\n",
      "Epoch 75/600\n",
      "426/426 [==============================] - 0s 77us/sample - loss: 0.0591 - val_loss: 0.1123\n",
      "Epoch 76/600\n",
      "426/426 [==============================] - 0s 79us/sample - loss: 0.0589 - val_loss: 0.1096\n",
      "Epoch 77/600\n",
      "426/426 [==============================] - 0s 75us/sample - loss: 0.0563 - val_loss: 0.1136\n"
     ]
    },
    {
     "name": "stdout",
     "output_type": "stream",
     "text": [
      "Epoch 78/600\n",
      "426/426 [==============================] - 0s 73us/sample - loss: 0.0551 - val_loss: 0.1103\n",
      "Epoch 79/600\n",
      "426/426 [==============================] - 0s 68us/sample - loss: 0.0587 - val_loss: 0.1157\n",
      "Epoch 00079: early stopping\n"
     ]
    },
    {
     "data": {
      "text/plain": [
       "<tensorflow.python.keras.callbacks.History at 0x259d571c0b8>"
      ]
     },
     "execution_count": 61,
     "metadata": {},
     "output_type": "execute_result"
    }
   ],
   "source": [
    "model.fit(x=X_train, y=y_train, validation_data=(X_test, y_test), epochs=600, callbacks=[early_stop])"
   ]
  },
  {
   "cell_type": "code",
   "execution_count": 62,
   "metadata": {},
   "outputs": [
    {
     "data": {
      "application/vnd.plotly.v1+json": {
       "config": {
        "linkText": "Export to plot.ly",
        "plotlyServerURL": "https://plot.ly",
        "showLink": true
       },
       "data": [
        {
         "line": {
          "color": "rgba(255, 153, 51, 1.0)",
          "dash": "solid",
          "shape": "linear",
          "width": 1.3
         },
         "mode": "lines",
         "name": "loss",
         "text": "",
         "type": "scatter",
         "x": [
          0,
          1,
          2,
          3,
          4,
          5,
          6,
          7,
          8,
          9,
          10,
          11,
          12,
          13,
          14,
          15,
          16,
          17,
          18,
          19,
          20,
          21,
          22,
          23,
          24,
          25,
          26,
          27,
          28,
          29,
          30,
          31,
          32,
          33,
          34,
          35,
          36,
          37,
          38,
          39,
          40,
          41,
          42,
          43,
          44,
          45,
          46,
          47,
          48,
          49,
          50,
          51,
          52,
          53,
          54,
          55,
          56,
          57,
          58,
          59,
          60,
          61,
          62,
          63,
          64,
          65,
          66,
          67,
          68,
          69,
          70,
          71,
          72,
          73,
          74,
          75,
          76,
          77,
          78
         ],
         "y": [
          0.7045762331832742,
          0.6677819431667597,
          0.6365189171732871,
          0.6028554982422663,
          0.5660789802040852,
          0.5253801411586189,
          0.48055486248132767,
          0.43519536752096366,
          0.3885796011333734,
          0.3485704132928535,
          0.3149022972779655,
          0.2894040304170528,
          0.268007905130655,
          0.25005015199173225,
          0.23389822244644165,
          0.21999396957422088,
          0.20855339298225906,
          0.1989772743042646,
          0.18786001429311547,
          0.1781630710536885,
          0.17127437945542762,
          0.16242544429962624,
          0.15609984914881522,
          0.14837907653459362,
          0.1424208920046757,
          0.1360001501762811,
          0.13170193335120106,
          0.1274349187881174,
          0.12156166563011671,
          0.11673510169059458,
          0.11461929160174629,
          0.10837415661750265,
          0.10533023452464964,
          0.10384326900394869,
          0.09886376187205315,
          0.0960236151873226,
          0.0937588480016995,
          0.09142203153299054,
          0.09009638670044885,
          0.08945951325722704,
          0.08744678861448463,
          0.08344421770091348,
          0.08490032351580164,
          0.08665438256108425,
          0.08190547426541646,
          0.08104686522987527,
          0.07648528930446911,
          0.0763379327708007,
          0.0730965545689556,
          0.07226029514147082,
          0.0710446888082464,
          0.07070921046633116,
          0.07034638126166494,
          0.06973279341005943,
          0.06714219185458102,
          0.06631463766535263,
          0.0658221434749348,
          0.06523979711455638,
          0.06395825418368192,
          0.06575237667546585,
          0.06280110111818626,
          0.06879849299928392,
          0.061159453831368206,
          0.06310130503387168,
          0.06070320979372856,
          0.0609427315528404,
          0.061194483488098556,
          0.06435747434135894,
          0.060871123012697474,
          0.058316985346341915,
          0.058148763595070214,
          0.056881987546601204,
          0.0569392043589986,
          0.05837146609042172,
          0.0591361972857529,
          0.0588516100296672,
          0.05628643130682444,
          0.05510187463861116,
          0.05874797771794136
         ]
        },
        {
         "line": {
          "color": "rgba(55, 128, 191, 1.0)",
          "dash": "solid",
          "shape": "linear",
          "width": 1.3
         },
         "mode": "lines",
         "name": "val_loss",
         "text": "",
         "type": "scatter",
         "x": [
          0,
          1,
          2,
          3,
          4,
          5,
          6,
          7,
          8,
          9,
          10,
          11,
          12,
          13,
          14,
          15,
          16,
          17,
          18,
          19,
          20,
          21,
          22,
          23,
          24,
          25,
          26,
          27,
          28,
          29,
          30,
          31,
          32,
          33,
          34,
          35,
          36,
          37,
          38,
          39,
          40,
          41,
          42,
          43,
          44,
          45,
          46,
          47,
          48,
          49,
          50,
          51,
          52,
          53,
          54,
          55,
          56,
          57,
          58,
          59,
          60,
          61,
          62,
          63,
          64,
          65,
          66,
          67,
          68,
          69,
          70,
          71,
          72,
          73,
          74,
          75,
          76,
          77,
          78
         ],
         "y": [
          0.6824643299296186,
          0.6520015914123375,
          0.6213002100691095,
          0.5868472556967835,
          0.5448349893509925,
          0.49984527968026543,
          0.456074177593618,
          0.40143819976519873,
          0.35633842240680347,
          0.31875781141794646,
          0.28703115953432096,
          0.26133562186798015,
          0.24052198575093195,
          0.2236655841132144,
          0.20857226379684635,
          0.19883380569778122,
          0.1860338771468276,
          0.17562123445364144,
          0.17113758404771764,
          0.1604228612113666,
          0.15555910489984326,
          0.14854044368217043,
          0.14594592414535842,
          0.1395037183082187,
          0.1359087245968672,
          0.1341824283028816,
          0.1304882644981771,
          0.1285833508505688,
          0.12391613444665095,
          0.1249684146963633,
          0.11887641751266026,
          0.11932894603147373,
          0.11592791500416669,
          0.11537195215900461,
          0.11262807838775062,
          0.11121631121927208,
          0.11104420827818917,
          0.11139012477197847,
          0.11114502296997951,
          0.10890227785477272,
          0.11057631926728295,
          0.11098427122289484,
          0.10769276451189201,
          0.10576238636891325,
          0.10778015112126624,
          0.10680734793414602,
          0.1072560213245712,
          0.11013958915755466,
          0.10679652771124473,
          0.1067034392715334,
          0.10650716211412337,
          0.10767727491113689,
          0.11197659487907703,
          0.10490045829356967,
          0.11275430008039608,
          0.10561325705864212,
          0.10857068669129084,
          0.10843887833969576,
          0.10715647172052543,
          0.11358420503931446,
          0.10505089395633944,
          0.10914373676572646,
          0.10498456203645759,
          0.11085854418627866,
          0.10883404504690138,
          0.10742818293246356,
          0.1101081531260397,
          0.11028720464531358,
          0.10916803993441009,
          0.11468660992967498,
          0.10975451712737551,
          0.1120673638696854,
          0.11104122030880902,
          0.11403090527632853,
          0.11234897151068374,
          0.10963674850918197,
          0.11355308573562782,
          0.11027172361533125,
          0.11568277777283342
         ]
        }
       ],
       "layout": {
        "legend": {
         "bgcolor": "#F5F6F9",
         "font": {
          "color": "#4D5663"
         }
        },
        "paper_bgcolor": "#F5F6F9",
        "plot_bgcolor": "#F5F6F9",
        "template": {
         "data": {
          "bar": [
           {
            "error_x": {
             "color": "#2a3f5f"
            },
            "error_y": {
             "color": "#2a3f5f"
            },
            "marker": {
             "line": {
              "color": "#E5ECF6",
              "width": 0.5
             }
            },
            "type": "bar"
           }
          ],
          "barpolar": [
           {
            "marker": {
             "line": {
              "color": "#E5ECF6",
              "width": 0.5
             }
            },
            "type": "barpolar"
           }
          ],
          "carpet": [
           {
            "aaxis": {
             "endlinecolor": "#2a3f5f",
             "gridcolor": "white",
             "linecolor": "white",
             "minorgridcolor": "white",
             "startlinecolor": "#2a3f5f"
            },
            "baxis": {
             "endlinecolor": "#2a3f5f",
             "gridcolor": "white",
             "linecolor": "white",
             "minorgridcolor": "white",
             "startlinecolor": "#2a3f5f"
            },
            "type": "carpet"
           }
          ],
          "choropleth": [
           {
            "colorbar": {
             "outlinewidth": 0,
             "ticks": ""
            },
            "type": "choropleth"
           }
          ],
          "contour": [
           {
            "colorbar": {
             "outlinewidth": 0,
             "ticks": ""
            },
            "colorscale": [
             [
              0,
              "#0d0887"
             ],
             [
              0.1111111111111111,
              "#46039f"
             ],
             [
              0.2222222222222222,
              "#7201a8"
             ],
             [
              0.3333333333333333,
              "#9c179e"
             ],
             [
              0.4444444444444444,
              "#bd3786"
             ],
             [
              0.5555555555555556,
              "#d8576b"
             ],
             [
              0.6666666666666666,
              "#ed7953"
             ],
             [
              0.7777777777777778,
              "#fb9f3a"
             ],
             [
              0.8888888888888888,
              "#fdca26"
             ],
             [
              1,
              "#f0f921"
             ]
            ],
            "type": "contour"
           }
          ],
          "contourcarpet": [
           {
            "colorbar": {
             "outlinewidth": 0,
             "ticks": ""
            },
            "type": "contourcarpet"
           }
          ],
          "heatmap": [
           {
            "colorbar": {
             "outlinewidth": 0,
             "ticks": ""
            },
            "colorscale": [
             [
              0,
              "#0d0887"
             ],
             [
              0.1111111111111111,
              "#46039f"
             ],
             [
              0.2222222222222222,
              "#7201a8"
             ],
             [
              0.3333333333333333,
              "#9c179e"
             ],
             [
              0.4444444444444444,
              "#bd3786"
             ],
             [
              0.5555555555555556,
              "#d8576b"
             ],
             [
              0.6666666666666666,
              "#ed7953"
             ],
             [
              0.7777777777777778,
              "#fb9f3a"
             ],
             [
              0.8888888888888888,
              "#fdca26"
             ],
             [
              1,
              "#f0f921"
             ]
            ],
            "type": "heatmap"
           }
          ],
          "heatmapgl": [
           {
            "colorbar": {
             "outlinewidth": 0,
             "ticks": ""
            },
            "colorscale": [
             [
              0,
              "#0d0887"
             ],
             [
              0.1111111111111111,
              "#46039f"
             ],
             [
              0.2222222222222222,
              "#7201a8"
             ],
             [
              0.3333333333333333,
              "#9c179e"
             ],
             [
              0.4444444444444444,
              "#bd3786"
             ],
             [
              0.5555555555555556,
              "#d8576b"
             ],
             [
              0.6666666666666666,
              "#ed7953"
             ],
             [
              0.7777777777777778,
              "#fb9f3a"
             ],
             [
              0.8888888888888888,
              "#fdca26"
             ],
             [
              1,
              "#f0f921"
             ]
            ],
            "type": "heatmapgl"
           }
          ],
          "histogram": [
           {
            "marker": {
             "colorbar": {
              "outlinewidth": 0,
              "ticks": ""
             }
            },
            "type": "histogram"
           }
          ],
          "histogram2d": [
           {
            "colorbar": {
             "outlinewidth": 0,
             "ticks": ""
            },
            "colorscale": [
             [
              0,
              "#0d0887"
             ],
             [
              0.1111111111111111,
              "#46039f"
             ],
             [
              0.2222222222222222,
              "#7201a8"
             ],
             [
              0.3333333333333333,
              "#9c179e"
             ],
             [
              0.4444444444444444,
              "#bd3786"
             ],
             [
              0.5555555555555556,
              "#d8576b"
             ],
             [
              0.6666666666666666,
              "#ed7953"
             ],
             [
              0.7777777777777778,
              "#fb9f3a"
             ],
             [
              0.8888888888888888,
              "#fdca26"
             ],
             [
              1,
              "#f0f921"
             ]
            ],
            "type": "histogram2d"
           }
          ],
          "histogram2dcontour": [
           {
            "colorbar": {
             "outlinewidth": 0,
             "ticks": ""
            },
            "colorscale": [
             [
              0,
              "#0d0887"
             ],
             [
              0.1111111111111111,
              "#46039f"
             ],
             [
              0.2222222222222222,
              "#7201a8"
             ],
             [
              0.3333333333333333,
              "#9c179e"
             ],
             [
              0.4444444444444444,
              "#bd3786"
             ],
             [
              0.5555555555555556,
              "#d8576b"
             ],
             [
              0.6666666666666666,
              "#ed7953"
             ],
             [
              0.7777777777777778,
              "#fb9f3a"
             ],
             [
              0.8888888888888888,
              "#fdca26"
             ],
             [
              1,
              "#f0f921"
             ]
            ],
            "type": "histogram2dcontour"
           }
          ],
          "mesh3d": [
           {
            "colorbar": {
             "outlinewidth": 0,
             "ticks": ""
            },
            "type": "mesh3d"
           }
          ],
          "parcoords": [
           {
            "line": {
             "colorbar": {
              "outlinewidth": 0,
              "ticks": ""
             }
            },
            "type": "parcoords"
           }
          ],
          "pie": [
           {
            "automargin": true,
            "type": "pie"
           }
          ],
          "scatter": [
           {
            "marker": {
             "colorbar": {
              "outlinewidth": 0,
              "ticks": ""
             }
            },
            "type": "scatter"
           }
          ],
          "scatter3d": [
           {
            "line": {
             "colorbar": {
              "outlinewidth": 0,
              "ticks": ""
             }
            },
            "marker": {
             "colorbar": {
              "outlinewidth": 0,
              "ticks": ""
             }
            },
            "type": "scatter3d"
           }
          ],
          "scattercarpet": [
           {
            "marker": {
             "colorbar": {
              "outlinewidth": 0,
              "ticks": ""
             }
            },
            "type": "scattercarpet"
           }
          ],
          "scattergeo": [
           {
            "marker": {
             "colorbar": {
              "outlinewidth": 0,
              "ticks": ""
             }
            },
            "type": "scattergeo"
           }
          ],
          "scattergl": [
           {
            "marker": {
             "colorbar": {
              "outlinewidth": 0,
              "ticks": ""
             }
            },
            "type": "scattergl"
           }
          ],
          "scattermapbox": [
           {
            "marker": {
             "colorbar": {
              "outlinewidth": 0,
              "ticks": ""
             }
            },
            "type": "scattermapbox"
           }
          ],
          "scatterpolar": [
           {
            "marker": {
             "colorbar": {
              "outlinewidth": 0,
              "ticks": ""
             }
            },
            "type": "scatterpolar"
           }
          ],
          "scatterpolargl": [
           {
            "marker": {
             "colorbar": {
              "outlinewidth": 0,
              "ticks": ""
             }
            },
            "type": "scatterpolargl"
           }
          ],
          "scatterternary": [
           {
            "marker": {
             "colorbar": {
              "outlinewidth": 0,
              "ticks": ""
             }
            },
            "type": "scatterternary"
           }
          ],
          "surface": [
           {
            "colorbar": {
             "outlinewidth": 0,
             "ticks": ""
            },
            "colorscale": [
             [
              0,
              "#0d0887"
             ],
             [
              0.1111111111111111,
              "#46039f"
             ],
             [
              0.2222222222222222,
              "#7201a8"
             ],
             [
              0.3333333333333333,
              "#9c179e"
             ],
             [
              0.4444444444444444,
              "#bd3786"
             ],
             [
              0.5555555555555556,
              "#d8576b"
             ],
             [
              0.6666666666666666,
              "#ed7953"
             ],
             [
              0.7777777777777778,
              "#fb9f3a"
             ],
             [
              0.8888888888888888,
              "#fdca26"
             ],
             [
              1,
              "#f0f921"
             ]
            ],
            "type": "surface"
           }
          ],
          "table": [
           {
            "cells": {
             "fill": {
              "color": "#EBF0F8"
             },
             "line": {
              "color": "white"
             }
            },
            "header": {
             "fill": {
              "color": "#C8D4E3"
             },
             "line": {
              "color": "white"
             }
            },
            "type": "table"
           }
          ]
         },
         "layout": {
          "annotationdefaults": {
           "arrowcolor": "#2a3f5f",
           "arrowhead": 0,
           "arrowwidth": 1
          },
          "coloraxis": {
           "colorbar": {
            "outlinewidth": 0,
            "ticks": ""
           }
          },
          "colorscale": {
           "diverging": [
            [
             0,
             "#8e0152"
            ],
            [
             0.1,
             "#c51b7d"
            ],
            [
             0.2,
             "#de77ae"
            ],
            [
             0.3,
             "#f1b6da"
            ],
            [
             0.4,
             "#fde0ef"
            ],
            [
             0.5,
             "#f7f7f7"
            ],
            [
             0.6,
             "#e6f5d0"
            ],
            [
             0.7,
             "#b8e186"
            ],
            [
             0.8,
             "#7fbc41"
            ],
            [
             0.9,
             "#4d9221"
            ],
            [
             1,
             "#276419"
            ]
           ],
           "sequential": [
            [
             0,
             "#0d0887"
            ],
            [
             0.1111111111111111,
             "#46039f"
            ],
            [
             0.2222222222222222,
             "#7201a8"
            ],
            [
             0.3333333333333333,
             "#9c179e"
            ],
            [
             0.4444444444444444,
             "#bd3786"
            ],
            [
             0.5555555555555556,
             "#d8576b"
            ],
            [
             0.6666666666666666,
             "#ed7953"
            ],
            [
             0.7777777777777778,
             "#fb9f3a"
            ],
            [
             0.8888888888888888,
             "#fdca26"
            ],
            [
             1,
             "#f0f921"
            ]
           ],
           "sequentialminus": [
            [
             0,
             "#0d0887"
            ],
            [
             0.1111111111111111,
             "#46039f"
            ],
            [
             0.2222222222222222,
             "#7201a8"
            ],
            [
             0.3333333333333333,
             "#9c179e"
            ],
            [
             0.4444444444444444,
             "#bd3786"
            ],
            [
             0.5555555555555556,
             "#d8576b"
            ],
            [
             0.6666666666666666,
             "#ed7953"
            ],
            [
             0.7777777777777778,
             "#fb9f3a"
            ],
            [
             0.8888888888888888,
             "#fdca26"
            ],
            [
             1,
             "#f0f921"
            ]
           ]
          },
          "colorway": [
           "#636efa",
           "#EF553B",
           "#00cc96",
           "#ab63fa",
           "#FFA15A",
           "#19d3f3",
           "#FF6692",
           "#B6E880",
           "#FF97FF",
           "#FECB52"
          ],
          "font": {
           "color": "#2a3f5f"
          },
          "geo": {
           "bgcolor": "white",
           "lakecolor": "white",
           "landcolor": "#E5ECF6",
           "showlakes": true,
           "showland": true,
           "subunitcolor": "white"
          },
          "hoverlabel": {
           "align": "left"
          },
          "hovermode": "closest",
          "mapbox": {
           "style": "light"
          },
          "paper_bgcolor": "white",
          "plot_bgcolor": "#E5ECF6",
          "polar": {
           "angularaxis": {
            "gridcolor": "white",
            "linecolor": "white",
            "ticks": ""
           },
           "bgcolor": "#E5ECF6",
           "radialaxis": {
            "gridcolor": "white",
            "linecolor": "white",
            "ticks": ""
           }
          },
          "scene": {
           "xaxis": {
            "backgroundcolor": "#E5ECF6",
            "gridcolor": "white",
            "gridwidth": 2,
            "linecolor": "white",
            "showbackground": true,
            "ticks": "",
            "zerolinecolor": "white"
           },
           "yaxis": {
            "backgroundcolor": "#E5ECF6",
            "gridcolor": "white",
            "gridwidth": 2,
            "linecolor": "white",
            "showbackground": true,
            "ticks": "",
            "zerolinecolor": "white"
           },
           "zaxis": {
            "backgroundcolor": "#E5ECF6",
            "gridcolor": "white",
            "gridwidth": 2,
            "linecolor": "white",
            "showbackground": true,
            "ticks": "",
            "zerolinecolor": "white"
           }
          },
          "shapedefaults": {
           "line": {
            "color": "#2a3f5f"
           }
          },
          "ternary": {
           "aaxis": {
            "gridcolor": "white",
            "linecolor": "white",
            "ticks": ""
           },
           "baxis": {
            "gridcolor": "white",
            "linecolor": "white",
            "ticks": ""
           },
           "bgcolor": "#E5ECF6",
           "caxis": {
            "gridcolor": "white",
            "linecolor": "white",
            "ticks": ""
           }
          },
          "title": {
           "x": 0.05
          },
          "xaxis": {
           "automargin": true,
           "gridcolor": "white",
           "linecolor": "white",
           "ticks": "",
           "title": {
            "standoff": 15
           },
           "zerolinecolor": "white",
           "zerolinewidth": 2
          },
          "yaxis": {
           "automargin": true,
           "gridcolor": "white",
           "linecolor": "white",
           "ticks": "",
           "title": {
            "standoff": 15
           },
           "zerolinecolor": "white",
           "zerolinewidth": 2
          }
         }
        },
        "title": {
         "font": {
          "color": "#4D5663"
         }
        },
        "xaxis": {
         "gridcolor": "#E1E5ED",
         "showgrid": true,
         "tickfont": {
          "color": "#4D5663"
         },
         "title": {
          "font": {
           "color": "#4D5663"
          },
          "text": ""
         },
         "zerolinecolor": "#E1E5ED"
        },
        "yaxis": {
         "gridcolor": "#E1E5ED",
         "showgrid": true,
         "tickfont": {
          "color": "#4D5663"
         },
         "title": {
          "font": {
           "color": "#4D5663"
          },
          "text": ""
         },
         "zerolinecolor": "#E1E5ED"
        }
       }
      },
      "text/html": [
       "<div>\n",
       "        \n",
       "        \n",
       "            <div id=\"7cf8d95f-179f-436b-a5c5-2c95981c75aa\" class=\"plotly-graph-div\" style=\"height:525px; width:100%;\"></div>\n",
       "            <script type=\"text/javascript\">\n",
       "                require([\"plotly\"], function(Plotly) {\n",
       "                    window.PLOTLYENV=window.PLOTLYENV || {};\n",
       "                    window.PLOTLYENV.BASE_URL='https://plot.ly';\n",
       "                    \n",
       "                if (document.getElementById(\"7cf8d95f-179f-436b-a5c5-2c95981c75aa\")) {\n",
       "                    Plotly.newPlot(\n",
       "                        '7cf8d95f-179f-436b-a5c5-2c95981c75aa',\n",
       "                        [{\"line\": {\"color\": \"rgba(255, 153, 51, 1.0)\", \"dash\": \"solid\", \"shape\": \"linear\", \"width\": 1.3}, \"mode\": \"lines\", \"name\": \"loss\", \"text\": \"\", \"type\": \"scatter\", \"x\": [0, 1, 2, 3, 4, 5, 6, 7, 8, 9, 10, 11, 12, 13, 14, 15, 16, 17, 18, 19, 20, 21, 22, 23, 24, 25, 26, 27, 28, 29, 30, 31, 32, 33, 34, 35, 36, 37, 38, 39, 40, 41, 42, 43, 44, 45, 46, 47, 48, 49, 50, 51, 52, 53, 54, 55, 56, 57, 58, 59, 60, 61, 62, 63, 64, 65, 66, 67, 68, 69, 70, 71, 72, 73, 74, 75, 76, 77, 78], \"y\": [0.7045762331832742, 0.6677819431667597, 0.6365189171732871, 0.6028554982422663, 0.5660789802040852, 0.5253801411586189, 0.48055486248132767, 0.43519536752096366, 0.3885796011333734, 0.3485704132928535, 0.3149022972779655, 0.2894040304170528, 0.268007905130655, 0.25005015199173225, 0.23389822244644165, 0.21999396957422088, 0.20855339298225906, 0.1989772743042646, 0.18786001429311547, 0.1781630710536885, 0.17127437945542762, 0.16242544429962624, 0.15609984914881522, 0.14837907653459362, 0.1424208920046757, 0.1360001501762811, 0.13170193335120106, 0.1274349187881174, 0.12156166563011671, 0.11673510169059458, 0.11461929160174629, 0.10837415661750265, 0.10533023452464964, 0.10384326900394869, 0.09886376187205315, 0.0960236151873226, 0.0937588480016995, 0.09142203153299054, 0.09009638670044885, 0.08945951325722704, 0.08744678861448463, 0.08344421770091348, 0.08490032351580164, 0.08665438256108425, 0.08190547426541646, 0.08104686522987527, 0.07648528930446911, 0.0763379327708007, 0.0730965545689556, 0.07226029514147082, 0.0710446888082464, 0.07070921046633116, 0.07034638126166494, 0.06973279341005943, 0.06714219185458102, 0.06631463766535263, 0.0658221434749348, 0.06523979711455638, 0.06395825418368192, 0.06575237667546585, 0.06280110111818626, 0.06879849299928392, 0.061159453831368206, 0.06310130503387168, 0.06070320979372856, 0.0609427315528404, 0.061194483488098556, 0.06435747434135894, 0.060871123012697474, 0.058316985346341915, 0.058148763595070214, 0.056881987546601204, 0.0569392043589986, 0.05837146609042172, 0.0591361972857529, 0.0588516100296672, 0.05628643130682444, 0.05510187463861116, 0.05874797771794136]}, {\"line\": {\"color\": \"rgba(55, 128, 191, 1.0)\", \"dash\": \"solid\", \"shape\": \"linear\", \"width\": 1.3}, \"mode\": \"lines\", \"name\": \"val_loss\", \"text\": \"\", \"type\": \"scatter\", \"x\": [0, 1, 2, 3, 4, 5, 6, 7, 8, 9, 10, 11, 12, 13, 14, 15, 16, 17, 18, 19, 20, 21, 22, 23, 24, 25, 26, 27, 28, 29, 30, 31, 32, 33, 34, 35, 36, 37, 38, 39, 40, 41, 42, 43, 44, 45, 46, 47, 48, 49, 50, 51, 52, 53, 54, 55, 56, 57, 58, 59, 60, 61, 62, 63, 64, 65, 66, 67, 68, 69, 70, 71, 72, 73, 74, 75, 76, 77, 78], \"y\": [0.6824643299296186, 0.6520015914123375, 0.6213002100691095, 0.5868472556967835, 0.5448349893509925, 0.49984527968026543, 0.456074177593618, 0.40143819976519873, 0.35633842240680347, 0.31875781141794646, 0.28703115953432096, 0.26133562186798015, 0.24052198575093195, 0.2236655841132144, 0.20857226379684635, 0.19883380569778122, 0.1860338771468276, 0.17562123445364144, 0.17113758404771764, 0.1604228612113666, 0.15555910489984326, 0.14854044368217043, 0.14594592414535842, 0.1395037183082187, 0.1359087245968672, 0.1341824283028816, 0.1304882644981771, 0.1285833508505688, 0.12391613444665095, 0.1249684146963633, 0.11887641751266026, 0.11932894603147373, 0.11592791500416669, 0.11537195215900461, 0.11262807838775062, 0.11121631121927208, 0.11104420827818917, 0.11139012477197847, 0.11114502296997951, 0.10890227785477272, 0.11057631926728295, 0.11098427122289484, 0.10769276451189201, 0.10576238636891325, 0.10778015112126624, 0.10680734793414602, 0.1072560213245712, 0.11013958915755466, 0.10679652771124473, 0.1067034392715334, 0.10650716211412337, 0.10767727491113689, 0.11197659487907703, 0.10490045829356967, 0.11275430008039608, 0.10561325705864212, 0.10857068669129084, 0.10843887833969576, 0.10715647172052543, 0.11358420503931446, 0.10505089395633944, 0.10914373676572646, 0.10498456203645759, 0.11085854418627866, 0.10883404504690138, 0.10742818293246356, 0.1101081531260397, 0.11028720464531358, 0.10916803993441009, 0.11468660992967498, 0.10975451712737551, 0.1120673638696854, 0.11104122030880902, 0.11403090527632853, 0.11234897151068374, 0.10963674850918197, 0.11355308573562782, 0.11027172361533125, 0.11568277777283342]}],\n",
       "                        {\"legend\": {\"bgcolor\": \"#F5F6F9\", \"font\": {\"color\": \"#4D5663\"}}, \"paper_bgcolor\": \"#F5F6F9\", \"plot_bgcolor\": \"#F5F6F9\", \"template\": {\"data\": {\"bar\": [{\"error_x\": {\"color\": \"#2a3f5f\"}, \"error_y\": {\"color\": \"#2a3f5f\"}, \"marker\": {\"line\": {\"color\": \"#E5ECF6\", \"width\": 0.5}}, \"type\": \"bar\"}], \"barpolar\": [{\"marker\": {\"line\": {\"color\": \"#E5ECF6\", \"width\": 0.5}}, \"type\": \"barpolar\"}], \"carpet\": [{\"aaxis\": {\"endlinecolor\": \"#2a3f5f\", \"gridcolor\": \"white\", \"linecolor\": \"white\", \"minorgridcolor\": \"white\", \"startlinecolor\": \"#2a3f5f\"}, \"baxis\": {\"endlinecolor\": \"#2a3f5f\", \"gridcolor\": \"white\", \"linecolor\": \"white\", \"minorgridcolor\": \"white\", \"startlinecolor\": \"#2a3f5f\"}, \"type\": \"carpet\"}], \"choropleth\": [{\"colorbar\": {\"outlinewidth\": 0, \"ticks\": \"\"}, \"type\": \"choropleth\"}], \"contour\": [{\"colorbar\": {\"outlinewidth\": 0, \"ticks\": \"\"}, \"colorscale\": [[0.0, \"#0d0887\"], [0.1111111111111111, \"#46039f\"], [0.2222222222222222, \"#7201a8\"], [0.3333333333333333, \"#9c179e\"], [0.4444444444444444, \"#bd3786\"], [0.5555555555555556, \"#d8576b\"], [0.6666666666666666, \"#ed7953\"], [0.7777777777777778, \"#fb9f3a\"], [0.8888888888888888, \"#fdca26\"], [1.0, \"#f0f921\"]], \"type\": \"contour\"}], \"contourcarpet\": [{\"colorbar\": {\"outlinewidth\": 0, \"ticks\": \"\"}, \"type\": \"contourcarpet\"}], \"heatmap\": [{\"colorbar\": {\"outlinewidth\": 0, \"ticks\": \"\"}, \"colorscale\": [[0.0, \"#0d0887\"], [0.1111111111111111, \"#46039f\"], [0.2222222222222222, \"#7201a8\"], [0.3333333333333333, \"#9c179e\"], [0.4444444444444444, \"#bd3786\"], [0.5555555555555556, \"#d8576b\"], [0.6666666666666666, \"#ed7953\"], [0.7777777777777778, \"#fb9f3a\"], [0.8888888888888888, \"#fdca26\"], [1.0, \"#f0f921\"]], \"type\": \"heatmap\"}], \"heatmapgl\": [{\"colorbar\": {\"outlinewidth\": 0, \"ticks\": \"\"}, \"colorscale\": [[0.0, \"#0d0887\"], [0.1111111111111111, \"#46039f\"], [0.2222222222222222, \"#7201a8\"], [0.3333333333333333, \"#9c179e\"], [0.4444444444444444, \"#bd3786\"], [0.5555555555555556, \"#d8576b\"], [0.6666666666666666, \"#ed7953\"], [0.7777777777777778, \"#fb9f3a\"], [0.8888888888888888, \"#fdca26\"], [1.0, \"#f0f921\"]], \"type\": \"heatmapgl\"}], \"histogram\": [{\"marker\": {\"colorbar\": {\"outlinewidth\": 0, \"ticks\": \"\"}}, \"type\": \"histogram\"}], \"histogram2d\": [{\"colorbar\": {\"outlinewidth\": 0, \"ticks\": \"\"}, \"colorscale\": [[0.0, \"#0d0887\"], [0.1111111111111111, \"#46039f\"], [0.2222222222222222, \"#7201a8\"], [0.3333333333333333, \"#9c179e\"], [0.4444444444444444, \"#bd3786\"], [0.5555555555555556, \"#d8576b\"], [0.6666666666666666, \"#ed7953\"], [0.7777777777777778, \"#fb9f3a\"], [0.8888888888888888, \"#fdca26\"], [1.0, \"#f0f921\"]], \"type\": \"histogram2d\"}], \"histogram2dcontour\": [{\"colorbar\": {\"outlinewidth\": 0, \"ticks\": \"\"}, \"colorscale\": [[0.0, \"#0d0887\"], [0.1111111111111111, \"#46039f\"], [0.2222222222222222, \"#7201a8\"], [0.3333333333333333, \"#9c179e\"], [0.4444444444444444, \"#bd3786\"], [0.5555555555555556, \"#d8576b\"], [0.6666666666666666, \"#ed7953\"], [0.7777777777777778, \"#fb9f3a\"], [0.8888888888888888, \"#fdca26\"], [1.0, \"#f0f921\"]], \"type\": \"histogram2dcontour\"}], \"mesh3d\": [{\"colorbar\": {\"outlinewidth\": 0, \"ticks\": \"\"}, \"type\": \"mesh3d\"}], \"parcoords\": [{\"line\": {\"colorbar\": {\"outlinewidth\": 0, \"ticks\": \"\"}}, \"type\": \"parcoords\"}], \"pie\": [{\"automargin\": true, \"type\": \"pie\"}], \"scatter\": [{\"marker\": {\"colorbar\": {\"outlinewidth\": 0, \"ticks\": \"\"}}, \"type\": \"scatter\"}], \"scatter3d\": [{\"line\": {\"colorbar\": {\"outlinewidth\": 0, \"ticks\": \"\"}}, \"marker\": {\"colorbar\": {\"outlinewidth\": 0, \"ticks\": \"\"}}, \"type\": \"scatter3d\"}], \"scattercarpet\": [{\"marker\": {\"colorbar\": {\"outlinewidth\": 0, \"ticks\": \"\"}}, \"type\": \"scattercarpet\"}], \"scattergeo\": [{\"marker\": {\"colorbar\": {\"outlinewidth\": 0, \"ticks\": \"\"}}, \"type\": \"scattergeo\"}], \"scattergl\": [{\"marker\": {\"colorbar\": {\"outlinewidth\": 0, \"ticks\": \"\"}}, \"type\": \"scattergl\"}], \"scattermapbox\": [{\"marker\": {\"colorbar\": {\"outlinewidth\": 0, \"ticks\": \"\"}}, \"type\": \"scattermapbox\"}], \"scatterpolar\": [{\"marker\": {\"colorbar\": {\"outlinewidth\": 0, \"ticks\": \"\"}}, \"type\": \"scatterpolar\"}], \"scatterpolargl\": [{\"marker\": {\"colorbar\": {\"outlinewidth\": 0, \"ticks\": \"\"}}, \"type\": \"scatterpolargl\"}], \"scatterternary\": [{\"marker\": {\"colorbar\": {\"outlinewidth\": 0, \"ticks\": \"\"}}, \"type\": \"scatterternary\"}], \"surface\": [{\"colorbar\": {\"outlinewidth\": 0, \"ticks\": \"\"}, \"colorscale\": [[0.0, \"#0d0887\"], [0.1111111111111111, \"#46039f\"], [0.2222222222222222, \"#7201a8\"], [0.3333333333333333, \"#9c179e\"], [0.4444444444444444, \"#bd3786\"], [0.5555555555555556, \"#d8576b\"], [0.6666666666666666, \"#ed7953\"], [0.7777777777777778, \"#fb9f3a\"], [0.8888888888888888, \"#fdca26\"], [1.0, \"#f0f921\"]], \"type\": \"surface\"}], \"table\": [{\"cells\": {\"fill\": {\"color\": \"#EBF0F8\"}, \"line\": {\"color\": \"white\"}}, \"header\": {\"fill\": {\"color\": \"#C8D4E3\"}, \"line\": {\"color\": \"white\"}}, \"type\": \"table\"}]}, \"layout\": {\"annotationdefaults\": {\"arrowcolor\": \"#2a3f5f\", \"arrowhead\": 0, \"arrowwidth\": 1}, \"coloraxis\": {\"colorbar\": {\"outlinewidth\": 0, \"ticks\": \"\"}}, \"colorscale\": {\"diverging\": [[0, \"#8e0152\"], [0.1, \"#c51b7d\"], [0.2, \"#de77ae\"], [0.3, \"#f1b6da\"], [0.4, \"#fde0ef\"], [0.5, \"#f7f7f7\"], [0.6, \"#e6f5d0\"], [0.7, \"#b8e186\"], [0.8, \"#7fbc41\"], [0.9, \"#4d9221\"], [1, \"#276419\"]], \"sequential\": [[0.0, \"#0d0887\"], [0.1111111111111111, \"#46039f\"], [0.2222222222222222, \"#7201a8\"], [0.3333333333333333, \"#9c179e\"], [0.4444444444444444, \"#bd3786\"], [0.5555555555555556, \"#d8576b\"], [0.6666666666666666, \"#ed7953\"], [0.7777777777777778, \"#fb9f3a\"], [0.8888888888888888, \"#fdca26\"], [1.0, \"#f0f921\"]], \"sequentialminus\": [[0.0, \"#0d0887\"], [0.1111111111111111, \"#46039f\"], [0.2222222222222222, \"#7201a8\"], [0.3333333333333333, \"#9c179e\"], [0.4444444444444444, \"#bd3786\"], [0.5555555555555556, \"#d8576b\"], [0.6666666666666666, \"#ed7953\"], [0.7777777777777778, \"#fb9f3a\"], [0.8888888888888888, \"#fdca26\"], [1.0, \"#f0f921\"]]}, \"colorway\": [\"#636efa\", \"#EF553B\", \"#00cc96\", \"#ab63fa\", \"#FFA15A\", \"#19d3f3\", \"#FF6692\", \"#B6E880\", \"#FF97FF\", \"#FECB52\"], \"font\": {\"color\": \"#2a3f5f\"}, \"geo\": {\"bgcolor\": \"white\", \"lakecolor\": \"white\", \"landcolor\": \"#E5ECF6\", \"showlakes\": true, \"showland\": true, \"subunitcolor\": \"white\"}, \"hoverlabel\": {\"align\": \"left\"}, \"hovermode\": \"closest\", \"mapbox\": {\"style\": \"light\"}, \"paper_bgcolor\": \"white\", \"plot_bgcolor\": \"#E5ECF6\", \"polar\": {\"angularaxis\": {\"gridcolor\": \"white\", \"linecolor\": \"white\", \"ticks\": \"\"}, \"bgcolor\": \"#E5ECF6\", \"radialaxis\": {\"gridcolor\": \"white\", \"linecolor\": \"white\", \"ticks\": \"\"}}, \"scene\": {\"xaxis\": {\"backgroundcolor\": \"#E5ECF6\", \"gridcolor\": \"white\", \"gridwidth\": 2, \"linecolor\": \"white\", \"showbackground\": true, \"ticks\": \"\", \"zerolinecolor\": \"white\"}, \"yaxis\": {\"backgroundcolor\": \"#E5ECF6\", \"gridcolor\": \"white\", \"gridwidth\": 2, \"linecolor\": \"white\", \"showbackground\": true, \"ticks\": \"\", \"zerolinecolor\": \"white\"}, \"zaxis\": {\"backgroundcolor\": \"#E5ECF6\", \"gridcolor\": \"white\", \"gridwidth\": 2, \"linecolor\": \"white\", \"showbackground\": true, \"ticks\": \"\", \"zerolinecolor\": \"white\"}}, \"shapedefaults\": {\"line\": {\"color\": \"#2a3f5f\"}}, \"ternary\": {\"aaxis\": {\"gridcolor\": \"white\", \"linecolor\": \"white\", \"ticks\": \"\"}, \"baxis\": {\"gridcolor\": \"white\", \"linecolor\": \"white\", \"ticks\": \"\"}, \"bgcolor\": \"#E5ECF6\", \"caxis\": {\"gridcolor\": \"white\", \"linecolor\": \"white\", \"ticks\": \"\"}}, \"title\": {\"x\": 0.05}, \"xaxis\": {\"automargin\": true, \"gridcolor\": \"white\", \"linecolor\": \"white\", \"ticks\": \"\", \"title\": {\"standoff\": 15}, \"zerolinecolor\": \"white\", \"zerolinewidth\": 2}, \"yaxis\": {\"automargin\": true, \"gridcolor\": \"white\", \"linecolor\": \"white\", \"ticks\": \"\", \"title\": {\"standoff\": 15}, \"zerolinecolor\": \"white\", \"zerolinewidth\": 2}}}, \"title\": {\"font\": {\"color\": \"#4D5663\"}}, \"xaxis\": {\"gridcolor\": \"#E1E5ED\", \"showgrid\": true, \"tickfont\": {\"color\": \"#4D5663\"}, \"title\": {\"font\": {\"color\": \"#4D5663\"}, \"text\": \"\"}, \"zerolinecolor\": \"#E1E5ED\"}, \"yaxis\": {\"gridcolor\": \"#E1E5ED\", \"showgrid\": true, \"tickfont\": {\"color\": \"#4D5663\"}, \"title\": {\"font\": {\"color\": \"#4D5663\"}, \"text\": \"\"}, \"zerolinecolor\": \"#E1E5ED\"}},\n",
       "                        {\"showLink\": true, \"linkText\": \"Export to plot.ly\", \"plotlyServerURL\": \"https://plot.ly\", \"responsive\": true}\n",
       "                    ).then(function(){\n",
       "                            \n",
       "var gd = document.getElementById('7cf8d95f-179f-436b-a5c5-2c95981c75aa');\n",
       "var x = new MutationObserver(function (mutations, observer) {{\n",
       "        var display = window.getComputedStyle(gd).display;\n",
       "        if (!display || display === 'none') {{\n",
       "            console.log([gd, 'removed!']);\n",
       "            Plotly.purge(gd);\n",
       "            observer.disconnect();\n",
       "        }}\n",
       "}});\n",
       "\n",
       "// Listen for the removal of the full notebook cells\n",
       "var notebookContainer = gd.closest('#notebook-container');\n",
       "if (notebookContainer) {{\n",
       "    x.observe(notebookContainer, {childList: true});\n",
       "}}\n",
       "\n",
       "// Listen for the clearing of the current output cell\n",
       "var outputEl = gd.closest('.output');\n",
       "if (outputEl) {{\n",
       "    x.observe(outputEl, {childList: true});\n",
       "}}\n",
       "\n",
       "                        })\n",
       "                };\n",
       "                });\n",
       "            </script>\n",
       "        </div>"
      ]
     },
     "metadata": {},
     "output_type": "display_data"
    }
   ],
   "source": [
    "model_loss = pd.DataFrame(model.history.history)\n",
    "model_loss.iplot()"
   ]
  },
  {
   "cell_type": "code",
   "execution_count": 63,
   "metadata": {},
   "outputs": [],
   "source": [
    "from tensorflow.keras.layers import Dropout"
   ]
  },
  {
   "cell_type": "code",
   "execution_count": 64,
   "metadata": {},
   "outputs": [],
   "source": [
    "model = Sequential()\n",
    "\n",
    "model.add(Dense(30, activation='relu'))\n",
    "model.add(Dropout(rate=0.5))\n",
    "model.add(Dense(15, activation='relu'))\n",
    "model.add(Dropout(rate=0.5))\n",
    "model.add(Dense(1, activation='sigmoid'))\n",
    "\n",
    "model.compile(optimizer='adam', loss='binary_crossentropy')"
   ]
  },
  {
   "cell_type": "code",
   "execution_count": 65,
   "metadata": {},
   "outputs": [
    {
     "name": "stdout",
     "output_type": "stream",
     "text": [
      "Train on 426 samples, validate on 143 samples\n",
      "Epoch 1/600\n",
      "426/426 [==============================] - 1s 2ms/sample - loss: 0.7601 - val_loss: 0.6955\n",
      "Epoch 2/600\n",
      "426/426 [==============================] - 0s 82us/sample - loss: 0.6958 - val_loss: 0.6697\n",
      "Epoch 3/600\n",
      "426/426 [==============================] - 0s 81us/sample - loss: 0.6602 - val_loss: 0.6481\n",
      "Epoch 4/600\n",
      "426/426 [==============================] - 0s 81us/sample - loss: 0.6481 - val_loss: 0.6152\n",
      "Epoch 5/600\n",
      "426/426 [==============================] - 0s 81us/sample - loss: 0.6274 - val_loss: 0.5839\n",
      "Epoch 6/600\n",
      "426/426 [==============================] - 0s 78us/sample - loss: 0.6173 - val_loss: 0.5470\n",
      "Epoch 7/600\n",
      "426/426 [==============================] - 0s 77us/sample - loss: 0.5719 - val_loss: 0.5123\n",
      "Epoch 8/600\n",
      "426/426 [==============================] - 0s 80us/sample - loss: 0.5340 - val_loss: 0.4775\n",
      "Epoch 9/600\n",
      "426/426 [==============================] - ETA: 0s - loss: 0.574 - 0s 84us/sample - loss: 0.5275 - val_loss: 0.4459\n",
      "Epoch 10/600\n",
      "426/426 [==============================] - 0s 89us/sample - loss: 0.5087 - val_loss: 0.4172\n",
      "Epoch 11/600\n",
      "426/426 [==============================] - 0s 84us/sample - loss: 0.4771 - val_loss: 0.3906\n",
      "Epoch 12/600\n",
      "426/426 [==============================] - 0s 79us/sample - loss: 0.4427 - val_loss: 0.3637\n",
      "Epoch 13/600\n",
      "426/426 [==============================] - ETA: 0s - loss: 0.487 - 0s 81us/sample - loss: 0.4238 - val_loss: 0.3365\n",
      "Epoch 14/600\n",
      "426/426 [==============================] - 0s 85us/sample - loss: 0.4193 - val_loss: 0.3143\n",
      "Epoch 15/600\n",
      "426/426 [==============================] - 0s 84us/sample - loss: 0.4004 - val_loss: 0.2934\n",
      "Epoch 16/600\n",
      "426/426 [==============================] - 0s 89us/sample - loss: 0.3847 - val_loss: 0.2813\n",
      "Epoch 17/600\n",
      "426/426 [==============================] - 0s 84us/sample - loss: 0.3759 - val_loss: 0.2676\n",
      "Epoch 18/600\n",
      "426/426 [==============================] - 0s 86us/sample - loss: 0.3603 - val_loss: 0.2529\n",
      "Epoch 19/600\n",
      "426/426 [==============================] - 0s 96us/sample - loss: 0.3367 - val_loss: 0.2382\n",
      "Epoch 20/600\n",
      "426/426 [==============================] - 0s 84us/sample - loss: 0.3162 - val_loss: 0.2270\n",
      "Epoch 21/600\n",
      "426/426 [==============================] - 0s 82us/sample - loss: 0.3085 - val_loss: 0.2130\n",
      "Epoch 22/600\n",
      "426/426 [==============================] - 0s 87us/sample - loss: 0.2988 - val_loss: 0.2017\n",
      "Epoch 23/600\n",
      "426/426 [==============================] - 0s 89us/sample - loss: 0.2881 - val_loss: 0.1932\n",
      "Epoch 24/600\n",
      "426/426 [==============================] - 0s 81us/sample - loss: 0.2779 - val_loss: 0.1876\n",
      "Epoch 25/600\n",
      "426/426 [==============================] - 0s 84us/sample - loss: 0.2779 - val_loss: 0.1802\n",
      "Epoch 26/600\n",
      "426/426 [==============================] - 0s 84us/sample - loss: 0.2974 - val_loss: 0.1753\n",
      "Epoch 27/600\n",
      "426/426 [==============================] - ETA: 0s - loss: 0.267 - 0s 78us/sample - loss: 0.2609 - val_loss: 0.1752\n",
      "Epoch 28/600\n",
      "426/426 [==============================] - 0s 91us/sample - loss: 0.2647 - val_loss: 0.1639\n",
      "Epoch 29/600\n",
      "426/426 [==============================] - 0s 84us/sample - loss: 0.2635 - val_loss: 0.1621\n",
      "Epoch 30/600\n",
      "426/426 [==============================] - 0s 83us/sample - loss: 0.2584 - val_loss: 0.1583\n",
      "Epoch 31/600\n",
      "426/426 [==============================] - 0s 85us/sample - loss: 0.2402 - val_loss: 0.1616\n",
      "Epoch 32/600\n",
      "426/426 [==============================] - 0s 90us/sample - loss: 0.2509 - val_loss: 0.1511\n",
      "Epoch 33/600\n",
      "426/426 [==============================] - 0s 83us/sample - loss: 0.2189 - val_loss: 0.1555\n",
      "Epoch 34/600\n",
      "426/426 [==============================] - 0s 82us/sample - loss: 0.2419 - val_loss: 0.1390\n",
      "Epoch 35/600\n",
      "426/426 [==============================] - 0s 84us/sample - loss: 0.2192 - val_loss: 0.1384\n",
      "Epoch 36/600\n",
      "426/426 [==============================] - 0s 81us/sample - loss: 0.2182 - val_loss: 0.1466\n",
      "Epoch 37/600\n",
      "426/426 [==============================] - 0s 91us/sample - loss: 0.2186 - val_loss: 0.1366\n",
      "Epoch 38/600\n",
      "426/426 [==============================] - 0s 86us/sample - loss: 0.2081 - val_loss: 0.1312\n",
      "Epoch 39/600\n",
      "426/426 [==============================] - 0s 80us/sample - loss: 0.1858 - val_loss: 0.1280\n",
      "Epoch 40/600\n",
      "426/426 [==============================] - 0s 83us/sample - loss: 0.1957 - val_loss: 0.1371\n",
      "Epoch 41/600\n",
      "426/426 [==============================] - 0s 84us/sample - loss: 0.1985 - val_loss: 0.1257\n",
      "Epoch 42/600\n",
      "426/426 [==============================] - 0s 84us/sample - loss: 0.2045 - val_loss: 0.1199\n",
      "Epoch 43/600\n",
      "426/426 [==============================] - 0s 82us/sample - loss: 0.1948 - val_loss: 0.1217\n",
      "Epoch 44/600\n",
      "426/426 [==============================] - 0s 80us/sample - loss: 0.2064 - val_loss: 0.1227\n",
      "Epoch 45/600\n",
      "426/426 [==============================] - 0s 82us/sample - loss: 0.1978 - val_loss: 0.1244\n",
      "Epoch 46/600\n",
      "426/426 [==============================] - 0s 81us/sample - loss: 0.1963 - val_loss: 0.1166\n",
      "Epoch 47/600\n",
      "426/426 [==============================] - 0s 86us/sample - loss: 0.1766 - val_loss: 0.1236\n",
      "Epoch 48/600\n",
      "426/426 [==============================] - 0s 87us/sample - loss: 0.1581 - val_loss: 0.1152\n",
      "Epoch 49/600\n",
      "426/426 [==============================] - 0s 84us/sample - loss: 0.1809 - val_loss: 0.1136\n",
      "Epoch 50/600\n",
      "426/426 [==============================] - 0s 84us/sample - loss: 0.1417 - val_loss: 0.1067\n",
      "Epoch 51/600\n",
      "426/426 [==============================] - 0s 89us/sample - loss: 0.1724 - val_loss: 0.1197\n",
      "Epoch 52/600\n",
      "426/426 [==============================] - 0s 87us/sample - loss: 0.1702 - val_loss: 0.1092\n",
      "Epoch 53/600\n",
      "426/426 [==============================] - 0s 82us/sample - loss: 0.1557 - val_loss: 0.1087\n",
      "Epoch 54/600\n",
      "426/426 [==============================] - 0s 84us/sample - loss: 0.1642 - val_loss: 0.1123\n",
      "Epoch 55/600\n",
      "426/426 [==============================] - 0s 83us/sample - loss: 0.1567 - val_loss: 0.1108\n",
      "Epoch 56/600\n",
      "426/426 [==============================] - 0s 85us/sample - loss: 0.1620 - val_loss: 0.1129\n",
      "Epoch 57/600\n",
      "426/426 [==============================] - 0s 85us/sample - loss: 0.1469 - val_loss: 0.1086\n",
      "Epoch 58/600\n",
      "426/426 [==============================] - 0s 85us/sample - loss: 0.1530 - val_loss: 0.1091\n",
      "Epoch 59/600\n",
      "426/426 [==============================] - 0s 80us/sample - loss: 0.1405 - val_loss: 0.1065\n",
      "Epoch 60/600\n",
      "426/426 [==============================] - 0s 84us/sample - loss: 0.1558 - val_loss: 0.1275\n",
      "Epoch 61/600\n",
      "426/426 [==============================] - 0s 94us/sample - loss: 0.1416 - val_loss: 0.1032\n",
      "Epoch 62/600\n",
      "426/426 [==============================] - 0s 77us/sample - loss: 0.1516 - val_loss: 0.1041\n",
      "Epoch 63/600\n",
      "426/426 [==============================] - 0s 80us/sample - loss: 0.1289 - val_loss: 0.1127\n",
      "Epoch 64/600\n",
      "426/426 [==============================] - 0s 77us/sample - loss: 0.1472 - val_loss: 0.1008\n",
      "Epoch 65/600\n",
      "426/426 [==============================] - 0s 84us/sample - loss: 0.1163 - val_loss: 0.1012\n",
      "Epoch 66/600\n",
      "426/426 [==============================] - 0s 80us/sample - loss: 0.1439 - val_loss: 0.1101\n",
      "Epoch 67/600\n",
      "426/426 [==============================] - ETA: 0s - loss: 0.229 - 0s 75us/sample - loss: 0.1431 - val_loss: 0.1253\n",
      "Epoch 68/600\n",
      "426/426 [==============================] - 0s 80us/sample - loss: 0.1233 - val_loss: 0.1000\n",
      "Epoch 69/600\n",
      "426/426 [==============================] - 0s 73us/sample - loss: 0.1356 - val_loss: 0.1053\n",
      "Epoch 70/600\n",
      "426/426 [==============================] - 0s 77us/sample - loss: 0.1168 - val_loss: 0.1067\n",
      "Epoch 71/600\n",
      "426/426 [==============================] - 0s 84us/sample - loss: 0.1360 - val_loss: 0.1161\n",
      "Epoch 72/600\n",
      "426/426 [==============================] - 0s 70us/sample - loss: 0.1299 - val_loss: 0.1012\n",
      "Epoch 73/600\n",
      "426/426 [==============================] - 0s 82us/sample - loss: 0.1182 - val_loss: 0.1042\n",
      "Epoch 74/600\n",
      "426/426 [==============================] - 0s 96us/sample - loss: 0.1049 - val_loss: 0.1053\n",
      "Epoch 75/600\n",
      "426/426 [==============================] - 0s 101us/sample - loss: 0.1279 - val_loss: 0.1123\n",
      "Epoch 76/600\n",
      "426/426 [==============================] - 0s 87us/sample - loss: 0.1339 - val_loss: 0.1023\n",
      "Epoch 77/600\n",
      "426/426 [==============================] - 0s 82us/sample - loss: 0.1170 - val_loss: 0.1040\n"
     ]
    },
    {
     "name": "stdout",
     "output_type": "stream",
     "text": [
      "Epoch 78/600\n",
      "426/426 [==============================] - 0s 70us/sample - loss: 0.1121 - val_loss: 0.1046\n",
      "Epoch 79/600\n",
      "426/426 [==============================] - 0s 73us/sample - loss: 0.1234 - val_loss: 0.0944\n",
      "Epoch 80/600\n",
      "426/426 [==============================] - 0s 68us/sample - loss: 0.1158 - val_loss: 0.1036\n",
      "Epoch 81/600\n",
      "426/426 [==============================] - 0s 70us/sample - loss: 0.1179 - val_loss: 0.1106\n",
      "Epoch 82/600\n",
      "426/426 [==============================] - 0s 71us/sample - loss: 0.1055 - val_loss: 0.1033\n",
      "Epoch 83/600\n",
      "426/426 [==============================] - 0s 73us/sample - loss: 0.0944 - val_loss: 0.1151\n",
      "Epoch 84/600\n",
      "426/426 [==============================] - 0s 80us/sample - loss: 0.1227 - val_loss: 0.0967\n",
      "Epoch 85/600\n",
      "426/426 [==============================] - 0s 73us/sample - loss: 0.1118 - val_loss: 0.0996\n",
      "Epoch 86/600\n",
      "426/426 [==============================] - 0s 75us/sample - loss: 0.1018 - val_loss: 0.1055\n",
      "Epoch 87/600\n",
      "426/426 [==============================] - 0s 70us/sample - loss: 0.1222 - val_loss: 0.1045\n",
      "Epoch 88/600\n",
      "426/426 [==============================] - 0s 73us/sample - loss: 0.1032 - val_loss: 0.1032\n",
      "Epoch 89/600\n",
      "426/426 [==============================] - 0s 70us/sample - loss: 0.1134 - val_loss: 0.1050\n",
      "Epoch 90/600\n",
      "426/426 [==============================] - 0s 70us/sample - loss: 0.1159 - val_loss: 0.0986\n",
      "Epoch 91/600\n",
      "426/426 [==============================] - 0s 73us/sample - loss: 0.1103 - val_loss: 0.0999\n",
      "Epoch 92/600\n",
      "426/426 [==============================] - 0s 77us/sample - loss: 0.1007 - val_loss: 0.1051\n",
      "Epoch 93/600\n",
      "426/426 [==============================] - 0s 73us/sample - loss: 0.1089 - val_loss: 0.1051\n",
      "Epoch 94/600\n",
      "426/426 [==============================] - 0s 73us/sample - loss: 0.1066 - val_loss: 0.0966\n",
      "Epoch 95/600\n",
      "426/426 [==============================] - 0s 73us/sample - loss: 0.1114 - val_loss: 0.0998\n",
      "Epoch 96/600\n",
      "426/426 [==============================] - 0s 73us/sample - loss: 0.0995 - val_loss: 0.1157\n",
      "Epoch 97/600\n",
      "426/426 [==============================] - 0s 75us/sample - loss: 0.1134 - val_loss: 0.0961\n",
      "Epoch 98/600\n",
      "426/426 [==============================] - 0s 74us/sample - loss: 0.0928 - val_loss: 0.1061\n",
      "Epoch 99/600\n",
      "426/426 [==============================] - 0s 70us/sample - loss: 0.1183 - val_loss: 0.1121\n",
      "Epoch 100/600\n",
      "426/426 [==============================] - 0s 80us/sample - loss: 0.0987 - val_loss: 0.0967\n",
      "Epoch 101/600\n",
      "426/426 [==============================] - 0s 80us/sample - loss: 0.1000 - val_loss: 0.0979\n",
      "Epoch 102/600\n",
      "426/426 [==============================] - 0s 80us/sample - loss: 0.1122 - val_loss: 0.1031\n",
      "Epoch 103/600\n",
      "426/426 [==============================] - 0s 77us/sample - loss: 0.1027 - val_loss: 0.1098\n",
      "Epoch 104/600\n",
      "426/426 [==============================] - 0s 77us/sample - loss: 0.1088 - val_loss: 0.0984\n",
      "Epoch 00104: early stopping\n"
     ]
    },
    {
     "data": {
      "text/plain": [
       "<tensorflow.python.keras.callbacks.History at 0x259d6c09080>"
      ]
     },
     "execution_count": 65,
     "metadata": {},
     "output_type": "execute_result"
    }
   ],
   "source": [
    "model.fit(x=X_train, y=y_train, validation_data=(X_test, y_test), epochs=600, callbacks=[early_stop])"
   ]
  },
  {
   "cell_type": "code",
   "execution_count": 67,
   "metadata": {},
   "outputs": [
    {
     "data": {
      "application/vnd.plotly.v1+json": {
       "config": {
        "linkText": "Export to plot.ly",
        "plotlyServerURL": "https://plot.ly",
        "showLink": true
       },
       "data": [
        {
         "line": {
          "color": "rgba(255, 153, 51, 1.0)",
          "dash": "solid",
          "shape": "linear",
          "width": 1.3
         },
         "mode": "lines",
         "name": "loss",
         "text": "",
         "type": "scatter",
         "x": [
          0,
          1,
          2,
          3,
          4,
          5,
          6,
          7,
          8,
          9,
          10,
          11,
          12,
          13,
          14,
          15,
          16,
          17,
          18,
          19,
          20,
          21,
          22,
          23,
          24,
          25,
          26,
          27,
          28,
          29,
          30,
          31,
          32,
          33,
          34,
          35,
          36,
          37,
          38,
          39,
          40,
          41,
          42,
          43,
          44,
          45,
          46,
          47,
          48,
          49,
          50,
          51,
          52,
          53,
          54,
          55,
          56,
          57,
          58,
          59,
          60,
          61,
          62,
          63,
          64,
          65,
          66,
          67,
          68,
          69,
          70,
          71,
          72,
          73,
          74,
          75,
          76,
          77,
          78,
          79,
          80,
          81,
          82,
          83,
          84,
          85,
          86,
          87,
          88,
          89,
          90,
          91,
          92,
          93,
          94,
          95,
          96,
          97,
          98,
          99,
          100,
          101,
          102,
          103
         ],
         "y": [
          0.7601185004476091,
          0.6958350637149363,
          0.6602392728339899,
          0.6481411112865931,
          0.6273616854573639,
          0.6172905972865825,
          0.571851371599475,
          0.5340173317233162,
          0.5274781376263346,
          0.5087057114207129,
          0.4770965567776855,
          0.4427262301176367,
          0.4238334477227618,
          0.41934408940060036,
          0.4003840592545523,
          0.3847409618292616,
          0.3759171528995317,
          0.3602806201703112,
          0.33665373221809314,
          0.3161927691088036,
          0.3085262585134014,
          0.29878512668497686,
          0.2880519642516481,
          0.27785971550874305,
          0.2779234674335086,
          0.29740012524553305,
          0.2609366428964015,
          0.26468368735111936,
          0.263522681076202,
          0.25838675746965295,
          0.24021487343759043,
          0.25088702317134876,
          0.2189132013651127,
          0.24186285980430566,
          0.21917131067441661,
          0.2182252243371077,
          0.2186291541711825,
          0.20806422318930917,
          0.18576243869575537,
          0.1956987502709241,
          0.1984902346777804,
          0.20446730289660708,
          0.19484356185639967,
          0.20641692605376805,
          0.19782892142383146,
          0.19631329624795577,
          0.17663550586767598,
          0.1581340447557924,
          0.1809258837725075,
          0.14165476692114637,
          0.17237521611818685,
          0.17018823752380874,
          0.155672281630722,
          0.16416422498058264,
          0.1567455679877823,
          0.1619837822069025,
          0.1469085374628434,
          0.15295532877456414,
          0.1405467174142739,
          0.1558283707695388,
          0.14159589517914073,
          0.15160260846217474,
          0.1288997601595283,
          0.14720137478530126,
          0.11634611674177815,
          0.14390452828765476,
          0.14305793789560806,
          0.12325093415981167,
          0.13558285106235826,
          0.11680963705403144,
          0.13600252171707267,
          0.12986834871936853,
          0.11822982545190014,
          0.1049220202044702,
          0.12785725330522923,
          0.13394865530057692,
          0.11700322938986787,
          0.11206794260813037,
          0.12336403635186209,
          0.11581709503497876,
          0.11788001214044755,
          0.10552870135911753,
          0.09435529727051516,
          0.12265477703770561,
          0.11184344262304441,
          0.1018128816230756,
          0.12220891260764968,
          0.10315869307853806,
          0.11336334904944392,
          0.1158873963873711,
          0.1103273330719818,
          0.10066915525586952,
          0.10891822596111209,
          0.10655889088209246,
          0.1113986980100053,
          0.09945503094106772,
          0.1133616842381971,
          0.09280243725843833,
          0.11833721511240856,
          0.09867202063821291,
          0.10000860481195047,
          0.11221968750316352,
          0.10266769103740862,
          0.10882243737928185
         ]
        },
        {
         "line": {
          "color": "rgba(55, 128, 191, 1.0)",
          "dash": "solid",
          "shape": "linear",
          "width": 1.3
         },
         "mode": "lines",
         "name": "val_loss",
         "text": "",
         "type": "scatter",
         "x": [
          0,
          1,
          2,
          3,
          4,
          5,
          6,
          7,
          8,
          9,
          10,
          11,
          12,
          13,
          14,
          15,
          16,
          17,
          18,
          19,
          20,
          21,
          22,
          23,
          24,
          25,
          26,
          27,
          28,
          29,
          30,
          31,
          32,
          33,
          34,
          35,
          36,
          37,
          38,
          39,
          40,
          41,
          42,
          43,
          44,
          45,
          46,
          47,
          48,
          49,
          50,
          51,
          52,
          53,
          54,
          55,
          56,
          57,
          58,
          59,
          60,
          61,
          62,
          63,
          64,
          65,
          66,
          67,
          68,
          69,
          70,
          71,
          72,
          73,
          74,
          75,
          76,
          77,
          78,
          79,
          80,
          81,
          82,
          83,
          84,
          85,
          86,
          87,
          88,
          89,
          90,
          91,
          92,
          93,
          94,
          95,
          96,
          97,
          98,
          99,
          100,
          101,
          102,
          103
         ],
         "y": [
          0.6954738426875401,
          0.6696995846875065,
          0.6481135120758643,
          0.6151518150643035,
          0.5839124567858822,
          0.5470007307879574,
          0.5123339818490968,
          0.47745061400053385,
          0.4459273958956445,
          0.41717869668573765,
          0.39061028077885823,
          0.3636911924068744,
          0.3365047519857233,
          0.31434005999064946,
          0.2934329101255724,
          0.2812907317510018,
          0.26761782950871477,
          0.2529471854229907,
          0.2382125251151465,
          0.22698268315175196,
          0.21303255355858303,
          0.20171318500192015,
          0.19316951742955854,
          0.18759446940221985,
          0.1801946124622038,
          0.1752567486642124,
          0.1751714895863633,
          0.16392182579615733,
          0.16207960544974653,
          0.15834381816895693,
          0.16161310078797642,
          0.1511050013603864,
          0.1555182051200133,
          0.138971384692859,
          0.13840441833009254,
          0.14660500047298577,
          0.1366373019722792,
          0.13121120256560664,
          0.12798240687046852,
          0.13705567400772256,
          0.125705984609944,
          0.11988779464801708,
          0.1216502927921035,
          0.1227311630557467,
          0.12444359376713947,
          0.11661486369329732,
          0.12358981964888273,
          0.11519064092552746,
          0.11361414918324331,
          0.10673049691465351,
          0.11969095400788567,
          0.10915031531578177,
          0.10867055523749831,
          0.11227976840797003,
          0.11076369201699338,
          0.11288621602254315,
          0.10862948636075,
          0.10906322154548619,
          0.10649040442976085,
          0.12751898914575577,
          0.10316211396789217,
          0.10407641394571825,
          0.1127047431427282,
          0.10079110546649753,
          0.10120507397434929,
          0.1100895684603211,
          0.12527563219720667,
          0.10004815058066295,
          0.10525262730938571,
          0.10670783930829356,
          0.1160785785609192,
          0.10119387343317479,
          0.1041830112258871,
          0.10527154680836451,
          0.11230632167804491,
          0.10233430754575697,
          0.10400281932491523,
          0.10459766164422035,
          0.09442694576365965,
          0.10362622829583976,
          0.11056276181569466,
          0.10326011280913452,
          0.11508922112154794,
          0.09674186960279525,
          0.09956215978502393,
          0.10545113714008064,
          0.10445442798358577,
          0.10321029140190645,
          0.10501515570949842,
          0.09858880580201015,
          0.09990586561860738,
          0.10509446385752905,
          0.10510835491798141,
          0.09655302411296984,
          0.0998333233532372,
          0.11572026414471073,
          0.09610957300642153,
          0.10612229588669497,
          0.11205836982055978,
          0.09668837274079556,
          0.09787424742341876,
          0.10306522198073514,
          0.10977623413701157,
          0.09840295083456106
         ]
        }
       ],
       "layout": {
        "legend": {
         "bgcolor": "#F5F6F9",
         "font": {
          "color": "#4D5663"
         }
        },
        "paper_bgcolor": "#F5F6F9",
        "plot_bgcolor": "#F5F6F9",
        "template": {
         "data": {
          "bar": [
           {
            "error_x": {
             "color": "#2a3f5f"
            },
            "error_y": {
             "color": "#2a3f5f"
            },
            "marker": {
             "line": {
              "color": "#E5ECF6",
              "width": 0.5
             }
            },
            "type": "bar"
           }
          ],
          "barpolar": [
           {
            "marker": {
             "line": {
              "color": "#E5ECF6",
              "width": 0.5
             }
            },
            "type": "barpolar"
           }
          ],
          "carpet": [
           {
            "aaxis": {
             "endlinecolor": "#2a3f5f",
             "gridcolor": "white",
             "linecolor": "white",
             "minorgridcolor": "white",
             "startlinecolor": "#2a3f5f"
            },
            "baxis": {
             "endlinecolor": "#2a3f5f",
             "gridcolor": "white",
             "linecolor": "white",
             "minorgridcolor": "white",
             "startlinecolor": "#2a3f5f"
            },
            "type": "carpet"
           }
          ],
          "choropleth": [
           {
            "colorbar": {
             "outlinewidth": 0,
             "ticks": ""
            },
            "type": "choropleth"
           }
          ],
          "contour": [
           {
            "colorbar": {
             "outlinewidth": 0,
             "ticks": ""
            },
            "colorscale": [
             [
              0,
              "#0d0887"
             ],
             [
              0.1111111111111111,
              "#46039f"
             ],
             [
              0.2222222222222222,
              "#7201a8"
             ],
             [
              0.3333333333333333,
              "#9c179e"
             ],
             [
              0.4444444444444444,
              "#bd3786"
             ],
             [
              0.5555555555555556,
              "#d8576b"
             ],
             [
              0.6666666666666666,
              "#ed7953"
             ],
             [
              0.7777777777777778,
              "#fb9f3a"
             ],
             [
              0.8888888888888888,
              "#fdca26"
             ],
             [
              1,
              "#f0f921"
             ]
            ],
            "type": "contour"
           }
          ],
          "contourcarpet": [
           {
            "colorbar": {
             "outlinewidth": 0,
             "ticks": ""
            },
            "type": "contourcarpet"
           }
          ],
          "heatmap": [
           {
            "colorbar": {
             "outlinewidth": 0,
             "ticks": ""
            },
            "colorscale": [
             [
              0,
              "#0d0887"
             ],
             [
              0.1111111111111111,
              "#46039f"
             ],
             [
              0.2222222222222222,
              "#7201a8"
             ],
             [
              0.3333333333333333,
              "#9c179e"
             ],
             [
              0.4444444444444444,
              "#bd3786"
             ],
             [
              0.5555555555555556,
              "#d8576b"
             ],
             [
              0.6666666666666666,
              "#ed7953"
             ],
             [
              0.7777777777777778,
              "#fb9f3a"
             ],
             [
              0.8888888888888888,
              "#fdca26"
             ],
             [
              1,
              "#f0f921"
             ]
            ],
            "type": "heatmap"
           }
          ],
          "heatmapgl": [
           {
            "colorbar": {
             "outlinewidth": 0,
             "ticks": ""
            },
            "colorscale": [
             [
              0,
              "#0d0887"
             ],
             [
              0.1111111111111111,
              "#46039f"
             ],
             [
              0.2222222222222222,
              "#7201a8"
             ],
             [
              0.3333333333333333,
              "#9c179e"
             ],
             [
              0.4444444444444444,
              "#bd3786"
             ],
             [
              0.5555555555555556,
              "#d8576b"
             ],
             [
              0.6666666666666666,
              "#ed7953"
             ],
             [
              0.7777777777777778,
              "#fb9f3a"
             ],
             [
              0.8888888888888888,
              "#fdca26"
             ],
             [
              1,
              "#f0f921"
             ]
            ],
            "type": "heatmapgl"
           }
          ],
          "histogram": [
           {
            "marker": {
             "colorbar": {
              "outlinewidth": 0,
              "ticks": ""
             }
            },
            "type": "histogram"
           }
          ],
          "histogram2d": [
           {
            "colorbar": {
             "outlinewidth": 0,
             "ticks": ""
            },
            "colorscale": [
             [
              0,
              "#0d0887"
             ],
             [
              0.1111111111111111,
              "#46039f"
             ],
             [
              0.2222222222222222,
              "#7201a8"
             ],
             [
              0.3333333333333333,
              "#9c179e"
             ],
             [
              0.4444444444444444,
              "#bd3786"
             ],
             [
              0.5555555555555556,
              "#d8576b"
             ],
             [
              0.6666666666666666,
              "#ed7953"
             ],
             [
              0.7777777777777778,
              "#fb9f3a"
             ],
             [
              0.8888888888888888,
              "#fdca26"
             ],
             [
              1,
              "#f0f921"
             ]
            ],
            "type": "histogram2d"
           }
          ],
          "histogram2dcontour": [
           {
            "colorbar": {
             "outlinewidth": 0,
             "ticks": ""
            },
            "colorscale": [
             [
              0,
              "#0d0887"
             ],
             [
              0.1111111111111111,
              "#46039f"
             ],
             [
              0.2222222222222222,
              "#7201a8"
             ],
             [
              0.3333333333333333,
              "#9c179e"
             ],
             [
              0.4444444444444444,
              "#bd3786"
             ],
             [
              0.5555555555555556,
              "#d8576b"
             ],
             [
              0.6666666666666666,
              "#ed7953"
             ],
             [
              0.7777777777777778,
              "#fb9f3a"
             ],
             [
              0.8888888888888888,
              "#fdca26"
             ],
             [
              1,
              "#f0f921"
             ]
            ],
            "type": "histogram2dcontour"
           }
          ],
          "mesh3d": [
           {
            "colorbar": {
             "outlinewidth": 0,
             "ticks": ""
            },
            "type": "mesh3d"
           }
          ],
          "parcoords": [
           {
            "line": {
             "colorbar": {
              "outlinewidth": 0,
              "ticks": ""
             }
            },
            "type": "parcoords"
           }
          ],
          "pie": [
           {
            "automargin": true,
            "type": "pie"
           }
          ],
          "scatter": [
           {
            "marker": {
             "colorbar": {
              "outlinewidth": 0,
              "ticks": ""
             }
            },
            "type": "scatter"
           }
          ],
          "scatter3d": [
           {
            "line": {
             "colorbar": {
              "outlinewidth": 0,
              "ticks": ""
             }
            },
            "marker": {
             "colorbar": {
              "outlinewidth": 0,
              "ticks": ""
             }
            },
            "type": "scatter3d"
           }
          ],
          "scattercarpet": [
           {
            "marker": {
             "colorbar": {
              "outlinewidth": 0,
              "ticks": ""
             }
            },
            "type": "scattercarpet"
           }
          ],
          "scattergeo": [
           {
            "marker": {
             "colorbar": {
              "outlinewidth": 0,
              "ticks": ""
             }
            },
            "type": "scattergeo"
           }
          ],
          "scattergl": [
           {
            "marker": {
             "colorbar": {
              "outlinewidth": 0,
              "ticks": ""
             }
            },
            "type": "scattergl"
           }
          ],
          "scattermapbox": [
           {
            "marker": {
             "colorbar": {
              "outlinewidth": 0,
              "ticks": ""
             }
            },
            "type": "scattermapbox"
           }
          ],
          "scatterpolar": [
           {
            "marker": {
             "colorbar": {
              "outlinewidth": 0,
              "ticks": ""
             }
            },
            "type": "scatterpolar"
           }
          ],
          "scatterpolargl": [
           {
            "marker": {
             "colorbar": {
              "outlinewidth": 0,
              "ticks": ""
             }
            },
            "type": "scatterpolargl"
           }
          ],
          "scatterternary": [
           {
            "marker": {
             "colorbar": {
              "outlinewidth": 0,
              "ticks": ""
             }
            },
            "type": "scatterternary"
           }
          ],
          "surface": [
           {
            "colorbar": {
             "outlinewidth": 0,
             "ticks": ""
            },
            "colorscale": [
             [
              0,
              "#0d0887"
             ],
             [
              0.1111111111111111,
              "#46039f"
             ],
             [
              0.2222222222222222,
              "#7201a8"
             ],
             [
              0.3333333333333333,
              "#9c179e"
             ],
             [
              0.4444444444444444,
              "#bd3786"
             ],
             [
              0.5555555555555556,
              "#d8576b"
             ],
             [
              0.6666666666666666,
              "#ed7953"
             ],
             [
              0.7777777777777778,
              "#fb9f3a"
             ],
             [
              0.8888888888888888,
              "#fdca26"
             ],
             [
              1,
              "#f0f921"
             ]
            ],
            "type": "surface"
           }
          ],
          "table": [
           {
            "cells": {
             "fill": {
              "color": "#EBF0F8"
             },
             "line": {
              "color": "white"
             }
            },
            "header": {
             "fill": {
              "color": "#C8D4E3"
             },
             "line": {
              "color": "white"
             }
            },
            "type": "table"
           }
          ]
         },
         "layout": {
          "annotationdefaults": {
           "arrowcolor": "#2a3f5f",
           "arrowhead": 0,
           "arrowwidth": 1
          },
          "coloraxis": {
           "colorbar": {
            "outlinewidth": 0,
            "ticks": ""
           }
          },
          "colorscale": {
           "diverging": [
            [
             0,
             "#8e0152"
            ],
            [
             0.1,
             "#c51b7d"
            ],
            [
             0.2,
             "#de77ae"
            ],
            [
             0.3,
             "#f1b6da"
            ],
            [
             0.4,
             "#fde0ef"
            ],
            [
             0.5,
             "#f7f7f7"
            ],
            [
             0.6,
             "#e6f5d0"
            ],
            [
             0.7,
             "#b8e186"
            ],
            [
             0.8,
             "#7fbc41"
            ],
            [
             0.9,
             "#4d9221"
            ],
            [
             1,
             "#276419"
            ]
           ],
           "sequential": [
            [
             0,
             "#0d0887"
            ],
            [
             0.1111111111111111,
             "#46039f"
            ],
            [
             0.2222222222222222,
             "#7201a8"
            ],
            [
             0.3333333333333333,
             "#9c179e"
            ],
            [
             0.4444444444444444,
             "#bd3786"
            ],
            [
             0.5555555555555556,
             "#d8576b"
            ],
            [
             0.6666666666666666,
             "#ed7953"
            ],
            [
             0.7777777777777778,
             "#fb9f3a"
            ],
            [
             0.8888888888888888,
             "#fdca26"
            ],
            [
             1,
             "#f0f921"
            ]
           ],
           "sequentialminus": [
            [
             0,
             "#0d0887"
            ],
            [
             0.1111111111111111,
             "#46039f"
            ],
            [
             0.2222222222222222,
             "#7201a8"
            ],
            [
             0.3333333333333333,
             "#9c179e"
            ],
            [
             0.4444444444444444,
             "#bd3786"
            ],
            [
             0.5555555555555556,
             "#d8576b"
            ],
            [
             0.6666666666666666,
             "#ed7953"
            ],
            [
             0.7777777777777778,
             "#fb9f3a"
            ],
            [
             0.8888888888888888,
             "#fdca26"
            ],
            [
             1,
             "#f0f921"
            ]
           ]
          },
          "colorway": [
           "#636efa",
           "#EF553B",
           "#00cc96",
           "#ab63fa",
           "#FFA15A",
           "#19d3f3",
           "#FF6692",
           "#B6E880",
           "#FF97FF",
           "#FECB52"
          ],
          "font": {
           "color": "#2a3f5f"
          },
          "geo": {
           "bgcolor": "white",
           "lakecolor": "white",
           "landcolor": "#E5ECF6",
           "showlakes": true,
           "showland": true,
           "subunitcolor": "white"
          },
          "hoverlabel": {
           "align": "left"
          },
          "hovermode": "closest",
          "mapbox": {
           "style": "light"
          },
          "paper_bgcolor": "white",
          "plot_bgcolor": "#E5ECF6",
          "polar": {
           "angularaxis": {
            "gridcolor": "white",
            "linecolor": "white",
            "ticks": ""
           },
           "bgcolor": "#E5ECF6",
           "radialaxis": {
            "gridcolor": "white",
            "linecolor": "white",
            "ticks": ""
           }
          },
          "scene": {
           "xaxis": {
            "backgroundcolor": "#E5ECF6",
            "gridcolor": "white",
            "gridwidth": 2,
            "linecolor": "white",
            "showbackground": true,
            "ticks": "",
            "zerolinecolor": "white"
           },
           "yaxis": {
            "backgroundcolor": "#E5ECF6",
            "gridcolor": "white",
            "gridwidth": 2,
            "linecolor": "white",
            "showbackground": true,
            "ticks": "",
            "zerolinecolor": "white"
           },
           "zaxis": {
            "backgroundcolor": "#E5ECF6",
            "gridcolor": "white",
            "gridwidth": 2,
            "linecolor": "white",
            "showbackground": true,
            "ticks": "",
            "zerolinecolor": "white"
           }
          },
          "shapedefaults": {
           "line": {
            "color": "#2a3f5f"
           }
          },
          "ternary": {
           "aaxis": {
            "gridcolor": "white",
            "linecolor": "white",
            "ticks": ""
           },
           "baxis": {
            "gridcolor": "white",
            "linecolor": "white",
            "ticks": ""
           },
           "bgcolor": "#E5ECF6",
           "caxis": {
            "gridcolor": "white",
            "linecolor": "white",
            "ticks": ""
           }
          },
          "title": {
           "x": 0.05
          },
          "xaxis": {
           "automargin": true,
           "gridcolor": "white",
           "linecolor": "white",
           "ticks": "",
           "title": {
            "standoff": 15
           },
           "zerolinecolor": "white",
           "zerolinewidth": 2
          },
          "yaxis": {
           "automargin": true,
           "gridcolor": "white",
           "linecolor": "white",
           "ticks": "",
           "title": {
            "standoff": 15
           },
           "zerolinecolor": "white",
           "zerolinewidth": 2
          }
         }
        },
        "title": {
         "font": {
          "color": "#4D5663"
         }
        },
        "xaxis": {
         "gridcolor": "#E1E5ED",
         "showgrid": true,
         "tickfont": {
          "color": "#4D5663"
         },
         "title": {
          "font": {
           "color": "#4D5663"
          },
          "text": ""
         },
         "zerolinecolor": "#E1E5ED"
        },
        "yaxis": {
         "gridcolor": "#E1E5ED",
         "showgrid": true,
         "tickfont": {
          "color": "#4D5663"
         },
         "title": {
          "font": {
           "color": "#4D5663"
          },
          "text": ""
         },
         "zerolinecolor": "#E1E5ED"
        }
       }
      },
      "text/html": [
       "<div>\n",
       "        \n",
       "        \n",
       "            <div id=\"072ffef5-0ca5-47b6-b838-6c087a72c44c\" class=\"plotly-graph-div\" style=\"height:525px; width:100%;\"></div>\n",
       "            <script type=\"text/javascript\">\n",
       "                require([\"plotly\"], function(Plotly) {\n",
       "                    window.PLOTLYENV=window.PLOTLYENV || {};\n",
       "                    window.PLOTLYENV.BASE_URL='https://plot.ly';\n",
       "                    \n",
       "                if (document.getElementById(\"072ffef5-0ca5-47b6-b838-6c087a72c44c\")) {\n",
       "                    Plotly.newPlot(\n",
       "                        '072ffef5-0ca5-47b6-b838-6c087a72c44c',\n",
       "                        [{\"line\": {\"color\": \"rgba(255, 153, 51, 1.0)\", \"dash\": \"solid\", \"shape\": \"linear\", \"width\": 1.3}, \"mode\": \"lines\", \"name\": \"loss\", \"text\": \"\", \"type\": \"scatter\", \"x\": [0, 1, 2, 3, 4, 5, 6, 7, 8, 9, 10, 11, 12, 13, 14, 15, 16, 17, 18, 19, 20, 21, 22, 23, 24, 25, 26, 27, 28, 29, 30, 31, 32, 33, 34, 35, 36, 37, 38, 39, 40, 41, 42, 43, 44, 45, 46, 47, 48, 49, 50, 51, 52, 53, 54, 55, 56, 57, 58, 59, 60, 61, 62, 63, 64, 65, 66, 67, 68, 69, 70, 71, 72, 73, 74, 75, 76, 77, 78, 79, 80, 81, 82, 83, 84, 85, 86, 87, 88, 89, 90, 91, 92, 93, 94, 95, 96, 97, 98, 99, 100, 101, 102, 103], \"y\": [0.7601185004476091, 0.6958350637149363, 0.6602392728339899, 0.6481411112865931, 0.6273616854573639, 0.6172905972865825, 0.571851371599475, 0.5340173317233162, 0.5274781376263346, 0.5087057114207129, 0.4770965567776855, 0.4427262301176367, 0.4238334477227618, 0.41934408940060036, 0.4003840592545523, 0.3847409618292616, 0.3759171528995317, 0.3602806201703112, 0.33665373221809314, 0.3161927691088036, 0.3085262585134014, 0.29878512668497686, 0.2880519642516481, 0.27785971550874305, 0.2779234674335086, 0.29740012524553305, 0.2609366428964015, 0.26468368735111936, 0.263522681076202, 0.25838675746965295, 0.24021487343759043, 0.25088702317134876, 0.2189132013651127, 0.24186285980430566, 0.21917131067441661, 0.2182252243371077, 0.2186291541711825, 0.20806422318930917, 0.18576243869575537, 0.1956987502709241, 0.1984902346777804, 0.20446730289660708, 0.19484356185639967, 0.20641692605376805, 0.19782892142383146, 0.19631329624795577, 0.17663550586767598, 0.1581340447557924, 0.1809258837725075, 0.14165476692114637, 0.17237521611818685, 0.17018823752380874, 0.155672281630722, 0.16416422498058264, 0.1567455679877823, 0.1619837822069025, 0.1469085374628434, 0.15295532877456414, 0.1405467174142739, 0.1558283707695388, 0.14159589517914073, 0.15160260846217474, 0.1288997601595283, 0.14720137478530126, 0.11634611674177815, 0.14390452828765476, 0.14305793789560806, 0.12325093415981167, 0.13558285106235826, 0.11680963705403144, 0.13600252171707267, 0.12986834871936853, 0.11822982545190014, 0.1049220202044702, 0.12785725330522923, 0.13394865530057692, 0.11700322938986787, 0.11206794260813037, 0.12336403635186209, 0.11581709503497876, 0.11788001214044755, 0.10552870135911753, 0.09435529727051516, 0.12265477703770561, 0.11184344262304441, 0.1018128816230756, 0.12220891260764968, 0.10315869307853806, 0.11336334904944392, 0.1158873963873711, 0.1103273330719818, 0.10066915525586952, 0.10891822596111209, 0.10655889088209246, 0.1113986980100053, 0.09945503094106772, 0.1133616842381971, 0.09280243725843833, 0.11833721511240856, 0.09867202063821291, 0.10000860481195047, 0.11221968750316352, 0.10266769103740862, 0.10882243737928185]}, {\"line\": {\"color\": \"rgba(55, 128, 191, 1.0)\", \"dash\": \"solid\", \"shape\": \"linear\", \"width\": 1.3}, \"mode\": \"lines\", \"name\": \"val_loss\", \"text\": \"\", \"type\": \"scatter\", \"x\": [0, 1, 2, 3, 4, 5, 6, 7, 8, 9, 10, 11, 12, 13, 14, 15, 16, 17, 18, 19, 20, 21, 22, 23, 24, 25, 26, 27, 28, 29, 30, 31, 32, 33, 34, 35, 36, 37, 38, 39, 40, 41, 42, 43, 44, 45, 46, 47, 48, 49, 50, 51, 52, 53, 54, 55, 56, 57, 58, 59, 60, 61, 62, 63, 64, 65, 66, 67, 68, 69, 70, 71, 72, 73, 74, 75, 76, 77, 78, 79, 80, 81, 82, 83, 84, 85, 86, 87, 88, 89, 90, 91, 92, 93, 94, 95, 96, 97, 98, 99, 100, 101, 102, 103], \"y\": [0.6954738426875401, 0.6696995846875065, 0.6481135120758643, 0.6151518150643035, 0.5839124567858822, 0.5470007307879574, 0.5123339818490968, 0.47745061400053385, 0.4459273958956445, 0.41717869668573765, 0.39061028077885823, 0.3636911924068744, 0.3365047519857233, 0.31434005999064946, 0.2934329101255724, 0.2812907317510018, 0.26761782950871477, 0.2529471854229907, 0.2382125251151465, 0.22698268315175196, 0.21303255355858303, 0.20171318500192015, 0.19316951742955854, 0.18759446940221985, 0.1801946124622038, 0.1752567486642124, 0.1751714895863633, 0.16392182579615733, 0.16207960544974653, 0.15834381816895693, 0.16161310078797642, 0.1511050013603864, 0.1555182051200133, 0.138971384692859, 0.13840441833009254, 0.14660500047298577, 0.1366373019722792, 0.13121120256560664, 0.12798240687046852, 0.13705567400772256, 0.125705984609944, 0.11988779464801708, 0.1216502927921035, 0.1227311630557467, 0.12444359376713947, 0.11661486369329732, 0.12358981964888273, 0.11519064092552746, 0.11361414918324331, 0.10673049691465351, 0.11969095400788567, 0.10915031531578177, 0.10867055523749831, 0.11227976840797003, 0.11076369201699338, 0.11288621602254315, 0.10862948636075, 0.10906322154548619, 0.10649040442976085, 0.12751898914575577, 0.10316211396789217, 0.10407641394571825, 0.1127047431427282, 0.10079110546649753, 0.10120507397434929, 0.1100895684603211, 0.12527563219720667, 0.10004815058066295, 0.10525262730938571, 0.10670783930829356, 0.1160785785609192, 0.10119387343317479, 0.1041830112258871, 0.10527154680836451, 0.11230632167804491, 0.10233430754575697, 0.10400281932491523, 0.10459766164422035, 0.09442694576365965, 0.10362622829583976, 0.11056276181569466, 0.10326011280913452, 0.11508922112154794, 0.09674186960279525, 0.09956215978502393, 0.10545113714008064, 0.10445442798358577, 0.10321029140190645, 0.10501515570949842, 0.09858880580201015, 0.09990586561860738, 0.10509446385752905, 0.10510835491798141, 0.09655302411296984, 0.0998333233532372, 0.11572026414471073, 0.09610957300642153, 0.10612229588669497, 0.11205836982055978, 0.09668837274079556, 0.09787424742341876, 0.10306522198073514, 0.10977623413701157, 0.09840295083456106]}],\n",
       "                        {\"legend\": {\"bgcolor\": \"#F5F6F9\", \"font\": {\"color\": \"#4D5663\"}}, \"paper_bgcolor\": \"#F5F6F9\", \"plot_bgcolor\": \"#F5F6F9\", \"template\": {\"data\": {\"bar\": [{\"error_x\": {\"color\": \"#2a3f5f\"}, \"error_y\": {\"color\": \"#2a3f5f\"}, \"marker\": {\"line\": {\"color\": \"#E5ECF6\", \"width\": 0.5}}, \"type\": \"bar\"}], \"barpolar\": [{\"marker\": {\"line\": {\"color\": \"#E5ECF6\", \"width\": 0.5}}, \"type\": \"barpolar\"}], \"carpet\": [{\"aaxis\": {\"endlinecolor\": \"#2a3f5f\", \"gridcolor\": \"white\", \"linecolor\": \"white\", \"minorgridcolor\": \"white\", \"startlinecolor\": \"#2a3f5f\"}, \"baxis\": {\"endlinecolor\": \"#2a3f5f\", \"gridcolor\": \"white\", \"linecolor\": \"white\", \"minorgridcolor\": \"white\", \"startlinecolor\": \"#2a3f5f\"}, \"type\": \"carpet\"}], \"choropleth\": [{\"colorbar\": {\"outlinewidth\": 0, \"ticks\": \"\"}, \"type\": \"choropleth\"}], \"contour\": [{\"colorbar\": {\"outlinewidth\": 0, \"ticks\": \"\"}, \"colorscale\": [[0.0, \"#0d0887\"], [0.1111111111111111, \"#46039f\"], [0.2222222222222222, \"#7201a8\"], [0.3333333333333333, \"#9c179e\"], [0.4444444444444444, \"#bd3786\"], [0.5555555555555556, \"#d8576b\"], [0.6666666666666666, \"#ed7953\"], [0.7777777777777778, \"#fb9f3a\"], [0.8888888888888888, \"#fdca26\"], [1.0, \"#f0f921\"]], \"type\": \"contour\"}], \"contourcarpet\": [{\"colorbar\": {\"outlinewidth\": 0, \"ticks\": \"\"}, \"type\": \"contourcarpet\"}], \"heatmap\": [{\"colorbar\": {\"outlinewidth\": 0, \"ticks\": \"\"}, \"colorscale\": [[0.0, \"#0d0887\"], [0.1111111111111111, \"#46039f\"], [0.2222222222222222, \"#7201a8\"], [0.3333333333333333, \"#9c179e\"], [0.4444444444444444, \"#bd3786\"], [0.5555555555555556, \"#d8576b\"], [0.6666666666666666, \"#ed7953\"], [0.7777777777777778, \"#fb9f3a\"], [0.8888888888888888, \"#fdca26\"], [1.0, \"#f0f921\"]], \"type\": \"heatmap\"}], \"heatmapgl\": [{\"colorbar\": {\"outlinewidth\": 0, \"ticks\": \"\"}, \"colorscale\": [[0.0, \"#0d0887\"], [0.1111111111111111, \"#46039f\"], [0.2222222222222222, \"#7201a8\"], [0.3333333333333333, \"#9c179e\"], [0.4444444444444444, \"#bd3786\"], [0.5555555555555556, \"#d8576b\"], [0.6666666666666666, \"#ed7953\"], [0.7777777777777778, \"#fb9f3a\"], [0.8888888888888888, \"#fdca26\"], [1.0, \"#f0f921\"]], \"type\": \"heatmapgl\"}], \"histogram\": [{\"marker\": {\"colorbar\": {\"outlinewidth\": 0, \"ticks\": \"\"}}, \"type\": \"histogram\"}], \"histogram2d\": [{\"colorbar\": {\"outlinewidth\": 0, \"ticks\": \"\"}, \"colorscale\": [[0.0, \"#0d0887\"], [0.1111111111111111, \"#46039f\"], [0.2222222222222222, \"#7201a8\"], [0.3333333333333333, \"#9c179e\"], [0.4444444444444444, \"#bd3786\"], [0.5555555555555556, \"#d8576b\"], [0.6666666666666666, \"#ed7953\"], [0.7777777777777778, \"#fb9f3a\"], [0.8888888888888888, \"#fdca26\"], [1.0, \"#f0f921\"]], \"type\": \"histogram2d\"}], \"histogram2dcontour\": [{\"colorbar\": {\"outlinewidth\": 0, \"ticks\": \"\"}, \"colorscale\": [[0.0, \"#0d0887\"], [0.1111111111111111, \"#46039f\"], [0.2222222222222222, \"#7201a8\"], [0.3333333333333333, \"#9c179e\"], [0.4444444444444444, \"#bd3786\"], [0.5555555555555556, \"#d8576b\"], [0.6666666666666666, \"#ed7953\"], [0.7777777777777778, \"#fb9f3a\"], [0.8888888888888888, \"#fdca26\"], [1.0, \"#f0f921\"]], \"type\": \"histogram2dcontour\"}], \"mesh3d\": [{\"colorbar\": {\"outlinewidth\": 0, \"ticks\": \"\"}, \"type\": \"mesh3d\"}], \"parcoords\": [{\"line\": {\"colorbar\": {\"outlinewidth\": 0, \"ticks\": \"\"}}, \"type\": \"parcoords\"}], \"pie\": [{\"automargin\": true, \"type\": \"pie\"}], \"scatter\": [{\"marker\": {\"colorbar\": {\"outlinewidth\": 0, \"ticks\": \"\"}}, \"type\": \"scatter\"}], \"scatter3d\": [{\"line\": {\"colorbar\": {\"outlinewidth\": 0, \"ticks\": \"\"}}, \"marker\": {\"colorbar\": {\"outlinewidth\": 0, \"ticks\": \"\"}}, \"type\": \"scatter3d\"}], \"scattercarpet\": [{\"marker\": {\"colorbar\": {\"outlinewidth\": 0, \"ticks\": \"\"}}, \"type\": \"scattercarpet\"}], \"scattergeo\": [{\"marker\": {\"colorbar\": {\"outlinewidth\": 0, \"ticks\": \"\"}}, \"type\": \"scattergeo\"}], \"scattergl\": [{\"marker\": {\"colorbar\": {\"outlinewidth\": 0, \"ticks\": \"\"}}, \"type\": \"scattergl\"}], \"scattermapbox\": [{\"marker\": {\"colorbar\": {\"outlinewidth\": 0, \"ticks\": \"\"}}, \"type\": \"scattermapbox\"}], \"scatterpolar\": [{\"marker\": {\"colorbar\": {\"outlinewidth\": 0, \"ticks\": \"\"}}, \"type\": \"scatterpolar\"}], \"scatterpolargl\": [{\"marker\": {\"colorbar\": {\"outlinewidth\": 0, \"ticks\": \"\"}}, \"type\": \"scatterpolargl\"}], \"scatterternary\": [{\"marker\": {\"colorbar\": {\"outlinewidth\": 0, \"ticks\": \"\"}}, \"type\": \"scatterternary\"}], \"surface\": [{\"colorbar\": {\"outlinewidth\": 0, \"ticks\": \"\"}, \"colorscale\": [[0.0, \"#0d0887\"], [0.1111111111111111, \"#46039f\"], [0.2222222222222222, \"#7201a8\"], [0.3333333333333333, \"#9c179e\"], [0.4444444444444444, \"#bd3786\"], [0.5555555555555556, \"#d8576b\"], [0.6666666666666666, \"#ed7953\"], [0.7777777777777778, \"#fb9f3a\"], [0.8888888888888888, \"#fdca26\"], [1.0, \"#f0f921\"]], \"type\": \"surface\"}], \"table\": [{\"cells\": {\"fill\": {\"color\": \"#EBF0F8\"}, \"line\": {\"color\": \"white\"}}, \"header\": {\"fill\": {\"color\": \"#C8D4E3\"}, \"line\": {\"color\": \"white\"}}, \"type\": \"table\"}]}, \"layout\": {\"annotationdefaults\": {\"arrowcolor\": \"#2a3f5f\", \"arrowhead\": 0, \"arrowwidth\": 1}, \"coloraxis\": {\"colorbar\": {\"outlinewidth\": 0, \"ticks\": \"\"}}, \"colorscale\": {\"diverging\": [[0, \"#8e0152\"], [0.1, \"#c51b7d\"], [0.2, \"#de77ae\"], [0.3, \"#f1b6da\"], [0.4, \"#fde0ef\"], [0.5, \"#f7f7f7\"], [0.6, \"#e6f5d0\"], [0.7, \"#b8e186\"], [0.8, \"#7fbc41\"], [0.9, \"#4d9221\"], [1, \"#276419\"]], \"sequential\": [[0.0, \"#0d0887\"], [0.1111111111111111, \"#46039f\"], [0.2222222222222222, \"#7201a8\"], [0.3333333333333333, \"#9c179e\"], [0.4444444444444444, \"#bd3786\"], [0.5555555555555556, \"#d8576b\"], [0.6666666666666666, \"#ed7953\"], [0.7777777777777778, \"#fb9f3a\"], [0.8888888888888888, \"#fdca26\"], [1.0, \"#f0f921\"]], \"sequentialminus\": [[0.0, \"#0d0887\"], [0.1111111111111111, \"#46039f\"], [0.2222222222222222, \"#7201a8\"], [0.3333333333333333, \"#9c179e\"], [0.4444444444444444, \"#bd3786\"], [0.5555555555555556, \"#d8576b\"], [0.6666666666666666, \"#ed7953\"], [0.7777777777777778, \"#fb9f3a\"], [0.8888888888888888, \"#fdca26\"], [1.0, \"#f0f921\"]]}, \"colorway\": [\"#636efa\", \"#EF553B\", \"#00cc96\", \"#ab63fa\", \"#FFA15A\", \"#19d3f3\", \"#FF6692\", \"#B6E880\", \"#FF97FF\", \"#FECB52\"], \"font\": {\"color\": \"#2a3f5f\"}, \"geo\": {\"bgcolor\": \"white\", \"lakecolor\": \"white\", \"landcolor\": \"#E5ECF6\", \"showlakes\": true, \"showland\": true, \"subunitcolor\": \"white\"}, \"hoverlabel\": {\"align\": \"left\"}, \"hovermode\": \"closest\", \"mapbox\": {\"style\": \"light\"}, \"paper_bgcolor\": \"white\", \"plot_bgcolor\": \"#E5ECF6\", \"polar\": {\"angularaxis\": {\"gridcolor\": \"white\", \"linecolor\": \"white\", \"ticks\": \"\"}, \"bgcolor\": \"#E5ECF6\", \"radialaxis\": {\"gridcolor\": \"white\", \"linecolor\": \"white\", \"ticks\": \"\"}}, \"scene\": {\"xaxis\": {\"backgroundcolor\": \"#E5ECF6\", \"gridcolor\": \"white\", \"gridwidth\": 2, \"linecolor\": \"white\", \"showbackground\": true, \"ticks\": \"\", \"zerolinecolor\": \"white\"}, \"yaxis\": {\"backgroundcolor\": \"#E5ECF6\", \"gridcolor\": \"white\", \"gridwidth\": 2, \"linecolor\": \"white\", \"showbackground\": true, \"ticks\": \"\", \"zerolinecolor\": \"white\"}, \"zaxis\": {\"backgroundcolor\": \"#E5ECF6\", \"gridcolor\": \"white\", \"gridwidth\": 2, \"linecolor\": \"white\", \"showbackground\": true, \"ticks\": \"\", \"zerolinecolor\": \"white\"}}, \"shapedefaults\": {\"line\": {\"color\": \"#2a3f5f\"}}, \"ternary\": {\"aaxis\": {\"gridcolor\": \"white\", \"linecolor\": \"white\", \"ticks\": \"\"}, \"baxis\": {\"gridcolor\": \"white\", \"linecolor\": \"white\", \"ticks\": \"\"}, \"bgcolor\": \"#E5ECF6\", \"caxis\": {\"gridcolor\": \"white\", \"linecolor\": \"white\", \"ticks\": \"\"}}, \"title\": {\"x\": 0.05}, \"xaxis\": {\"automargin\": true, \"gridcolor\": \"white\", \"linecolor\": \"white\", \"ticks\": \"\", \"title\": {\"standoff\": 15}, \"zerolinecolor\": \"white\", \"zerolinewidth\": 2}, \"yaxis\": {\"automargin\": true, \"gridcolor\": \"white\", \"linecolor\": \"white\", \"ticks\": \"\", \"title\": {\"standoff\": 15}, \"zerolinecolor\": \"white\", \"zerolinewidth\": 2}}}, \"title\": {\"font\": {\"color\": \"#4D5663\"}}, \"xaxis\": {\"gridcolor\": \"#E1E5ED\", \"showgrid\": true, \"tickfont\": {\"color\": \"#4D5663\"}, \"title\": {\"font\": {\"color\": \"#4D5663\"}, \"text\": \"\"}, \"zerolinecolor\": \"#E1E5ED\"}, \"yaxis\": {\"gridcolor\": \"#E1E5ED\", \"showgrid\": true, \"tickfont\": {\"color\": \"#4D5663\"}, \"title\": {\"font\": {\"color\": \"#4D5663\"}, \"text\": \"\"}, \"zerolinecolor\": \"#E1E5ED\"}},\n",
       "                        {\"showLink\": true, \"linkText\": \"Export to plot.ly\", \"plotlyServerURL\": \"https://plot.ly\", \"responsive\": true}\n",
       "                    ).then(function(){\n",
       "                            \n",
       "var gd = document.getElementById('072ffef5-0ca5-47b6-b838-6c087a72c44c');\n",
       "var x = new MutationObserver(function (mutations, observer) {{\n",
       "        var display = window.getComputedStyle(gd).display;\n",
       "        if (!display || display === 'none') {{\n",
       "            console.log([gd, 'removed!']);\n",
       "            Plotly.purge(gd);\n",
       "            observer.disconnect();\n",
       "        }}\n",
       "}});\n",
       "\n",
       "// Listen for the removal of the full notebook cells\n",
       "var notebookContainer = gd.closest('#notebook-container');\n",
       "if (notebookContainer) {{\n",
       "    x.observe(notebookContainer, {childList: true});\n",
       "}}\n",
       "\n",
       "// Listen for the clearing of the current output cell\n",
       "var outputEl = gd.closest('.output');\n",
       "if (outputEl) {{\n",
       "    x.observe(outputEl, {childList: true});\n",
       "}}\n",
       "\n",
       "                        })\n",
       "                };\n",
       "                });\n",
       "            </script>\n",
       "        </div>"
      ]
     },
     "metadata": {},
     "output_type": "display_data"
    }
   ],
   "source": [
    "model_loss = pd.DataFrame(model.history.history)\n",
    "model_loss.iplot()"
   ]
  },
  {
   "cell_type": "code",
   "execution_count": 68,
   "metadata": {},
   "outputs": [],
   "source": [
    "pred = model.predict_classes(X_test)"
   ]
  },
  {
   "cell_type": "code",
   "execution_count": 69,
   "metadata": {},
   "outputs": [],
   "source": [
    "from sklearn.metrics import classification_report, confusion_matrix"
   ]
  },
  {
   "cell_type": "code",
   "execution_count": 70,
   "metadata": {},
   "outputs": [
    {
     "name": "stdout",
     "output_type": "stream",
     "text": [
      "              precision    recall  f1-score   support\n",
      "\n",
      "           0       0.98      0.98      0.98        55\n",
      "           1       0.99      0.99      0.99        88\n",
      "\n",
      "    accuracy                           0.99       143\n",
      "   macro avg       0.99      0.99      0.99       143\n",
      "weighted avg       0.99      0.99      0.99       143\n",
      "\n"
     ]
    }
   ],
   "source": [
    "print(classification_report(y_test, pred))"
   ]
  },
  {
   "cell_type": "code",
   "execution_count": 71,
   "metadata": {},
   "outputs": [
    {
     "name": "stdout",
     "output_type": "stream",
     "text": [
      "[[54  1]\n",
      " [ 1 87]]\n"
     ]
    }
   ],
   "source": [
    "print(confusion_matrix(y_test, pred))"
   ]
  },
  {
   "cell_type": "code",
   "execution_count": null,
   "metadata": {},
   "outputs": [],
   "source": []
  }
 ],
 "metadata": {
  "kernelspec": {
   "display_name": "Python 3",
   "language": "python",
   "name": "python3"
  },
  "language_info": {
   "codemirror_mode": {
    "name": "ipython",
    "version": 3
   },
   "file_extension": ".py",
   "mimetype": "text/x-python",
   "name": "python",
   "nbconvert_exporter": "python",
   "pygments_lexer": "ipython3",
   "version": "3.6.10"
  }
 },
 "nbformat": 4,
 "nbformat_minor": 4
}
